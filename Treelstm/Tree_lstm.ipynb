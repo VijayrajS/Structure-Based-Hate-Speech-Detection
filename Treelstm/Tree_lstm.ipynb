{
  "nbformat": 4,
  "nbformat_minor": 0,
  "metadata": {
    "accelerator": "GPU",
    "colab": {
      "name": "tree_lstm.ipynb",
      "provenance": [],
      "toc_visible": true
    },
    "kernelspec": {
      "display_name": "Python 3",
      "language": "python",
      "name": "python3"
    },
    "language_info": {
      "codemirror_mode": {
        "name": "ipython",
        "version": 3
      },
      "file_extension": ".py",
      "mimetype": "text/x-python",
      "name": "python",
      "nbconvert_exporter": "python",
      "pygments_lexer": "ipython3",
      "version": "3.5.2"
    }
  },
  "cells": [
    {
      "cell_type": "code",
      "metadata": {
        "id": "oZzhBbG9HBqO",
        "outputId": "a736fda6-fa8a-42ff-b295-e8f82e8abb36",
        "colab": {
          "base_uri": "https://localhost:8080/"
        }
      },
      "source": [
        "!pip install PyDrive\n",
        "\n",
        "import os\n",
        "from pydrive.auth import GoogleAuth\n",
        "from pydrive.drive import GoogleDrive\n",
        "from google.colab import auth\n",
        "from oauth2client.client import GoogleCredentials\n",
        "\n",
        "auth.authenticate_user()\n",
        "gauth = GoogleAuth()\n",
        "gauth.credentials = GoogleCredentials.get_application_default()\n",
        "drive = GoogleDrive(gauth)"
      ],
      "execution_count": 1,
      "outputs": [
        {
          "output_type": "stream",
          "text": [
            "Requirement already satisfied: PyDrive in /usr/local/lib/python3.6/dist-packages (1.3.1)\n",
            "Requirement already satisfied: PyYAML>=3.0 in /usr/local/lib/python3.6/dist-packages (from PyDrive) (3.13)\n",
            "Requirement already satisfied: google-api-python-client>=1.2 in /usr/local/lib/python3.6/dist-packages (from PyDrive) (1.7.12)\n",
            "Requirement already satisfied: oauth2client>=4.0.0 in /usr/local/lib/python3.6/dist-packages (from PyDrive) (4.1.3)\n",
            "Requirement already satisfied: google-auth-httplib2>=0.0.3 in /usr/local/lib/python3.6/dist-packages (from google-api-python-client>=1.2->PyDrive) (0.0.4)\n",
            "Requirement already satisfied: six<2dev,>=1.6.1 in /usr/local/lib/python3.6/dist-packages (from google-api-python-client>=1.2->PyDrive) (1.15.0)\n",
            "Requirement already satisfied: uritemplate<4dev,>=3.0.0 in /usr/local/lib/python3.6/dist-packages (from google-api-python-client>=1.2->PyDrive) (3.0.1)\n",
            "Requirement already satisfied: httplib2<1dev,>=0.17.0 in /usr/local/lib/python3.6/dist-packages (from google-api-python-client>=1.2->PyDrive) (0.17.4)\n",
            "Requirement already satisfied: google-auth>=1.4.1 in /usr/local/lib/python3.6/dist-packages (from google-api-python-client>=1.2->PyDrive) (1.17.2)\n",
            "Requirement already satisfied: rsa>=3.1.4 in /usr/local/lib/python3.6/dist-packages (from oauth2client>=4.0.0->PyDrive) (4.6)\n",
            "Requirement already satisfied: pyasn1>=0.1.7 in /usr/local/lib/python3.6/dist-packages (from oauth2client>=4.0.0->PyDrive) (0.4.8)\n",
            "Requirement already satisfied: pyasn1-modules>=0.0.5 in /usr/local/lib/python3.6/dist-packages (from oauth2client>=4.0.0->PyDrive) (0.2.8)\n",
            "Requirement already satisfied: setuptools>=40.3.0 in /usr/local/lib/python3.6/dist-packages (from google-auth>=1.4.1->google-api-python-client>=1.2->PyDrive) (50.3.2)\n",
            "Requirement already satisfied: cachetools<5.0,>=2.0.0 in /usr/local/lib/python3.6/dist-packages (from google-auth>=1.4.1->google-api-python-client>=1.2->PyDrive) (4.1.1)\n"
          ],
          "name": "stdout"
        }
      ]
    },
    {
      "cell_type": "code",
      "metadata": {
        "id": "AhEVB-o4Ha5U",
        "outputId": "869775f7-954f-410c-feb4-6ef0e18588b0",
        "colab": {
          "base_uri": "https://localhost:8080/"
        }
      },
      "source": [
        "from google.colab import drive\n",
        "drive.mount('/content/drive')"
      ],
      "execution_count": 2,
      "outputs": [
        {
          "output_type": "stream",
          "text": [
            "Mounted at /content/drive\n"
          ],
          "name": "stdout"
        }
      ]
    },
    {
      "cell_type": "code",
      "metadata": {
        "id": "BFLmXNK7lCdW"
      },
      "source": [
        "from __future__ import division\n",
        "from __future__ import print_function\n",
        "\n",
        "import os\n",
        "import random\n",
        "\n",
        "import torch\n",
        "import torch.nn as nn\n",
        "import torch.optim as optim\n",
        "from treelstm import Constants\n",
        "from treelstm import Vocab\n",
        "from treelstm import HATEDataset\n",
        "from treelstm import Metrics\n",
        "from treelstm import utils\n",
        "from config import parse_args\n",
        "\n",
        "from tqdm import tqdm\n",
        "\n",
        "import torch\n",
        "import torch.nn.functional as F\n",
        "\n",
        "from sklearn.metrics import f1_score\n",
        "from sklearn.metrics import recall_score\n",
        "from sklearn.metrics import precision_score\n",
        "from sklearn.metrics import accuracy_score\n"
      ],
      "execution_count": 3,
      "outputs": []
    },
    {
      "cell_type": "code",
      "metadata": {
        "id": "atsIlw9XKGSl"
      },
      "source": [
        "class ChildSumTreeLSTM(nn.Module):\n",
        "    def __init__(self, in_dim, mem_dim):\n",
        "        super(ChildSumTreeLSTM, self).__init__()\n",
        "        self.in_dim = in_dim\n",
        "        self.mem_dim = mem_dim\n",
        "        self.ioux = nn.Linear(self.in_dim, 3 * self.mem_dim)\n",
        "        self.iouh = nn.Linear(self.mem_dim, 3 * self.mem_dim)\n",
        "        self.fx = nn.Linear(self.in_dim, self.mem_dim)\n",
        "        self.fh = nn.Linear(self.mem_dim, self.mem_dim)\n",
        "\n",
        "    def node_forward(self, inputs, child_c, child_h):\n",
        "        child_h_sum = torch.sum(child_h, dim=0, keepdim=True)\n",
        "\n",
        "        iou = self.ioux(inputs) + self.iouh(child_h_sum)\n",
        "        i, o, u = torch.split(iou, iou.size(1) // 3, dim=1)\n",
        "        i, o, u = torch.sigmoid(i), torch.sigmoid(o), torch.tanh(u)\n",
        "\n",
        "        f = torch.sigmoid(\n",
        "            self.fh(child_h) +\n",
        "            self.fx(inputs).repeat(len(child_h), 1)\n",
        "        )\n",
        "        fc = torch.mul(f, child_c)\n",
        "\n",
        "        c = torch.mul(i, u) + torch.sum(fc, dim=0, keepdim=True)\n",
        "        h = torch.mul(o, torch.tanh(c))\n",
        "        return c, h\n",
        "\n",
        "    def forward(self, tree, inputs):\n",
        "        for idx in range(tree.num_children):\n",
        "            self.forward(tree.children[idx], inputs)\n",
        "\n",
        "        if tree.num_children == 0:\n",
        "            child_c = inputs[0].detach().new(1, self.mem_dim).fill_(0.).requires_grad_()\n",
        "            child_h = inputs[0].detach().new(1, self.mem_dim).fill_(0.).requires_grad_()\n",
        "        else:\n",
        "            child_c, child_h = zip(* map(lambda x: x.state, tree.children))\n",
        "            child_c, child_h = torch.cat(child_c, dim=0), torch.cat(child_h, dim=0)\n",
        "        tree.state = self.node_forward(inputs[tree.idx], child_c, child_h)\n",
        "        return tree.state\n"
      ],
      "execution_count": 30,
      "outputs": []
    },
    {
      "cell_type": "code",
      "metadata": {
        "id": "i28kINADlCd1"
      },
      "source": [
        "class Predict(nn.Module):\n",
        "    def __init__(self, mem_dim,hidden_dim,num_classes):\n",
        "        super(Predict, self).__init__()\n",
        "        self.mem_dim = mem_dim\n",
        "        self.hidden_dim = hidden_dim \n",
        "        self.num_classes = num_classes\n",
        "        self.wh = nn.Linear(self.mem_dim, self.hidden_dim)\n",
        "        self.wp = nn.Linear(self.hidden_dim, self.num_classes)\n",
        "    def forward(self,vec):\n",
        "        out = F.relu(self.wh(vec))\n",
        "        out = self.wp(out)\n",
        "        return out\n",
        "\n",
        "\n",
        "\n",
        "class SimilarityTreeLSTM(nn.Module):\n",
        "    def __init__(self, vocab_size, in_dim, mem_dim, hidden_dim, num_classes, sparsity, freeze):\n",
        "        super(SimilarityTreeLSTM, self).__init__()\n",
        "        self.emb = nn.Embedding(vocab_size, in_dim, padding_idx=Constants.PAD, sparse=sparsity)\n",
        "        if freeze:\n",
        "            self.emb.weight.requires_grad = False\n",
        "        self.childsumtreelstm = ChildSumTreeLSTM(in_dim, mem_dim)\n",
        "        self.predict = Predict(mem_dim, hidden_dim, num_classes)\n",
        "\n",
        "    def forward(self, ltree, linputs):\n",
        "        linputs = self.emb(linputs)\n",
        "        lstate, lhidden = self.childsumtreelstm(ltree, linputs)\n",
        "        output = self.predict(lstate)\n",
        "        return output"
      ],
      "execution_count": 31,
      "outputs": []
    },
    {
      "cell_type": "markdown",
      "metadata": {
        "id": "IP1P9q_IJpFo"
      },
      "source": [
        "## Initialization"
      ]
    },
    {
      "cell_type": "code",
      "metadata": {
        "id": "zVYNCg17lCeC"
      },
      "source": [
        "class args_init():\n",
        "    def __init__(self):\n",
        "        self.seed=123\n",
        "        self.data='hate_data/'\n",
        "        self.glove='/content/drive/MyDrive/'\n",
        "        self.save='checkpoints/attention/'\n",
        "        self.expname='test'\n",
        "        self.input_dim=300\n",
        "        self.mem_dim=150\n",
        "        self.hidden_dim=50\n",
        "        self.num_classes=3\n",
        "        self.epochs=15\n",
        "        self.batch_size=15\n",
        "        self.lr=0.01\n",
        "        self.sparse=False\n",
        "        self.wd=1e-4\n",
        "        self.freeze_embed=False\n",
        "        self.optim='adagrad'\n",
        "        self.cuda=True"
      ],
      "execution_count": 8,
      "outputs": []
    },
    {
      "cell_type": "code",
      "metadata": {
        "id": "exXRhDFDlCeL"
      },
      "source": [
        "class Trainer(object):\n",
        "    def __init__(self, args, model, criterion, optimizer, device):\n",
        "        super(Trainer, self).__init__()\n",
        "        self.args = args\n",
        "        self.model = model\n",
        "        self.criterion = criterion\n",
        "        self.optimizer = optimizer\n",
        "        self.device = device\n",
        "        self.epoch = 0\n",
        "\n",
        "    def train(self, dataset):\n",
        "        error_count=0\n",
        "        self.model.train()\n",
        "        self.optimizer.zero_grad()\n",
        "        total_loss = 0.0\n",
        "        indices = torch.randperm(len(dataset), dtype=torch.long, device='cpu')\n",
        "        for idx in range(len(dataset)):\n",
        "            tree, sentence, label, tweet = dataset[indices[idx]]\n",
        "            target = utils.map_label_to_target(label, 3)\n",
        "            sentence = sentence.to(self.device)\n",
        "            target = target.to(self.device)\n",
        "            output = self.model(tree, sentence)\n",
        "            loss = self.criterion(output, target)\n",
        "            total_loss += loss.item()\n",
        "            loss.backward()\n",
        "            if idx % self.args.batch_size == 0 and idx > 0:\n",
        "                self.optimizer.step()\n",
        "                self.optimizer.zero_grad()\n",
        "\n",
        "        self.epoch += 1\n",
        "        return total_loss / len(dataset)\n",
        "        \n",
        "    def test(self, dataset):\n",
        "        self.model.eval()\n",
        "        with torch.no_grad():\n",
        "            error_count=0\n",
        "            total_loss = 0.0\n",
        "            predictions = torch.zeros(len(dataset), dtype=torch.float, device='cpu')\n",
        "            accuracy=0\n",
        "            for idx in tqdm(range(len(dataset)), desc='Testing epoch  ' + str(self.epoch) + ''):\n",
        "                ltree, linput, label,tweet = dataset[idx]\n",
        "                target = utils.map_label_to_target(label, 3)\n",
        "                linput= linput.to(self.device)\n",
        "                target = target.to(self.device)\n",
        "                output = self.model(ltree, linput)\n",
        "                loss = self.criterion(output, target)\n",
        "                total_loss += loss.item()\n",
        "                output = output.squeeze().to('cpu')\n",
        "                predictions[idx] = torch.argmax(F.softmax(output))\n",
        "        return total_loss / len(dataset), predictions\n"
      ],
      "execution_count": 9,
      "outputs": []
    },
    {
      "cell_type": "code",
      "metadata": {
        "id": "XuZICD3blCeU"
      },
      "source": [
        "args=args_init()"
      ],
      "execution_count": 10,
      "outputs": []
    },
    {
      "cell_type": "code",
      "metadata": {
        "id": "H9M-O4SblCec",
        "outputId": "7aa46727-7cd7-418b-ea03-4896208ca32c",
        "colab": {
          "base_uri": "https://localhost:8080/"
        }
      },
      "source": [
        "\n",
        "device = torch.device('cuda' if torch.cuda.is_available() else 'cpu')\n",
        "\n",
        "torch.manual_seed(args.seed)\n",
        "random.seed(args.seed)\n",
        "if args.cuda:\n",
        "    torch.cuda.manual_seed(args.seed)\n",
        "    torch.backends.cudnn.benchmark = True\n",
        "if not os.path.exists(args.save):\n",
        "    os.makedirs(args.save)\n",
        "\n",
        "train_dir = os.path.join(args.data, 'train/')\n",
        "dev_dir = os.path.join(args.data, 'dev/')\n",
        "test_dir = os.path.join(args.data, 'test/')\n",
        "\n",
        "hate_vocab_file = os.path.join(args.data, 'hate.vocab')\n",
        "if not os.path.isfile(hate_vocab_file):\n",
        "    token_files = [os.path.join(split, 'data.toks') for split in [train_dir, dev_dir, test_dir]]\n",
        "\n",
        "    hate_vocab_file = os.path.join(args.data, 'hate.vocab')\n",
        "    utils.build_vocab(token_files, hate_vocab_file)\n",
        "\n",
        "vocab = Vocab(filename=hate_vocab_file,\n",
        "              data=[Constants.PAD_WORD, Constants.UNK_WORD,\n",
        "                    Constants.BOS_WORD, Constants.EOS_WORD])\n",
        "print('==> HATE vocabulary size : %d ' % vocab.size())\n",
        "\n",
        "train_file = os.path.join(args.data, 'hate_train.pth')\n",
        "if os.path.isfile(train_file):\n",
        "    train_dataset = torch.load(train_file)\n",
        "else:\n",
        "    train_dataset = HATEDataset(train_dir, vocab, args.num_classes)\n",
        "    torch.save(train_dataset, train_file)\n",
        "print('==> Size of train data   : %d ' % len(train_dataset))\n",
        "dev_file = os.path.join(args.data, 'hate_dev.pth')\n",
        "if os.path.isfile(dev_file):\n",
        "    dev_dataset = torch.load(dev_file)\n",
        "else:\n",
        "    dev_dataset = HATEDataset(dev_dir, vocab, args.num_classes)\n",
        "    torch.save(dev_dataset, dev_file)\n",
        "print('==> Size of dev data     : %d ' % len(dev_dataset))\n",
        "test_file = os.path.join(args.data, 'hate_test.pth')\n",
        "if os.path.isfile(test_file):\n",
        "    test_dataset = torch.load(test_file)\n",
        "else:\n",
        "    test_dataset = HATEDataset(test_dir, vocab, args.num_classes)\n",
        "    torch.save(test_dataset, test_file)\n",
        "print('==> Size of test data    : %d ' % len(test_dataset))"
      ],
      "execution_count": 11,
      "outputs": [
        {
          "output_type": "stream",
          "text": [
            "==> HATE vocabulary size : 35288 \n",
            "==> Size of train data   : 19826 \n",
            "==> Size of dev data     : 2478 \n",
            "==> Size of test data    : 2479 \n"
          ],
          "name": "stdout"
        }
      ]
    },
    {
      "cell_type": "markdown",
      "metadata": {
        "id": "ySnTFHnBlCek"
      },
      "source": [
        "## MODEL"
      ]
    },
    {
      "cell_type": "code",
      "metadata": {
        "id": "4_0wZphHlCel",
        "outputId": "52e59293-5f76-4fa7-a7db-978f6f6e2b26",
        "colab": {
          "base_uri": "https://localhost:8080/"
        }
      },
      "source": [
        "model = SimilarityTreeLSTM(\n",
        "        vocab.size(),\n",
        "        args.input_dim,\n",
        "        args.mem_dim,\n",
        "        args.hidden_dim,\n",
        "        args.num_classes,\n",
        "        args.sparse,\n",
        "        args.freeze_embed)\n",
        "criterion =nn.BCEWithLogitsLoss()\n",
        "model.cuda()"
      ],
      "execution_count": 12,
      "outputs": [
        {
          "output_type": "execute_result",
          "data": {
            "text/plain": [
              "SimilarityTreeLSTM(\n",
              "  (emb): Embedding(35288, 300, padding_idx=0)\n",
              "  (childsumtreelstm): ChildSumTreeLSTM(\n",
              "    (ioux): Linear(in_features=300, out_features=450, bias=True)\n",
              "    (iouh): Linear(in_features=150, out_features=450, bias=True)\n",
              "    (fx): Linear(in_features=300, out_features=150, bias=True)\n",
              "    (fh): Linear(in_features=150, out_features=150, bias=True)\n",
              "  )\n",
              "  (predict): Predict(\n",
              "    (wh): Linear(in_features=150, out_features=50, bias=True)\n",
              "    (wp): Linear(in_features=50, out_features=3, bias=True)\n",
              "  )\n",
              ")"
            ]
          },
          "metadata": {
            "tags": []
          },
          "execution_count": 12
        }
      ]
    },
    {
      "cell_type": "markdown",
      "metadata": {
        "id": "eCwb0FwWJvi3"
      },
      "source": [
        "## GloVe embedding"
      ]
    },
    {
      "cell_type": "code",
      "metadata": {
        "id": "62ggO651lCer"
      },
      "source": [
        "emb_file = os.path.join(args.data, 'hate_embed.pth')\n",
        "if os.path.isfile(emb_file):\n",
        "    emb = torch.load(emb_file)\n",
        "else:\n",
        "    glove_vocab, glove_emb = utils.load_word_vectors(\n",
        "        os.path.join(args.glove, 'glove.840B.300d'))\n",
        "    print('==> GLOVE vocabulary size: %d ' % glove_vocab.size())\n",
        "    emb = torch.zeros(vocab.size(), glove_emb.size(1), dtype=torch.float, device=device)\n",
        "    emb.normal_(0, 0.05)\n",
        "    for idx, item in enumerate([Constants.PAD_WORD, Constants.UNK_WORD,\n",
        "                                Constants.BOS_WORD, Constants.EOS_WORD]):\n",
        "        emb[idx].zero_()\n",
        "    for word in vocab.labelToIdx.keys():\n",
        "        if glove_vocab.getIndex(word):\n",
        "            emb[vocab.getIndex(word)] = glove_emb[glove_vocab.getIndex(word)]\n",
        "    torch.save(emb, emb_file)\n",
        "\n",
        "model.emb.weight.data.copy_(emb)\n",
        "\n",
        "model.to(device), criterion.to(device)\n",
        "if args.optim == 'adam':\n",
        "    optimizer = optim.Adam(filter(lambda p: p.requires_grad,\n",
        "                                  model.parameters()), lr=args.lr, weight_decay=args.wd)\n",
        "elif args.optim == 'adagrad':\n",
        "    optimizer = optim.Adagrad(filter(lambda p: p.requires_grad,\n",
        "                                     model.parameters()), lr=args.lr, weight_decay=args.wd)\n",
        "elif args.optim == 'sgd':\n",
        "    optimizer = optim.SGD(filter(lambda p: p.requires_grad,\n",
        "                                 model.parameters()), lr=args.lr, weight_decay=args.wd)\n",
        "metrics = Metrics(args.num_classes)"
      ],
      "execution_count": 13,
      "outputs": []
    },
    {
      "cell_type": "markdown",
      "metadata": {
        "id": "pQZF47gPpOie"
      },
      "source": [
        "## Training the model"
      ]
    },
    {
      "cell_type": "code",
      "metadata": {
        "id": "FXEebpM3h3NI",
        "outputId": "6678316b-9672-4117-80d1-7c37cee6a557",
        "colab": {
          "base_uri": "https://localhost:8080/"
        }
      },
      "source": [
        "trainer = Trainer(args, model, criterion, optimizer, device)\n",
        "\n",
        "for epoch in range(args.epochs):\n",
        "        train_loss = trainer.train(train_dataset)\n",
        "        train_loss, train_pred = trainer.test(train_dataset)\n",
        "        dev_loss, dev_pred = trainer.test(dev_dataset)\n",
        "        test_loss, test_pred = trainer.test(test_dataset)\n",
        "\n",
        "        train_pearson = metrics.pearson(train_pred, train_dataset.labels)\n",
        "        train_mse = metrics.mse(train_pred, train_dataset.labels)\n",
        "        print('==> Epoch {}, Train \\tLoss: {}\\tPearson: {}\\tMSE: {}'.format(\n",
        "            epoch, train_loss, train_pearson, train_mse))\n",
        "        dev_pearson = metrics.pearson(dev_pred, dev_dataset.labels)\n",
        "        dev_mse = metrics.mse(dev_pred, dev_dataset.labels)\n",
        "        print('==> Epoch {}, Dev \\tLoss: {}\\tPearson: {}\\tMSE: {}'.format(\n",
        "            epoch, dev_loss, dev_pearson, dev_mse))\n",
        "        test_pearson = metrics.pearson(test_pred, test_dataset.labels)\n",
        "        test_mse = metrics.mse(test_pred, test_dataset.labels)\n",
        "        print('==> Epoch {}, Test \\tLoss: {}\\tPearson: {}\\tMSE: {}'.format(\n",
        "            epoch, test_loss, test_pearson, test_mse))\n"
      ],
      "execution_count": 14,
      "outputs": [
        {
          "output_type": "stream",
          "text": [
            "Testing epoch  1:   0%|          | 0/19826 [00:00<?, ?it/s]/usr/local/lib/python3.6/dist-packages/ipykernel_launcher.py:51: UserWarning: Implicit dimension choice for softmax has been deprecated. Change the call to include dim=X as an argument.\n",
            "Testing epoch  1: 100%|██████████| 19826/19826 [02:50<00:00, 116.34it/s]\n",
            "Testing epoch  1: 100%|██████████| 2478/2478 [00:21<00:00, 115.30it/s]\n",
            "Testing epoch  1: 100%|██████████| 2479/2479 [00:21<00:00, 117.17it/s]\n"
          ],
          "name": "stderr"
        },
        {
          "output_type": "stream",
          "text": [
            "==> Epoch 0, Train \tLoss: 0.13215222259597081\tPearson: 0.784631609916687\tMSE: 0.08720871806144714\n",
            "==> Epoch 0, Dev \tLoss: 0.15293994492043994\tPearson: 0.7302547693252563\tMSE: 0.10936238616704941\n",
            "==> Epoch 0, Test \tLoss: 0.15426593654181453\tPearson: 0.7007637619972229\tMSE: 0.11133521795272827\n"
          ],
          "name": "stdout"
        },
        {
          "output_type": "stream",
          "text": [
            "Testing epoch  2: 100%|██████████| 19826/19826 [02:52<00:00, 114.80it/s]\n",
            "Testing epoch  2: 100%|██████████| 2478/2478 [00:21<00:00, 116.98it/s]\n",
            "Testing epoch  2: 100%|██████████| 2479/2479 [00:21<00:00, 115.77it/s]\n"
          ],
          "name": "stderr"
        },
        {
          "output_type": "stream",
          "text": [
            "==> Epoch 1, Train \tLoss: 0.0944246005025635\tPearson: 0.8578209280967712\tMSE: 0.058660343289375305\n",
            "==> Epoch 1, Dev \tLoss: 0.15667790403545814\tPearson: 0.7313480377197266\tMSE: 0.11138014495372772\n",
            "==> Epoch 1, Test \tLoss: 0.16516757347616087\tPearson: 0.7036624550819397\tMSE: 0.11173860728740692\n"
          ],
          "name": "stdout"
        },
        {
          "output_type": "stream",
          "text": [
            "Testing epoch  3: 100%|██████████| 19826/19826 [02:47<00:00, 118.07it/s]\n",
            "Testing epoch  3: 100%|██████████| 2478/2478 [00:20<00:00, 120.14it/s]\n",
            "Testing epoch  3: 100%|██████████| 2479/2479 [00:21<00:00, 115.21it/s]\n"
          ],
          "name": "stderr"
        },
        {
          "output_type": "stream",
          "text": [
            "==> Epoch 2, Train \tLoss: 0.06412495219072116\tPearson: 0.9289300441741943\tMSE: 0.029910219833254814\n",
            "==> Epoch 2, Dev \tLoss: 0.1751469620333564\tPearson: 0.7169526815414429\tMSE: 0.11743341386318207\n",
            "==> Epoch 2, Test \tLoss: 0.18674602221367725\tPearson: 0.6715011596679688\tMSE: 0.12626059353351593\n"
          ],
          "name": "stdout"
        },
        {
          "output_type": "stream",
          "text": [
            "Testing epoch  4: 100%|██████████| 19826/19826 [02:52<00:00, 114.98it/s]\n",
            "Testing epoch  4: 100%|██████████| 2478/2478 [00:20<00:00, 118.38it/s]\n",
            "Testing epoch  4: 100%|██████████| 2479/2479 [00:21<00:00, 115.15it/s]\n"
          ],
          "name": "stderr"
        },
        {
          "output_type": "stream",
          "text": [
            "==> Epoch 3, Train \tLoss: 0.03760693609738361\tPearson: 0.9487018585205078\tMSE: 0.021587813273072243\n",
            "==> Epoch 3, Dev \tLoss: 0.2506877738595704\tPearson: 0.7116430401802063\tMSE: 0.114205002784729\n",
            "==> Epoch 3, Test \tLoss: 0.25923866282269836\tPearson: 0.7085686922073364\tMSE: 0.10609116405248642\n"
          ],
          "name": "stdout"
        },
        {
          "output_type": "stream",
          "text": [
            "Testing epoch  5: 100%|██████████| 19826/19826 [02:50<00:00, 115.98it/s]\n",
            "Testing epoch  5: 100%|██████████| 2478/2478 [00:21<00:00, 115.90it/s]\n",
            "Testing epoch  5: 100%|██████████| 2479/2479 [00:21<00:00, 117.24it/s]\n"
          ],
          "name": "stderr"
        },
        {
          "output_type": "stream",
          "text": [
            "==> Epoch 4, Train \tLoss: 0.01719328267453565\tPearson: 0.9789620637893677\tMSE: 0.009028548374772072\n",
            "==> Epoch 4, Dev \tLoss: 0.265472170210779\tPearson: 0.700954258441925\tMSE: 0.1283292919397354\n",
            "==> Epoch 4, Test \tLoss: 0.276041755492336\tPearson: 0.6845922470092773\tMSE: 0.12182331830263138\n"
          ],
          "name": "stdout"
        },
        {
          "output_type": "stream",
          "text": [
            "Testing epoch  6: 100%|██████████| 19826/19826 [02:50<00:00, 116.29it/s]\n",
            "Testing epoch  6: 100%|██████████| 2478/2478 [00:20<00:00, 118.82it/s]\n",
            "Testing epoch  6: 100%|██████████| 2479/2479 [00:21<00:00, 116.72it/s]\n"
          ],
          "name": "stderr"
        },
        {
          "output_type": "stream",
          "text": [
            "==> Epoch 5, Train \tLoss: 0.01048581303891821\tPearson: 0.9887640476226807\tMSE: 0.004791687708348036\n",
            "==> Epoch 5, Dev \tLoss: 0.3143124163691485\tPearson: 0.6973065733909607\tMSE: 0.12711864709854126\n",
            "==> Epoch 5, Test \tLoss: 0.3266737072731509\tPearson: 0.6999360918998718\tMSE: 0.11294876784086227\n"
          ],
          "name": "stdout"
        },
        {
          "output_type": "stream",
          "text": [
            "Testing epoch  7: 100%|██████████| 19826/19826 [02:49<00:00, 116.88it/s]\n",
            "Testing epoch  7: 100%|██████████| 2478/2478 [00:21<00:00, 114.52it/s]\n",
            "Testing epoch  7: 100%|██████████| 2479/2479 [00:20<00:00, 119.44it/s]\n"
          ],
          "name": "stderr"
        },
        {
          "output_type": "stream",
          "text": [
            "==> Epoch 6, Train \tLoss: 0.00860040486665525\tPearson: 0.9901694655418396\tMSE: 0.004186422098428011\n",
            "==> Epoch 6, Dev \tLoss: 0.3509296525690115\tPearson: 0.717474639415741\tMSE: 0.11581920832395554\n",
            "==> Epoch 6, Test \tLoss: 0.3649024811287166\tPearson: 0.7082690000534058\tMSE: 0.10891488194465637\n"
          ],
          "name": "stdout"
        },
        {
          "output_type": "stream",
          "text": [
            "Testing epoch  8: 100%|██████████| 19826/19826 [02:56<00:00, 112.22it/s]\n",
            "Testing epoch  8: 100%|██████████| 2478/2478 [00:21<00:00, 114.86it/s]\n",
            "Testing epoch  8: 100%|██████████| 2479/2479 [00:21<00:00, 114.47it/s]\n"
          ],
          "name": "stderr"
        },
        {
          "output_type": "stream",
          "text": [
            "==> Epoch 7, Train \tLoss: 0.005699498035953817\tPearson: 0.9937180876731873\tMSE: 0.002673257375136018\n",
            "==> Epoch 7, Dev \tLoss: 0.3715274472135388\tPearson: 0.7110110521316528\tMSE: 0.12106537818908691\n",
            "==> Epoch 7, Test \tLoss: 0.38152389967894473\tPearson: 0.6873738169670105\tMSE: 0.11940298229455948\n"
          ],
          "name": "stdout"
        },
        {
          "output_type": "stream",
          "text": [
            "Testing epoch  9: 100%|██████████| 19826/19826 [02:52<00:00, 114.97it/s]\n",
            "Testing epoch  9: 100%|██████████| 2478/2478 [00:20<00:00, 118.23it/s]\n",
            "Testing epoch  9: 100%|██████████| 2479/2479 [00:21<00:00, 117.09it/s]\n"
          ],
          "name": "stderr"
        },
        {
          "output_type": "stream",
          "text": [
            "==> Epoch 8, Train \tLoss: 0.0048992095222901546\tPearson: 0.9941954016685486\tMSE: 0.002471502171829343\n",
            "==> Epoch 8, Dev \tLoss: 0.4080363549427375\tPearson: 0.6972534656524658\tMSE: 0.12953995168209076\n",
            "==> Epoch 8, Test \tLoss: 0.42409087808546886\tPearson: 0.6908644437789917\tMSE: 0.12061315029859543\n"
          ],
          "name": "stdout"
        },
        {
          "output_type": "stream",
          "text": [
            "Testing epoch  10: 100%|██████████| 19826/19826 [02:47<00:00, 118.08it/s]\n",
            "Testing epoch  10: 100%|██████████| 2478/2478 [00:21<00:00, 117.78it/s]\n",
            "Testing epoch  10: 100%|██████████| 2479/2479 [00:20<00:00, 119.94it/s]\n"
          ],
          "name": "stderr"
        },
        {
          "output_type": "stream",
          "text": [
            "==> Epoch 9, Train \tLoss: 0.003641408437803716\tPearson: 0.9956061840057373\tMSE: 0.0018662362126633525\n",
            "==> Epoch 9, Dev \tLoss: 0.43157868645756375\tPearson: 0.6981258392333984\tMSE: 0.12953995168209076\n",
            "==> Epoch 9, Test \tLoss: 0.4419457027933511\tPearson: 0.6703190803527832\tMSE: 0.12868091464042664\n"
          ],
          "name": "stdout"
        },
        {
          "output_type": "stream",
          "text": [
            "Testing epoch  11: 100%|██████████| 19826/19826 [02:50<00:00, 116.24it/s]\n",
            "Testing epoch  11: 100%|██████████| 2478/2478 [00:20<00:00, 118.43it/s]\n",
            "Testing epoch  11: 100%|██████████| 2479/2479 [00:20<00:00, 118.56it/s]\n"
          ],
          "name": "stderr"
        },
        {
          "output_type": "stream",
          "text": [
            "==> Epoch 10, Train \tLoss: 0.00331669196103469\tPearson: 0.996779203414917\tMSE: 0.0013618480879813433\n",
            "==> Epoch 10, Dev \tLoss: 0.44576713797293643\tPearson: 0.6978472471237183\tMSE: 0.1287328451871872\n",
            "==> Epoch 10, Test \tLoss: 0.4619130476200637\tPearson: 0.6738057732582092\tMSE: 0.12626059353351593\n"
          ],
          "name": "stdout"
        },
        {
          "output_type": "stream",
          "text": [
            "Testing epoch  12: 100%|██████████| 19826/19826 [02:49<00:00, 116.81it/s]\n",
            "Testing epoch  12: 100%|██████████| 2478/2478 [00:20<00:00, 119.41it/s]\n",
            "Testing epoch  12: 100%|██████████| 2479/2479 [00:21<00:00, 117.58it/s]\n"
          ],
          "name": "stderr"
        },
        {
          "output_type": "stream",
          "text": [
            "==> Epoch 11, Train \tLoss: 0.0025736114531559233\tPearson: 0.9963154792785645\tMSE: 0.0015636032912880182\n",
            "==> Epoch 11, Dev \tLoss: 0.4714903377533766\tPearson: 0.6904826760292053\tMSE: 0.1307506114244461\n",
            "==> Epoch 11, Test \tLoss: 0.4843685806119319\tPearson: 0.6742327809333801\tMSE: 0.12545381486415863\n"
          ],
          "name": "stdout"
        },
        {
          "output_type": "stream",
          "text": [
            "Testing epoch  13: 100%|██████████| 19826/19826 [02:50<00:00, 116.16it/s]\n",
            "Testing epoch  13: 100%|██████████| 2478/2478 [00:20<00:00, 118.99it/s]\n",
            "Testing epoch  13: 100%|██████████| 2479/2479 [00:20<00:00, 119.80it/s]\n"
          ],
          "name": "stderr"
        },
        {
          "output_type": "stream",
          "text": [
            "==> Epoch 12, Train \tLoss: 0.0026029717977020454\tPearson: 0.9973704814910889\tMSE: 0.0011096539674326777\n",
            "==> Epoch 12, Dev \tLoss: 0.49593172587505757\tPearson: 0.684248685836792\tMSE: 0.13680388033390045\n",
            "==> Epoch 12, Test \tLoss: 0.5124826312455948\tPearson: 0.6657966375350952\tMSE: 0.13190802931785583\n"
          ],
          "name": "stdout"
        },
        {
          "output_type": "stream",
          "text": [
            "Testing epoch  14: 100%|██████████| 19826/19826 [02:49<00:00, 116.95it/s]\n",
            "Testing epoch  14: 100%|██████████| 2478/2478 [00:20<00:00, 118.13it/s]\n",
            "Testing epoch  14: 100%|██████████| 2479/2479 [00:20<00:00, 119.60it/s]\n"
          ],
          "name": "stderr"
        },
        {
          "output_type": "stream",
          "text": [
            "==> Epoch 13, Train \tLoss: 0.0018887222253474976\tPearson: 0.9981882572174072\tMSE: 0.0007565822452306747\n",
            "==> Epoch 13, Dev \tLoss: 0.5109500752250246\tPearson: 0.6869653463363647\tMSE: 0.13236480951309204\n",
            "==> Epoch 13, Test \tLoss: 0.526395234477791\tPearson: 0.6721993684768677\tMSE: 0.12545381486415863\n"
          ],
          "name": "stdout"
        },
        {
          "output_type": "stream",
          "text": [
            "Testing epoch  15: 100%|██████████| 19826/19826 [02:50<00:00, 116.25it/s]\n",
            "Testing epoch  15: 100%|██████████| 2478/2478 [00:21<00:00, 116.12it/s]\n",
            "Testing epoch  15: 100%|██████████| 2479/2479 [00:20<00:00, 118.20it/s]"
          ],
          "name": "stderr"
        },
        {
          "output_type": "stream",
          "text": [
            "==> Epoch 14, Train \tLoss: 0.0017768173070414148\tPearson: 0.9973676204681396\tMSE: 0.0011096539674326777\n",
            "==> Epoch 14, Dev \tLoss: 0.5152169809444292\tPearson: 0.6798332929611206\tMSE: 0.13720741868019104\n",
            "==> Epoch 14, Test \tLoss: 0.5315357883341573\tPearson: 0.6726406812667847\tMSE: 0.12787413597106934\n"
          ],
          "name": "stdout"
        },
        {
          "output_type": "stream",
          "text": [
            "\n"
          ],
          "name": "stderr"
        }
      ]
    },
    {
      "cell_type": "markdown",
      "metadata": {
        "id": "pVJE5Y3GlCe2"
      },
      "source": [
        "## Running the model on test set"
      ]
    },
    {
      "cell_type": "code",
      "metadata": {
        "id": "aE17YaYylCe3",
        "scrolled": true,
        "outputId": "68ef65ea-ffc7-48a3-84f8-53bb74169a4c",
        "colab": {
          "base_uri": "https://localhost:8080/"
        }
      },
      "source": [
        "test_loss,predictions = trainer.test(test_dataset)\n"
      ],
      "execution_count": 15,
      "outputs": [
        {
          "output_type": "stream",
          "text": [
            "Testing epoch  15:   0%|          | 0/2479 [00:00<?, ?it/s]/usr/local/lib/python3.6/dist-packages/ipykernel_launcher.py:51: UserWarning: Implicit dimension choice for softmax has been deprecated. Change the call to include dim=X as an argument.\n",
            "Testing epoch  15: 100%|██████████| 2479/2479 [00:21<00:00, 115.06it/s]\n"
          ],
          "name": "stderr"
        }
      ]
    },
    {
      "cell_type": "markdown",
      "metadata": {
        "id": "HuGOo7gxlCe-"
      },
      "source": [
        "## Accuracy of the model"
      ]
    },
    {
      "cell_type": "code",
      "metadata": {
        "id": "VYnsptMwlCfF",
        "outputId": "251dab46-1be4-4b5c-f1e3-f04723a5765c",
        "colab": {
          "base_uri": "https://localhost:8080/"
        }
      },
      "source": [
        "f = f1_score( test_dataset.labels,predictions, average='weighted')\n",
        "print(\"F1 Score of tree LSTM: \", f)\n",
        "print('')\n",
        "\n",
        "p = precision_score(test_dataset.labels, predictions, average='weighted')\n",
        "print(\"Precision Score of tree LSTM: \", p)\n",
        "print('')\n",
        "\n",
        "r = recall_score(test_dataset.labels, predictions, average='weighted')\n",
        "print(\"Recall Score of tree LSTM: \", r)\n",
        "print('')\n",
        "\n",
        "a = accuracy_score(test_dataset.labels, predictions)\n",
        "print(\"Accuracy Score of tree LSTM: \", a)"
      ],
      "execution_count": 29,
      "outputs": [
        {
          "output_type": "stream",
          "text": [
            "F1 Score of tree LSTM:  0.8950890054890392\n",
            "\n",
            "Precision Score of tree LSTM:  0.8939502496933397\n",
            "\n",
            "Recall Score of tree LSTM:  0.8963291649858814\n",
            "\n",
            "Accuracy Score of tree LSTM:  0.8963291649858814\n"
          ],
          "name": "stdout"
        }
      ]
    }
  ]
}