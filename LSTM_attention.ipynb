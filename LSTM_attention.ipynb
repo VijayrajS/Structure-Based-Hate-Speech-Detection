{
 "cells": [
  {
   "cell_type": "code",
   "execution_count": 1,
   "metadata": {},
   "outputs": [
    {
     "name": "stderr",
     "output_type": "stream",
     "text": [
      "/home/rhino/.local/lib/python3.6/site-packages/tensorflow/python/framework/dtypes.py:523: FutureWarning: Passing (type, 1) or '1type' as a synonym of type is deprecated; in a future version of numpy, it will be understood as (type, (1,)) / '(1,)type'.\n",
      "  _np_qint8 = np.dtype([(\"qint8\", np.int8, 1)])\n",
      "/home/rhino/.local/lib/python3.6/site-packages/tensorflow/python/framework/dtypes.py:524: FutureWarning: Passing (type, 1) or '1type' as a synonym of type is deprecated; in a future version of numpy, it will be understood as (type, (1,)) / '(1,)type'.\n",
      "  _np_quint8 = np.dtype([(\"quint8\", np.uint8, 1)])\n",
      "/home/rhino/.local/lib/python3.6/site-packages/tensorflow/python/framework/dtypes.py:525: FutureWarning: Passing (type, 1) or '1type' as a synonym of type is deprecated; in a future version of numpy, it will be understood as (type, (1,)) / '(1,)type'.\n",
      "  _np_qint16 = np.dtype([(\"qint16\", np.int16, 1)])\n",
      "/home/rhino/.local/lib/python3.6/site-packages/tensorflow/python/framework/dtypes.py:526: FutureWarning: Passing (type, 1) or '1type' as a synonym of type is deprecated; in a future version of numpy, it will be understood as (type, (1,)) / '(1,)type'.\n",
      "  _np_quint16 = np.dtype([(\"quint16\", np.uint16, 1)])\n",
      "/home/rhino/.local/lib/python3.6/site-packages/tensorflow/python/framework/dtypes.py:527: FutureWarning: Passing (type, 1) or '1type' as a synonym of type is deprecated; in a future version of numpy, it will be understood as (type, (1,)) / '(1,)type'.\n",
      "  _np_qint32 = np.dtype([(\"qint32\", np.int32, 1)])\n",
      "/home/rhino/.local/lib/python3.6/site-packages/tensorflow/python/framework/dtypes.py:532: FutureWarning: Passing (type, 1) or '1type' as a synonym of type is deprecated; in a future version of numpy, it will be understood as (type, (1,)) / '(1,)type'.\n",
      "  np_resource = np.dtype([(\"resource\", np.ubyte, 1)])\n",
      "/usr/lib/python3/dist-packages/requests/__init__.py:80: RequestsDependencyWarning: urllib3 (1.26.2) or chardet (3.0.4) doesn't match a supported version!\n",
      "  RequestsDependencyWarning)\n",
      "/home/rhino/.local/lib/python3.6/site-packages/tensorboard/compat/tensorflow_stub/dtypes.py:541: FutureWarning: Passing (type, 1) or '1type' as a synonym of type is deprecated; in a future version of numpy, it will be understood as (type, (1,)) / '(1,)type'.\n",
      "  _np_qint8 = np.dtype([(\"qint8\", np.int8, 1)])\n",
      "/home/rhino/.local/lib/python3.6/site-packages/tensorboard/compat/tensorflow_stub/dtypes.py:542: FutureWarning: Passing (type, 1) or '1type' as a synonym of type is deprecated; in a future version of numpy, it will be understood as (type, (1,)) / '(1,)type'.\n",
      "  _np_quint8 = np.dtype([(\"quint8\", np.uint8, 1)])\n",
      "/home/rhino/.local/lib/python3.6/site-packages/tensorboard/compat/tensorflow_stub/dtypes.py:543: FutureWarning: Passing (type, 1) or '1type' as a synonym of type is deprecated; in a future version of numpy, it will be understood as (type, (1,)) / '(1,)type'.\n",
      "  _np_qint16 = np.dtype([(\"qint16\", np.int16, 1)])\n",
      "/home/rhino/.local/lib/python3.6/site-packages/tensorboard/compat/tensorflow_stub/dtypes.py:544: FutureWarning: Passing (type, 1) or '1type' as a synonym of type is deprecated; in a future version of numpy, it will be understood as (type, (1,)) / '(1,)type'.\n",
      "  _np_quint16 = np.dtype([(\"quint16\", np.uint16, 1)])\n",
      "/home/rhino/.local/lib/python3.6/site-packages/tensorboard/compat/tensorflow_stub/dtypes.py:545: FutureWarning: Passing (type, 1) or '1type' as a synonym of type is deprecated; in a future version of numpy, it will be understood as (type, (1,)) / '(1,)type'.\n",
      "  _np_qint32 = np.dtype([(\"qint32\", np.int32, 1)])\n",
      "/home/rhino/.local/lib/python3.6/site-packages/tensorboard/compat/tensorflow_stub/dtypes.py:550: FutureWarning: Passing (type, 1) or '1type' as a synonym of type is deprecated; in a future version of numpy, it will be understood as (type, (1,)) / '(1,)type'.\n",
      "  np_resource = np.dtype([(\"resource\", np.ubyte, 1)])\n"
     ]
    }
   ],
   "source": [
    "import numpy as np\n",
    "import pandas as pd\n",
    "import tensorflow as tf\n",
    "from tensorflow.keras.layers import *\n",
    "from tensorflow.keras.models import *\n",
    "from tensorflow.keras import backend as K\n",
    "from sklearn.metrics import confusion_matrix, accuracy_score, precision_score, recall_score, f1_score\n",
    "from sklearn.model_selection import train_test_split\n",
    "from tensorflow.keras.preprocessing.text import Tokenizer, one_hot\n",
    "from tensorflow.keras.preprocessing.sequence import pad_sequences\n",
    "from tensorflow.keras.layers import Dense, Flatten, Embedding, LSTM, GRU, Dropout\n",
    "from tensorflow.keras.models import Sequential"
   ]
  },
  {
   "cell_type": "markdown",
   "metadata": {},
   "source": [
    "# Reading Data"
   ]
  },
  {
   "cell_type": "code",
   "execution_count": 2,
   "metadata": {},
   "outputs": [],
   "source": [
    "data  = pd.read_csv('Dataset/Data_processed/dataset.csv',sep=',',names=['Msg','Tag'])\n",
    "data1 = pd.read_csv('Dataset/Data_processed/dataset_POS.csv',sep=',',names=['Msg','Tag'])\n",
    "data2 = pd.read_csv('Dataset/Data_processed/dataset_stemmed.csv',sep=',',names=['Msg','Tag'])"
   ]
  },
  {
   "cell_type": "code",
   "execution_count": 3,
   "metadata": {},
   "outputs": [],
   "source": [
    "data.dropna(inplace=True)"
   ]
  },
  {
   "cell_type": "code",
   "execution_count": 4,
   "metadata": {},
   "outputs": [],
   "source": [
    "data1.dropna(inplace=True)"
   ]
  },
  {
   "cell_type": "code",
   "execution_count": 5,
   "metadata": {},
   "outputs": [],
   "source": [
    "data2.dropna(inplace=True)"
   ]
  },
  {
   "cell_type": "code",
   "execution_count": 6,
   "metadata": {},
   "outputs": [],
   "source": [
    "data_X  = data['Msg'].to_numpy()\n",
    "data_Y  = data['Tag'].to_numpy()\n",
    "data1_X = data1['Msg'].to_numpy()\n",
    "data1_Y = data1['Tag'].to_numpy()\n",
    "data2_X = data2['Msg'].to_numpy()\n",
    "data2_Y = data2['Tag'].to_numpy()"
   ]
  },
  {
   "cell_type": "code",
   "execution_count": 7,
   "metadata": {},
   "outputs": [],
   "source": [
    "data_X  = np.reshape(data_X,  (data_X.shape[0],1 ))\n",
    "data_Y  = np.reshape(data_Y,  (data_Y.shape[0],1 ))\n",
    "data1_X = np.reshape(data1_X, (data1_X.shape[0],1))\n",
    "data1_Y = np.reshape(data1_Y, (data1_Y.shape[0],1)) \n",
    "data2_X = np.reshape(data2_X, (data2_X.shape[0],1))\n",
    "data2_Y = np.reshape(data2_Y, (data2_Y.shape[0],1))"
   ]
  },
  {
   "cell_type": "markdown",
   "metadata": {},
   "source": [
    "## Attention Layer"
   ]
  },
  {
   "cell_type": "code",
   "execution_count": 8,
   "metadata": {},
   "outputs": [],
   "source": [
    "class attention(Layer):    \n",
    "    def __init__(self, return_sequences=True):\n",
    "        self.return_sequences = return_sequences\n",
    "        super(attention,self).__init__()\n",
    "        \n",
    "    def build(self, input_shape):\n",
    "        self.W=self.add_weight(name=\"att_weight\", shape=(input_shape[-1],1), initializer=\"normal\")\n",
    "        self.b=self.add_weight(name=\"att_bias\", shape=(input_shape[1],1), initializer=\"zeros\")\n",
    "        super(attention,self).build(input_shape)\n",
    "        \n",
    "    def call(self, x):        \n",
    "        e = K.tanh(K.dot(x,self.W)+self.b)\n",
    "        a = K.softmax(e, axis=1)\n",
    "        output = x*a\n",
    "        if self.return_sequences:\n",
    "            return output\n",
    "        return K.sum(output, axis=1)"
   ]
  },
  {
   "cell_type": "markdown",
   "metadata": {},
   "source": [
    "## Maximum Sentence Length"
   ]
  },
  {
   "cell_type": "code",
   "execution_count": 9,
   "metadata": {},
   "outputs": [],
   "source": [
    "def max_sen_length(data):\n",
    "    mx_len = 0\n",
    "    for sen in data:\n",
    "        words = sen[0].split()\n",
    "        if len(words) > mx_len:\n",
    "            mx_len = len(words)\n",
    "    return mx_len"
   ]
  },
  {
   "cell_type": "code",
   "execution_count": 10,
   "metadata": {},
   "outputs": [
    {
     "data": {
      "text/plain": [
       "array([['The thing disgusting White woman groid White woman drags White child filth '],\n",
       "       ['Americans acting like know talking '],\n",
       "       ['Also intrested check webpage info european american town building '],\n",
       "       ...,\n",
       "       ['No truth 88WHITE POWERWHITE VICTORYWHITE PRIDE88'],\n",
       "       ['4 cyclinder motorcycle Historic vehicle Laurin Klement T B 18991903 YouTube Historic vehicle Torpedo V4 1909 YouTube Historic vehicle Torpedo V4 1909 httpthekneeslidercomimages2012rightsidejpg Handlebar camera mount ride video '],\n",
       "       ['Hi I thought I leave note wish Southern Gentlemen Ladies happy Robert Edward Lee day ']],\n",
       "      dtype=object)"
      ]
     },
     "execution_count": 10,
     "metadata": {},
     "output_type": "execute_result"
    }
   ],
   "source": [
    "data_X"
   ]
  },
  {
   "cell_type": "markdown",
   "metadata": {},
   "source": [
    "# Without POS + Stemming"
   ]
  },
  {
   "cell_type": "code",
   "execution_count": 11,
   "metadata": {},
   "outputs": [],
   "source": [
    "max_len = max_sen_length(data_X)\n",
    "vocab_size = 10000\n",
    "embedding_vector_features = 100"
   ]
  },
  {
   "cell_type": "code",
   "execution_count": 12,
   "metadata": {},
   "outputs": [],
   "source": [
    "onehot_enc = [one_hot(sen[0], vocab_size) for sen in data_X]\n",
    "embed_repr = pad_sequences(onehot_enc, padding='pre', maxlen=max_len)"
   ]
  },
  {
   "cell_type": "code",
   "execution_count": 13,
   "metadata": {},
   "outputs": [],
   "source": [
    "X = embed_repr\n",
    "Y = data_Y"
   ]
  },
  {
   "cell_type": "code",
   "execution_count": 14,
   "metadata": {},
   "outputs": [],
   "source": [
    "x_train, x_test, y_train, y_test = train_test_split(X, Y, test_size=0.2, random_state=4)"
   ]
  },
  {
   "cell_type": "code",
   "execution_count": 15,
   "metadata": {},
   "outputs": [
    {
     "name": "stdout",
     "output_type": "stream",
     "text": [
      "Model: \"sequential\"\n",
      "_________________________________________________________________\n",
      "Layer (type)                 Output Shape              Param #   \n",
      "=================================================================\n",
      "embedding (Embedding)        (None, 151, 100)          1000000   \n",
      "_________________________________________________________________\n",
      "bidirectional (Bidirectional (None, 151, 200)          160800    \n",
      "_________________________________________________________________\n",
      "attention (attention)        (None, 151, 200)          351       \n",
      "_________________________________________________________________\n",
      "unified_lstm_1 (UnifiedLSTM) (None, 100)               120400    \n",
      "_________________________________________________________________\n",
      "dense (Dense)                (None, 1)                 101       \n",
      "=================================================================\n",
      "Total params: 1,281,652\n",
      "Trainable params: 1,281,652\n",
      "Non-trainable params: 0\n",
      "_________________________________________________________________\n"
     ]
    }
   ],
   "source": [
    "model = Sequential()\n",
    "model.add(Embedding(vocab_size, embedding_vector_features, input_length=max_len))\n",
    "model.add(Bidirectional(LSTM(100, return_sequences=True)))\n",
    "model.add(attention(return_sequences=True))\n",
    "model.add(LSTM(100))\n",
    "model.add(Dense(1, activation='sigmoid'))\n",
    "model.summary()\n",
    "model.compile('adam', 'binary_crossentropy')"
   ]
  },
  {
   "cell_type": "code",
   "execution_count": 16,
   "metadata": {},
   "outputs": [
    {
     "name": "stdout",
     "output_type": "stream",
     "text": [
      "Epoch 1/10\n",
      "8750/8750 [==============================] - 103s 12ms/sample - loss: 0.3806\n",
      "Epoch 2/10\n",
      "8750/8750 [==============================] - 100s 11ms/sample - loss: 0.2624\n",
      "Epoch 3/10\n",
      "8750/8750 [==============================] - 97s 11ms/sample - loss: 0.1805\n",
      "Epoch 4/10\n",
      "8750/8750 [==============================] - 97s 11ms/sample - loss: 0.1204\n",
      "Epoch 5/10\n",
      "8750/8750 [==============================] - 106s 12ms/sample - loss: 0.0834\n",
      "Epoch 6/10\n",
      "8750/8750 [==============================] - 99s 11ms/sample - loss: 0.0583\n",
      "Epoch 7/10\n",
      "8750/8750 [==============================] - 105s 12ms/sample - loss: 0.0458\n",
      "Epoch 8/10\n",
      "8750/8750 [==============================] - 101s 12ms/sample - loss: 0.0364\n",
      "Epoch 9/10\n",
      "8750/8750 [==============================] - 96s 11ms/sample - loss: 0.0287\n",
      "Epoch 10/10\n",
      "8750/8750 [==============================] - 100s 11ms/sample - loss: 0.0228\n"
     ]
    },
    {
     "data": {
      "text/plain": [
       "<tensorflow.python.keras.callbacks.History at 0x7fa150697390>"
      ]
     },
     "execution_count": 16,
     "metadata": {},
     "output_type": "execute_result"
    }
   ],
   "source": [
    "model.fit(x_train,y_train, epochs=10)"
   ]
  },
  {
   "cell_type": "code",
   "execution_count": 17,
   "metadata": {},
   "outputs": [
    {
     "name": "stdout",
     "output_type": "stream",
     "text": [
      "[[1689  226]\n",
      " [ 161  112]]\n",
      "Accuracy Socre:  0.823126142595978\n",
      "F1 score:  0.3666121112929624\n",
      "Precision:  0.33136094674556216\n",
      "Recall:  0.41025641025641024\n"
     ]
    }
   ],
   "source": [
    "y_pred = model.predict_classes(x_test)\n",
    "print(confusion_matrix(y_test, y_pred))\n",
    "print(\"Accuracy Socre: \",accuracy_score(y_test, y_pred))\n",
    "print(\"F1 score: \",f1_score(y_test, y_pred))\n",
    "print(\"Precision: \",precision_score(y_test, y_pred))\n",
    "print(\"Recall: \",recall_score(y_test, y_pred))"
   ]
  },
  {
   "cell_type": "markdown",
   "metadata": {},
   "source": [
    "# POS"
   ]
  },
  {
   "cell_type": "code",
   "execution_count": 18,
   "metadata": {},
   "outputs": [],
   "source": [
    "max_len = max_sen_length(data1_X)\n",
    "vocab_size = 10000\n",
    "embedding_vector_features = 100"
   ]
  },
  {
   "cell_type": "code",
   "execution_count": 19,
   "metadata": {},
   "outputs": [],
   "source": [
    "onehot_enc = [one_hot(sen[0], vocab_size) for sen in data1_X]\n",
    "embed_repr = pad_sequences(onehot_enc, padding='pre', maxlen=max_len)"
   ]
  },
  {
   "cell_type": "code",
   "execution_count": 20,
   "metadata": {},
   "outputs": [],
   "source": [
    "X = embed_repr\n",
    "Y = data1_Y"
   ]
  },
  {
   "cell_type": "code",
   "execution_count": 21,
   "metadata": {},
   "outputs": [],
   "source": [
    "x1_train, x1_test, y1_train, y1_test = train_test_split(X, Y, test_size=0.2, random_state=4)"
   ]
  },
  {
   "cell_type": "code",
   "execution_count": 22,
   "metadata": {},
   "outputs": [
    {
     "name": "stdout",
     "output_type": "stream",
     "text": [
      "Model: \"sequential_1\"\n",
      "_________________________________________________________________\n",
      "Layer (type)                 Output Shape              Param #   \n",
      "=================================================================\n",
      "embedding_1 (Embedding)      (None, 144, 100)          1000000   \n",
      "_________________________________________________________________\n",
      "bidirectional_1 (Bidirection (None, 144, 64)           34048     \n",
      "_________________________________________________________________\n",
      "attention_1 (attention)      (None, 144, 64)           208       \n",
      "_________________________________________________________________\n",
      "unified_lstm_3 (UnifiedLSTM) (None, 32)                12416     \n",
      "_________________________________________________________________\n",
      "dense_1 (Dense)              (None, 1)                 33        \n",
      "=================================================================\n",
      "Total params: 1,046,705\n",
      "Trainable params: 1,046,705\n",
      "Non-trainable params: 0\n",
      "_________________________________________________________________\n"
     ]
    }
   ],
   "source": [
    "model = Sequential()\n",
    "model.add(Embedding(vocab_size, embedding_vector_features, input_length=max_len))\n",
    "model.add(Bidirectional(LSTM(32, return_sequences=True)))\n",
    "model.add(attention(return_sequences=True))\n",
    "model.add(LSTM(32))\n",
    "model.add(Dense(1, activation='sigmoid'))\n",
    "model.summary()\n",
    "model.compile('adam', 'binary_crossentropy')"
   ]
  },
  {
   "cell_type": "code",
   "execution_count": 23,
   "metadata": {},
   "outputs": [
    {
     "name": "stdout",
     "output_type": "stream",
     "text": [
      "Epoch 1/10\n",
      "8611/8611 [==============================] - 45s 5ms/sample - loss: 0.4024\n",
      "Epoch 2/10\n",
      "8611/8611 [==============================] - 44s 5ms/sample - loss: 0.2870\n",
      "Epoch 3/10\n",
      "8611/8611 [==============================] - 44s 5ms/sample - loss: 0.1840\n",
      "Epoch 4/10\n",
      "8611/8611 [==============================] - 46s 5ms/sample - loss: 0.1204\n",
      "Epoch 5/10\n",
      "8611/8611 [==============================] - 44s 5ms/sample - loss: 0.0806\n",
      "Epoch 6/10\n",
      "8611/8611 [==============================] - 45s 5ms/sample - loss: 0.0594\n",
      "Epoch 7/10\n",
      "8611/8611 [==============================] - 44s 5ms/sample - loss: 0.0794\n",
      "Epoch 8/10\n",
      "8611/8611 [==============================] - 44s 5ms/sample - loss: 0.0414\n",
      "Epoch 9/10\n",
      "8611/8611 [==============================] - 44s 5ms/sample - loss: 0.0304\n",
      "Epoch 10/10\n",
      "8611/8611 [==============================] - 46s 5ms/sample - loss: 0.0235\n"
     ]
    },
    {
     "data": {
      "text/plain": [
       "<tensorflow.python.keras.callbacks.History at 0x7fa12eb874a8>"
      ]
     },
     "execution_count": 23,
     "metadata": {},
     "output_type": "execute_result"
    }
   ],
   "source": [
    "model.fit(x1_train,y1_train, epochs=10)"
   ]
  },
  {
   "cell_type": "code",
   "execution_count": 24,
   "metadata": {},
   "outputs": [
    {
     "name": "stdout",
     "output_type": "stream",
     "text": [
      "[[1670  181]\n",
      " [ 207   95]]\n",
      "Accuracy Socre:  0.8197863446353925\n",
      "F1 score:  0.32871972318339104\n",
      "Precision:  0.3442028985507246\n",
      "Recall:  0.31456953642384106\n"
     ]
    }
   ],
   "source": [
    "y1_pred = model.predict_classes(x1_test)\n",
    "print(confusion_matrix(y1_test, y1_pred))\n",
    "print(\"Accuracy Socre: \",accuracy_score(y1_test, y1_pred))\n",
    "print(\"F1 score: \",f1_score(y1_test, y1_pred))\n",
    "print(\"Precision: \",precision_score(y1_test, y1_pred))\n",
    "print(\"Recall: \",recall_score(y1_test, y1_pred))"
   ]
  },
  {
   "cell_type": "markdown",
   "metadata": {},
   "source": [
    "# POS + Stemming"
   ]
  },
  {
   "cell_type": "code",
   "execution_count": 25,
   "metadata": {},
   "outputs": [],
   "source": [
    "max_len = max_sen_length(data2_X)\n",
    "vocab_size = 10000\n",
    "embedding_vector_features = 100"
   ]
  },
  {
   "cell_type": "code",
   "execution_count": 26,
   "metadata": {},
   "outputs": [],
   "source": [
    "onehot_enc = [one_hot(sen[0], vocab_size) for sen in data2_X]\n",
    "embed_repr = pad_sequences(onehot_enc, padding='pre', maxlen=max_len)"
   ]
  },
  {
   "cell_type": "code",
   "execution_count": 27,
   "metadata": {},
   "outputs": [],
   "source": [
    "X = embed_repr\n",
    "Y = data2_Y"
   ]
  },
  {
   "cell_type": "code",
   "execution_count": 28,
   "metadata": {},
   "outputs": [],
   "source": [
    "x2_train, x2_test, y2_train, y2_test = train_test_split(X, Y, test_size=0.2, random_state=4)"
   ]
  },
  {
   "cell_type": "code",
   "execution_count": 29,
   "metadata": {},
   "outputs": [
    {
     "name": "stdout",
     "output_type": "stream",
     "text": [
      "Model: \"sequential_2\"\n",
      "_________________________________________________________________\n",
      "Layer (type)                 Output Shape              Param #   \n",
      "=================================================================\n",
      "embedding_2 (Embedding)      (None, 143, 100)          1000000   \n",
      "_________________________________________________________________\n",
      "bidirectional_2 (Bidirection (None, 143, 64)           34048     \n",
      "_________________________________________________________________\n",
      "attention_2 (attention)      (None, 143, 64)           207       \n",
      "_________________________________________________________________\n",
      "unified_lstm_5 (UnifiedLSTM) (None, 32)                12416     \n",
      "_________________________________________________________________\n",
      "dense_2 (Dense)              (None, 1)                 33        \n",
      "=================================================================\n",
      "Total params: 1,046,704\n",
      "Trainable params: 1,046,704\n",
      "Non-trainable params: 0\n",
      "_________________________________________________________________\n"
     ]
    }
   ],
   "source": [
    "model = Sequential()\n",
    "model.add(Embedding(vocab_size, embedding_vector_features, input_length=max_len))\n",
    "model.add(Bidirectional(LSTM(32, return_sequences=True)))\n",
    "model.add(attention(return_sequences=True))\n",
    "model.add(LSTM(32))\n",
    "model.add(Dense(1, activation='sigmoid'))\n",
    "model.summary()\n",
    "model.compile('adam', 'binary_crossentropy')"
   ]
  },
  {
   "cell_type": "code",
   "execution_count": 30,
   "metadata": {},
   "outputs": [
    {
     "name": "stdout",
     "output_type": "stream",
     "text": [
      "Epoch 1/10\n",
      "8744/8744 [==============================] - 48s 6ms/sample - loss: 0.3940\n",
      "Epoch 2/10\n",
      "8744/8744 [==============================] - 47s 5ms/sample - loss: 0.2669\n",
      "Epoch 3/10\n",
      "8744/8744 [==============================] - 45s 5ms/sample - loss: 0.1740\n",
      "Epoch 4/10\n",
      "8744/8744 [==============================] - 46s 5ms/sample - loss: 0.1223\n",
      "Epoch 5/10\n",
      "8744/8744 [==============================] - 46s 5ms/sample - loss: 0.0912\n",
      "Epoch 6/10\n",
      "8744/8744 [==============================] - 46s 5ms/sample - loss: 0.0604\n",
      "Epoch 7/10\n",
      "8744/8744 [==============================] - 45s 5ms/sample - loss: 0.0533\n",
      "Epoch 8/10\n",
      "8744/8744 [==============================] - 46s 5ms/sample - loss: 0.0390\n",
      "Epoch 9/10\n",
      "8744/8744 [==============================] - 45s 5ms/sample - loss: 0.0296\n",
      "Epoch 10/10\n",
      "8744/8744 [==============================] - 44s 5ms/sample - loss: 0.0262\n"
     ]
    },
    {
     "data": {
      "text/plain": [
       "<tensorflow.python.keras.callbacks.History at 0x7fa12029ac88>"
      ]
     },
     "execution_count": 30,
     "metadata": {},
     "output_type": "execute_result"
    }
   ],
   "source": [
    "model.fit(x2_train,y2_train, epochs=10)"
   ]
  },
  {
   "cell_type": "code",
   "execution_count": 31,
   "metadata": {},
   "outputs": [
    {
     "name": "stdout",
     "output_type": "stream",
     "text": [
      "[[1684  202]\n",
      " [ 206   95]]\n",
      "Accuracy Socre:  0.813443072702332\n",
      "F1 score:  0.3177257525083612\n",
      "Precision:  0.31986531986531985\n",
      "Recall:  0.31561461794019935\n"
     ]
    }
   ],
   "source": [
    "y2_pred = model.predict_classes(x2_test)\n",
    "print(confusion_matrix(y2_test, y2_pred))\n",
    "print(\"Accuracy Socre: \",accuracy_score(y2_test, y2_pred))\n",
    "print(\"F1 score: \",f1_score(y2_test, y2_pred))\n",
    "print(\"Precision: \",precision_score(y2_test, y2_pred))\n",
    "print(\"Recall: \",recall_score(y2_test, y2_pred))"
   ]
  }
 ],
 "metadata": {
  "kernelspec": {
   "display_name": "Python 3",
   "language": "python",
   "name": "python3"
  },
  "language_info": {
   "codemirror_mode": {
    "name": "ipython",
    "version": 3
   },
   "file_extension": ".py",
   "mimetype": "text/x-python",
   "name": "python",
   "nbconvert_exporter": "python",
   "pygments_lexer": "ipython3",
   "version": "3.6.9"
  }
 },
 "nbformat": 4,
 "nbformat_minor": 2
}
