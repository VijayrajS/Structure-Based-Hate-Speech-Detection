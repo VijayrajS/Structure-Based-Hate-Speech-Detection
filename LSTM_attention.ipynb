{
 "cells": [
  {
   "cell_type": "code",
   "execution_count": 71,
   "metadata": {},
   "outputs": [],
   "source": [
    "import numpy as np\n",
    "import pandas as pd\n",
    "import tensorflow as tf\n",
    "import matplotlib.pyplot as plt\n",
    "import seaborn as sns\n",
    "import re\n",
    "import logging\n",
    "import nltk\n",
    "from nltk.corpus import stopwords\n",
    "from nltk.stem.porter import PorterStemmer\n",
    "from sklearn.metrics import confusion_matrix, accuracy_score, precision_score, recall_score, f1_score\n",
    "from sklearn.model_selection import train_test_split\n",
    "from tensorflow.keras.preprocessing.text import Tokenizer, one_hot\n",
    "from tensorflow.keras.preprocessing.sequence import pad_sequences\n",
    "from tensorflow.keras.layers import Dense, Flatten, Embedding, LSTM, GRU, Dropout\n",
    "from tensorflow.keras.models import Sequential\n",
    "from sklearn.datasets import make_classification\n",
    "from imblearn.over_sampling import RandomOverSampler\n",
    "from imblearn.under_sampling import RandomUnderSampler\n",
    "from collections import Counter\n",
    "#import pandas_ml as pdml\n"
   ]
  },
  {
   "cell_type": "markdown",
   "metadata": {},
   "source": [
    "# Reading Data"
   ]
  },
  {
   "cell_type": "code",
   "execution_count": 72,
   "metadata": {},
   "outputs": [],
   "source": [
    "data  = pd.read_csv('Data_processed/dataset.csv',sep=',',names=['Msg','Tag'])\n",
    "data1 = pd.read_csv('Data_processed/dataset_POS.csv',sep=',',names=['Msg','Tag'])\n",
    "data2 = pd.read_csv('Data_processed/dataset_stemmed.csv',sep=',',names=['Msg','Tag'])"
   ]
  },
  {
   "cell_type": "code",
   "execution_count": 73,
   "metadata": {},
   "outputs": [
    {
     "name": "stdout",
     "output_type": "stream",
     "text": [
      "<class 'pandas.core.frame.DataFrame'>\n",
      "Int64Index: 10938 entries, 0 to 10943\n",
      "Data columns (total 2 columns):\n",
      " #   Column  Non-Null Count  Dtype \n",
      "---  ------  --------------  ----- \n",
      " 0   Msg     10938 non-null  object\n",
      " 1   Tag     10938 non-null  int64 \n",
      "dtypes: int64(1), object(1)\n",
      "memory usage: 256.4+ KB\n"
     ]
    }
   ],
   "source": [
    "data.dropna(inplace=True)\n",
    "data.info()"
   ]
  },
  {
   "cell_type": "code",
   "execution_count": 74,
   "metadata": {},
   "outputs": [
    {
     "name": "stdout",
     "output_type": "stream",
     "text": [
      "<class 'pandas.core.frame.DataFrame'>\n",
      "Int64Index: 10764 entries, 0 to 10943\n",
      "Data columns (total 2 columns):\n",
      " #   Column  Non-Null Count  Dtype \n",
      "---  ------  --------------  ----- \n",
      " 0   Msg     10764 non-null  object\n",
      " 1   Tag     10764 non-null  int64 \n",
      "dtypes: int64(1), object(1)\n",
      "memory usage: 252.3+ KB\n"
     ]
    }
   ],
   "source": [
    "data1.dropna(inplace=True)\n",
    "data1.info()"
   ]
  },
  {
   "cell_type": "code",
   "execution_count": 75,
   "metadata": {},
   "outputs": [
    {
     "name": "stdout",
     "output_type": "stream",
     "text": [
      "<class 'pandas.core.frame.DataFrame'>\n",
      "Int64Index: 10931 entries, 0 to 10943\n",
      "Data columns (total 2 columns):\n",
      " #   Column  Non-Null Count  Dtype \n",
      "---  ------  --------------  ----- \n",
      " 0   Msg     10931 non-null  object\n",
      " 1   Tag     10931 non-null  int64 \n",
      "dtypes: int64(1), object(1)\n",
      "memory usage: 256.2+ KB\n"
     ]
    }
   ],
   "source": [
    "data2.dropna(inplace=True)\n",
    "data2.info()"
   ]
  },
  {
   "cell_type": "code",
   "execution_count": 76,
   "metadata": {},
   "outputs": [],
   "source": [
    "data_X = data['Msg'].to_numpy()\n",
    "data_Y = data['Tag'].to_numpy()\n",
    "data1_X = data['Msg'].to_numpy()\n",
    "data1_Y = data['Tag'].to_numpy()\n",
    "data2_X = data['Msg'].to_numpy()\n",
    "data2_Y = data['Tag'].to_numpy()"
   ]
  },
  {
   "cell_type": "code",
   "execution_count": 77,
   "metadata": {},
   "outputs": [],
   "source": [
    "data_X  = np.reshape(data_X, (data_X.shape[0],1))\n",
    "data_Y  = np.reshape(data_Y, (data_Y.shape[0],1))\n",
    "data1_X = np.reshape(data1_X, (data1_X.shape[0],1))\n",
    "data1_Y = np.reshape(data1_Y, (data1_Y.shape[0],1))\n",
    "data2_X = np.reshape(data2_X, (data2_X.shape[0],1))\n",
    "data2_Y = np.reshape(data2_Y, (data2_Y.shape[0],1))"
   ]
  },
  {
   "cell_type": "markdown",
   "metadata": {},
   "source": [
    "# Without POS + Stemming"
   ]
  },
  {
   "cell_type": "markdown",
   "metadata": {},
   "source": [
    "## Random Oversampling"
   ]
  },
  {
   "cell_type": "code",
   "execution_count": 78,
   "metadata": {},
   "outputs": [],
   "source": [
    "ros = RandomOverSampler()\n",
    "data_os_Msg, data_os_Tag = ros.fit_sample(data_X, data_Y)"
   ]
  },
  {
   "cell_type": "code",
   "execution_count": 79,
   "metadata": {},
   "outputs": [
    {
     "name": "stdout",
     "output_type": "stream",
     "text": [
      "Counter({1: 9504, 0: 9504})\n"
     ]
    }
   ],
   "source": [
    "print(Counter(data_os_Tag))"
   ]
  },
  {
   "cell_type": "markdown",
   "metadata": {},
   "source": [
    "## Random Undersampling"
   ]
  },
  {
   "cell_type": "code",
   "execution_count": 80,
   "metadata": {},
   "outputs": [],
   "source": [
    "ros = RandomUnderSampler()\n",
    "data_us_Msg, data_us_Tag = ros.fit_sample(data_X, data_Y)"
   ]
  },
  {
   "cell_type": "code",
   "execution_count": 81,
   "metadata": {},
   "outputs": [
    {
     "name": "stdout",
     "output_type": "stream",
     "text": [
      "Counter({0: 1434, 1: 1434})\n"
     ]
    }
   ],
   "source": [
    "print(Counter(data_us_Tag))"
   ]
  },
  {
   "cell_type": "markdown",
   "metadata": {},
   "source": [
    "# POS"
   ]
  },
  {
   "cell_type": "markdown",
   "metadata": {},
   "source": [
    "## Random Oversampling"
   ]
  },
  {
   "cell_type": "code",
   "execution_count": 82,
   "metadata": {},
   "outputs": [],
   "source": [
    "ros1 = RandomOverSampler()\n",
    "data1_os_Msg, data1_os_Tag = ros1.fit_sample(data1_X, data1_Y)"
   ]
  },
  {
   "cell_type": "code",
   "execution_count": 83,
   "metadata": {},
   "outputs": [
    {
     "name": "stdout",
     "output_type": "stream",
     "text": [
      "Counter({1: 9504, 0: 9504})\n"
     ]
    }
   ],
   "source": [
    "print(Counter(data1_os_Tag))"
   ]
  },
  {
   "cell_type": "markdown",
   "metadata": {},
   "source": [
    "## Random Undersampling"
   ]
  },
  {
   "cell_type": "code",
   "execution_count": 84,
   "metadata": {},
   "outputs": [],
   "source": [
    "ros1 = RandomUnderSampler()\n",
    "data1_us_Msg, data1_us_Tag = ros1.fit_sample(data1_X, data1_Y)"
   ]
  },
  {
   "cell_type": "code",
   "execution_count": 90,
   "metadata": {},
   "outputs": [
    {
     "name": "stdout",
     "output_type": "stream",
     "text": [
      "Counter({0: 1434, 1: 1434})\n"
     ]
    }
   ],
   "source": [
    "print(Counter(data1_us_Tag))"
   ]
  },
  {
   "cell_type": "markdown",
   "metadata": {},
   "source": [
    "# POS + Stemming"
   ]
  },
  {
   "cell_type": "markdown",
   "metadata": {},
   "source": [
    "## Random Oversampling"
   ]
  },
  {
   "cell_type": "code",
   "execution_count": 86,
   "metadata": {},
   "outputs": [],
   "source": [
    "ros2 = RandomOverSampler()\n",
    "data2_os_Msg, data2_os_Tag = ros2.fit_sample(data2_X, data2_Y)"
   ]
  },
  {
   "cell_type": "code",
   "execution_count": 87,
   "metadata": {},
   "outputs": [
    {
     "name": "stdout",
     "output_type": "stream",
     "text": [
      "Counter({1: 9504, 0: 9504})\n"
     ]
    }
   ],
   "source": [
    "print(Counter(data2_os_Tag))"
   ]
  },
  {
   "cell_type": "markdown",
   "metadata": {},
   "source": [
    "## Random Undersampling"
   ]
  },
  {
   "cell_type": "code",
   "execution_count": 88,
   "metadata": {},
   "outputs": [],
   "source": [
    "ros2 = RandomUnderSampler()\n",
    "data2_us_Msg, data2_us_Tag = ros2.fit_sample(data2_X, data2_Y)"
   ]
  },
  {
   "cell_type": "code",
   "execution_count": 91,
   "metadata": {},
   "outputs": [
    {
     "name": "stdout",
     "output_type": "stream",
     "text": [
      "Counter({0: 1434, 1: 1434})\n"
     ]
    }
   ],
   "source": [
    "print(Counter(data2_us_Tag))"
   ]
  }
 ],
 "metadata": {
  "kernelspec": {
   "display_name": "Python 3",
   "language": "python",
   "name": "python3"
  },
  "language_info": {
   "codemirror_mode": {
    "name": "ipython",
    "version": 3
   },
   "file_extension": ".py",
   "mimetype": "text/x-python",
   "name": "python",
   "nbconvert_exporter": "python",
   "pygments_lexer": "ipython3",
   "version": "3.6.9"
  }
 },
 "nbformat": 4,
 "nbformat_minor": 2
}
