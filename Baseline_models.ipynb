{
  "nbformat": 4,
  "nbformat_minor": 0,
  "metadata": {
    "colab": {
      "name": "Data_Preprocessing.ipynb",
      "provenance": []
    },
    "kernelspec": {
      "name": "python3",
      "display_name": "Python 3"
    }
  },
  "cells": [
    {
      "cell_type": "markdown",
      "metadata": {
        "id": "XLxA0bczhlvs"
      },
      "source": [
        "# Baseline ML models\n"
      ]
    },
    {
      "cell_type": "code",
      "metadata": {
        "id": "z0-UKGwnzIMU"
      },
      "source": [
        "import numpy as np\n",
        "import pandas as pd\n",
        "from sklearn.feature_extraction.text import CountVectorizer\n",
        "from sklearn.model_selection import train_test_split\n",
        "from sklearn.naive_bayes import MultinomialNB"
      ],
      "execution_count": 1,
      "outputs": []
    },
    {
      "cell_type": "markdown",
      "metadata": {
        "id": "pSidcUZch1yy"
      },
      "source": [
        "# Reading datasets and creating test train split"
      ]
    },
    {
      "cell_type": "code",
      "metadata": {
        "id": "VqLMpGP_5hX7",
        "outputId": "7b5a52ce-b196-4277-f6a4-fb9f07bb209e",
        "colab": {
          "base_uri": "https://localhost:8080/",
          "height": 206
        }
      },
      "source": [
        "data = pd.read_csv('dataset.csv',sep=',',names=['Msg','Tag'])\n",
        "data1 = pd.read_csv('dataset_POS.csv',sep=',',names=['Msg','Tag'])\n",
        "data2 = pd.read_csv('dataset_stemmed.csv',sep=',',names=['Msg','Tag'])\n",
        "\n",
        "data.head()"
      ],
      "execution_count": 2,
      "outputs": [
        {
          "output_type": "execute_result",
          "data": {
            "text/html": [
              "<div>\n",
              "<style scoped>\n",
              "    .dataframe tbody tr th:only-of-type {\n",
              "        vertical-align: middle;\n",
              "    }\n",
              "\n",
              "    .dataframe tbody tr th {\n",
              "        vertical-align: top;\n",
              "    }\n",
              "\n",
              "    .dataframe thead th {\n",
              "        text-align: right;\n",
              "    }\n",
              "</style>\n",
              "<table border=\"1\" class=\"dataframe\">\n",
              "  <thead>\n",
              "    <tr style=\"text-align: right;\">\n",
              "      <th></th>\n",
              "      <th>Msg</th>\n",
              "      <th>Tag</th>\n",
              "    </tr>\n",
              "  </thead>\n",
              "  <tbody>\n",
              "    <tr>\n",
              "      <th>0</th>\n",
              "      <td>The thing disgusting White woman groid White w...</td>\n",
              "      <td>1</td>\n",
              "    </tr>\n",
              "    <tr>\n",
              "      <th>1</th>\n",
              "      <td>Americans acting like know talking</td>\n",
              "      <td>0</td>\n",
              "    </tr>\n",
              "    <tr>\n",
              "      <th>2</th>\n",
              "      <td>Also intrested check webpage info european ame...</td>\n",
              "      <td>0</td>\n",
              "    </tr>\n",
              "    <tr>\n",
              "      <th>3</th>\n",
              "      <td>I think need take stand homes across country a...</td>\n",
              "      <td>0</td>\n",
              "    </tr>\n",
              "    <tr>\n",
              "      <th>4</th>\n",
              "      <td>I think connection homosexuality Christianity ...</td>\n",
              "      <td>1</td>\n",
              "    </tr>\n",
              "  </tbody>\n",
              "</table>\n",
              "</div>"
            ],
            "text/plain": [
              "                                                 Msg  Tag\n",
              "0  The thing disgusting White woman groid White w...    1\n",
              "1                Americans acting like know talking     0\n",
              "2  Also intrested check webpage info european ame...    0\n",
              "3  I think need take stand homes across country a...    0\n",
              "4  I think connection homosexuality Christianity ...    1"
            ]
          },
          "metadata": {
            "tags": []
          },
          "execution_count": 2
        }
      ]
    },
    {
      "cell_type": "code",
      "metadata": {
        "id": "sl1WZY_L5jIS",
        "outputId": "c9e48129-6193-49c4-a65c-e3ca7a74bcfa",
        "colab": {
          "base_uri": "https://localhost:8080/",
          "height": 121
        }
      },
      "source": [
        "data_x=data[\"Msg\"]\n",
        "data_y=data[\"Tag\"]\n",
        "cv = CountVectorizer()\n",
        "x_train, x_test, y_train, y_test = train_test_split(data_x, data_y, test_size=0.2, random_state=4)\n",
        "\n",
        "data1_x=data1[\"Msg\"]\n",
        "data1_y=data1[\"Tag\"]\n",
        "cv = CountVectorizer()\n",
        "x1_train, x1_test, y1_train, y1_test = train_test_split(data1_x, data1_y, test_size=0.2, random_state=4)\n",
        "\n",
        "data2_x=data2[\"Msg\"]\n",
        "data2_y=data2[\"Tag\"]\n",
        "cv = CountVectorizer()\n",
        "x2_train, x2_test, y2_train, y2_test = train_test_split(data2_x, data2_y, test_size=0.2, random_state=4)\n",
        "\n",
        "x_train.head()"
      ],
      "execution_count": 3,
      "outputs": [
        {
          "output_type": "execute_result",
          "data": {
            "text/plain": [
              "8752    Also stupid white women watch Oprah realize fa...\n",
              "9141                     Jews insane literal demonic DNA \n",
              "5426                           I go I post soon possible \n",
              "2197    Hey live smithfield lived newport news jeffers...\n",
              "8687    Manic street preachers also red scum basically...\n",
              "Name: Msg, dtype: object"
            ]
          },
          "metadata": {
            "tags": []
          },
          "execution_count": 3
        }
      ]
    },
    {
      "cell_type": "code",
      "metadata": {
        "id": "zm_-azEfNBUw",
        "outputId": "130043d0-2a12-4b37-fedb-2946942a01d7",
        "colab": {
          "base_uri": "https://localhost:8080/",
          "height": 191
        }
      },
      "source": [
        "cv = CountVectorizer()\n",
        "x_traincv = cv.fit_transform([\"bayhdb hab ujhanvuz sniugnv\",\"shnf nfuje test test\",\"test anhf janbd whbj\"])\n",
        "x_traincv.toarray()\n",
        "cv.get_feature_names()"
      ],
      "execution_count": 4,
      "outputs": [
        {
          "output_type": "execute_result",
          "data": {
            "text/plain": [
              "['anhf',\n",
              " 'bayhdb',\n",
              " 'hab',\n",
              " 'janbd',\n",
              " 'nfuje',\n",
              " 'shnf',\n",
              " 'sniugnv',\n",
              " 'test',\n",
              " 'ujhanvuz',\n",
              " 'whbj']"
            ]
          },
          "metadata": {
            "tags": []
          },
          "execution_count": 4
        }
      ]
    },
    {
      "cell_type": "markdown",
      "metadata": {
        "id": "gMDwzdUKh88I"
      },
      "source": [
        "# Defining and fitting count vectorizer"
      ]
    },
    {
      "cell_type": "code",
      "metadata": {
        "id": "KhYCjcAt5jmN",
        "outputId": "57ea2be3-3dca-4199-db80-061e09871a34",
        "colab": {
          "base_uri": "https://localhost:8080/",
          "height": 34
        }
      },
      "source": [
        "cv1 = CountVectorizer()\n",
        "x_traincv=cv1.fit_transform(x_train.values.astype('U'))\n",
        "a=x_traincv.toarray()\n",
        "a[0]\n",
        "\n",
        "cv11 = CountVectorizer()\n",
        "x1_traincv=cv11.fit_transform(x1_train.values.astype('U'))\n",
        "a1=x1_traincv.toarray()\n",
        "a1[0]\n",
        "\n",
        "cv12 = CountVectorizer()\n",
        "x2_traincv=cv12.fit_transform(x2_train.values.astype('U'))\n",
        "a2=x2_traincv.toarray()\n",
        "a2[0]"
      ],
      "execution_count": 5,
      "outputs": [
        {
          "output_type": "execute_result",
          "data": {
            "text/plain": [
              "array([0, 0, 0, ..., 0, 0, 0])"
            ]
          },
          "metadata": {
            "tags": []
          },
          "execution_count": 5
        }
      ]
    },
    {
      "cell_type": "code",
      "metadata": {
        "id": "HwiYdh5J5kAQ",
        "outputId": "3883170d-8dc0-40a0-ab6f-08181759d872",
        "colab": {
          "base_uri": "https://localhost:8080/",
          "height": 139
        }
      },
      "source": [
        "x_testcv=cv1.transform(x_test.values.astype('U'))\n",
        "x_testcv.toarray()\n",
        "\n",
        "x1_testcv=cv11.transform(x1_test.values.astype('U'))\n",
        "x1_testcv.toarray()\n",
        "\n",
        "x2_testcv=cv12.transform(x2_test.values.astype('U'))\n",
        "x2_testcv.toarray()\n"
      ],
      "execution_count": 6,
      "outputs": [
        {
          "output_type": "execute_result",
          "data": {
            "text/plain": [
              "array([[0, 0, 0, ..., 0, 0, 0],\n",
              "       [0, 0, 0, ..., 0, 0, 0],\n",
              "       [0, 0, 0, ..., 0, 0, 0],\n",
              "       ...,\n",
              "       [0, 0, 0, ..., 0, 0, 0],\n",
              "       [0, 0, 0, ..., 0, 0, 0],\n",
              "       [0, 0, 0, ..., 0, 0, 0]])"
            ]
          },
          "metadata": {
            "tags": []
          },
          "execution_count": 6
        }
      ]
    },
    {
      "cell_type": "markdown",
      "metadata": {
        "id": "MR2ZyJO_iDa8"
      },
      "source": [
        "# Naive Bayes classification model"
      ]
    },
    {
      "cell_type": "code",
      "metadata": {
        "id": "fq3uVoxn5kit",
        "outputId": "c55ecc8b-19d3-43c5-fb0a-d9ee57af031d",
        "colab": {
          "base_uri": "https://localhost:8080/",
          "height": 225
        }
      },
      "source": [
        "mnb = MultinomialNB()\n",
        "mnb1 = MultinomialNB()\n",
        "mnb2 = MultinomialNB()\n",
        "\n",
        "y_train=y_train.astype('int')\n",
        "y_train\n",
        "\n",
        "y1_train=y1_train.astype('int')\n",
        "y1_train\n",
        "\n",
        "y2_train=y2_train.astype('int')\n",
        "y2_train"
      ],
      "execution_count": 13,
      "outputs": [
        {
          "output_type": "execute_result",
          "data": {
            "text/plain": [
              "8752     0\n",
              "9141     1\n",
              "5426     0\n",
              "2197     0\n",
              "8687     1\n",
              "        ..\n",
              "6017     0\n",
              "709      0\n",
              "10679    0\n",
              "8366     0\n",
              "1146     0\n",
              "Name: Tag, Length: 8755, dtype: int64"
            ]
          },
          "metadata": {
            "tags": []
          },
          "execution_count": 13
        }
      ]
    },
    {
      "cell_type": "code",
      "metadata": {
        "id": "Cjxv_OJy5lCx",
        "outputId": "29f29a42-803d-44d3-9423-936fe5518b91",
        "colab": {
          "base_uri": "https://localhost:8080/",
          "height": 34
        }
      },
      "source": [
        "mnb.fit(x_traincv,y_train)\n",
        "mnb1.fit(x1_traincv,y1_train)\n",
        "mnb2.fit(x2_traincv,y2_train)\n",
        "\n"
      ],
      "execution_count": 14,
      "outputs": [
        {
          "output_type": "execute_result",
          "data": {
            "text/plain": [
              "MultinomialNB(alpha=1.0, class_prior=None, fit_prior=True)"
            ]
          },
          "metadata": {
            "tags": []
          },
          "execution_count": 14
        }
      ]
    },
    {
      "cell_type": "code",
      "metadata": {
        "id": "ybdRpLX05lcx",
        "outputId": "e1fe0d4f-0a12-4e71-8e58-98b96be89603",
        "colab": {
          "base_uri": "https://localhost:8080/",
          "height": 69
        }
      },
      "source": [
        "predictions=mnb.predict(x_testcv)\n",
        "print(predictions)\n",
        "a=np.array(y_test)\n",
        "\n",
        "predictions1=mnb1.predict(x1_testcv)\n",
        "print(predictions1)\n",
        "a1=np.array(y1_test)\n",
        "\n",
        "predictions2=mnb2.predict(x2_testcv)\n",
        "print(predictions2)\n",
        "a2=np.array(y2_test)"
      ],
      "execution_count": 22,
      "outputs": [
        {
          "output_type": "stream",
          "text": [
            "[0 0 0 ... 0 0 0]\n",
            "[0 0 0 ... 0 0 0]\n",
            "[0 0 0 ... 0 0 0]\n"
          ],
          "name": "stdout"
        }
      ]
    },
    {
      "cell_type": "markdown",
      "metadata": {
        "id": "Cf33yL2hiKp4"
      },
      "source": [
        "# Calculating accuracies of the model"
      ]
    },
    {
      "cell_type": "code",
      "metadata": {
        "id": "tISrKgFYPAb4"
      },
      "source": [
        "count = 0\n",
        "for i in range (len(predictions)):\n",
        "    if predictions[i]==a[i]:\n",
        "        count=count+1\n",
        "\n",
        "count1 = 0\n",
        "for i in range (len(predictions1)):\n",
        "    if predictions1[i]==a1[i]:\n",
        "        count1=count1+1\n",
        "\n",
        "count2 = 0\n",
        "for i in range (len(predictions2)):\n",
        "    if predictions2[i]==a2[i]:\n",
        "        count2=count2+1"
      ],
      "execution_count": 16,
      "outputs": []
    },
    {
      "cell_type": "code",
      "metadata": {
        "id": "nH9L1zcjPLmg",
        "outputId": "d59dbf6e-b0c7-4063-cdea-e48b1afd2daa",
        "colab": {
          "base_uri": "https://localhost:8080/",
          "height": 121
        }
      },
      "source": [
        "print(\"Accuracy of Naive bayes with dataset\")\n",
        "print(count/len(predictions))\n",
        "print(\"Accuracy of Naive bayes with POS tagged dataset\")\n",
        "print(count1/len(predictions1))\n",
        "print(\"Accuracy of Naive bayes with stemmed and POS tagged dataset\")\n",
        "print(count2/len(predictions2))\n"
      ],
      "execution_count": 19,
      "outputs": [
        {
          "output_type": "stream",
          "text": [
            "Accuracy of Naive bayes with dataset\n",
            "0.8780264961169484\n",
            "Accuracy of Naive bayes with POS tagged dataset\n",
            "0.8793969849246231\n",
            "Accuracy of Naive bayes with stemmed and POS tagged dataset\n",
            "0.8784833257195066\n"
          ],
          "name": "stdout"
        }
      ]
    }
  ]
}