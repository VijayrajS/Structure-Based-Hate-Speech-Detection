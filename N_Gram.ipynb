{
  "nbformat": 4,
  "nbformat_minor": 0,
  "metadata": {
    "kernelspec": {
      "display_name": "Python 3",
      "language": "python",
      "name": "python3"
    },
    "language_info": {
      "codemirror_mode": {
        "name": "ipython",
        "version": 3
      },
      "file_extension": ".py",
      "mimetype": "text/x-python",
      "name": "python",
      "nbconvert_exporter": "python",
      "pygments_lexer": "ipython3",
      "version": "3.8.5"
    },
    "colab": {
      "name": "N-Gram.ipynb",
      "provenance": [],
      "toc_visible": true
    }
  },
  "cells": [
    {
      "cell_type": "markdown",
      "metadata": {
        "id": "oI5J4dpLT2bG"
      },
      "source": [
        "# N Gram model"
      ]
    },
    {
      "cell_type": "markdown",
      "metadata": {
        "id": "AjJiyroeT2bS"
      },
      "source": [
        "### Importing prerequisite libraries"
      ]
    },
    {
      "cell_type": "code",
      "metadata": {
        "id": "AzKFsqNLT2bV",
        "outputId": "7c3ed63e-0ddc-4ac6-c583-76bb4ed80985",
        "colab": {
          "base_uri": "https://localhost:8080/"
        }
      },
      "source": [
        "import numpy as np\n",
        "import pandas as pd\n",
        "import nltk\n",
        "nltk.download('stopwords')\n",
        "from sklearn.feature_extraction.text import CountVectorizer\n",
        "from sklearn.model_selection import train_test_split\n",
        "from sklearn.naive_bayes import MultinomialNB\n",
        "from sklearn.svm import SVC\n",
        "from sklearn.pipeline import make_pipeline\n",
        "from sklearn.preprocessing import StandardScaler\n",
        "from sklearn.linear_model import LogisticRegression\n",
        "from sklearn import tree\n",
        "from sklearn.metrics import precision_recall_fscore_support\n",
        "from sklearn.metrics import f1_score\n",
        "from sklearn.metrics import accuracy_score\n",
        "from sklearn.metrics import precision_score\n",
        "from sklearn.metrics import recall_score\n",
        "from nltk.corpus import stopwords"
      ],
      "execution_count": 60,
      "outputs": [
        {
          "output_type": "stream",
          "text": [
            "[nltk_data] Downloading package stopwords to /root/nltk_data...\n",
            "[nltk_data]   Package stopwords is already up-to-date!\n"
          ],
          "name": "stdout"
        }
      ]
    },
    {
      "cell_type": "markdown",
      "metadata": {
        "id": "ZGeX-Rs_T2bq"
      },
      "source": [
        "### Loading datasets and dropping nulls"
      ]
    },
    {
      "cell_type": "code",
      "metadata": {
        "id": "0REa9i2BT2bs"
      },
      "source": [
        "data = pd.read_csv('dataset.csv',sep=',',names=['Msg','Tag'])\n",
        "data1 = pd.read_csv('dataset_POS.csv',sep=',',names=['Msg','Tag'])\n",
        "data2 = pd.read_csv('dataset_stemmed.csv',sep=',',names=['Msg','Tag'])"
      ],
      "execution_count": 61,
      "outputs": []
    },
    {
      "cell_type": "code",
      "metadata": {
        "id": "7UTtOLhOT2cF"
      },
      "source": [
        "data.dropna(inplace=True)"
      ],
      "execution_count": 62,
      "outputs": []
    },
    {
      "cell_type": "code",
      "metadata": {
        "id": "dB_z_glxT2cc"
      },
      "source": [
        "data1.dropna(inplace=True)"
      ],
      "execution_count": 63,
      "outputs": []
    },
    {
      "cell_type": "code",
      "metadata": {
        "id": "CwUWMAPmT2cv"
      },
      "source": [
        "data2.dropna(inplace=True)"
      ],
      "execution_count": 64,
      "outputs": []
    },
    {
      "cell_type": "code",
      "metadata": {
        "id": "mytoY4npT2c8"
      },
      "source": [
        "data_x=data[\"Msg\"]\n",
        "data_y=data[\"Tag\"]\n",
        "\n",
        "x_train, x_test, y_train, y_test = train_test_split(data_x, data_y, test_size=0.2, random_state=4)\n",
        "\n",
        "data1_x=data1[\"Msg\"]\n",
        "data1_y=data1[\"Tag\"]\n",
        "\n",
        "x1_train, x1_test, y1_train, y1_test = train_test_split(data1_x, data1_y, test_size=0.2, random_state=4)\n",
        "\n",
        "data2_x=data2[\"Msg\"]\n",
        "data2_y=data2[\"Tag\"]\n",
        "\n",
        "x2_train, x2_test, y2_train, y2_test = train_test_split(data2_x, data2_y, test_size=0.2, random_state=4)"
      ],
      "execution_count": 65,
      "outputs": []
    },
    {
      "cell_type": "code",
      "metadata": {
        "id": "sLJvyNImCis7"
      },
      "source": [
        "en_stopwords = set(stopwords.words(\"english\"))\n",
        "\n",
        "def tokenize(text):\n",
        "  return text.split()"
      ],
      "execution_count": 66,
      "outputs": []
    },
    {
      "cell_type": "code",
      "metadata": {
        "id": "fP3po75bRFdm",
        "outputId": "b14b914c-1d13-4235-d6e0-13be105aaa1b",
        "colab": {
          "base_uri": "https://localhost:8080/"
        }
      },
      "source": [
        "types = [(1,1),(1,2),(1,3),(1,4)]\n",
        "names = ['unigram','bigram','trigram','four gram']\n",
        "ans = {}\n",
        "ans['model'] = []\n",
        "ans['F1-score'] = []\n",
        "ans['Recall'] = []\n",
        "ans['Accuracy'] = []\n",
        "ans['Precision'] = []\n",
        "\n",
        "for i in range(len(types)):\n",
        "    vectorizer = CountVectorizer(\n",
        "        analyzer = 'word',\n",
        "        lowercase = True,\n",
        "        tokenizer = tokenize,\n",
        "        ngram_range=types[i],\n",
        "        stop_words = en_stopwords)\n",
        "\n",
        "    vectorizer.fit(x1_train)\n",
        "    train_set = vectorizer.transform(x1_train)\n",
        "    test_set = vectorizer.transform(x1_test)\n",
        "    string = names[i]+' '+'using LR'\n",
        "\n",
        "    #Testing results with LR\n",
        "    lr = LogisticRegression(random_state=0, solver='lbfgs',multi_class='multinomial')  \n",
        "    lr.fit(train_set, y1_train)\n",
        "    prediction = lr.predict(test_set)\n",
        "    \n",
        "    f1 = f1_score(y1_test, prediction, average='weighted')\n",
        "    acc = accuracy_score(y1_test, prediction)\n",
        "    rec = recall_score(y1_test, prediction, average = 'macro')\n",
        "    pre = precision_score(y1_test, prediction, average='macro')\n",
        "    \n",
        "    ans['model'].append(string)\n",
        "    ans['F1-score'].append(f1)\n",
        "    ans['Recall'].append(rec)\n",
        "    ans['Accuracy'].append(acc)\n",
        "    ans['Precision'].append(pre)"
      ],
      "execution_count": 67,
      "outputs": [
        {
          "output_type": "stream",
          "text": [
            "/usr/local/lib/python3.6/dist-packages/sklearn/feature_extraction/text.py:507: UserWarning: The parameter 'token_pattern' will not be used since 'tokenizer' is not None'\n",
            "  warnings.warn(\"The parameter 'token_pattern' will not be used\"\n",
            "/usr/local/lib/python3.6/dist-packages/sklearn/linear_model/_logistic.py:940: ConvergenceWarning: lbfgs failed to converge (status=1):\n",
            "STOP: TOTAL NO. of ITERATIONS REACHED LIMIT.\n",
            "\n",
            "Increase the number of iterations (max_iter) or scale the data as shown in:\n",
            "    https://scikit-learn.org/stable/modules/preprocessing.html\n",
            "Please also refer to the documentation for alternative solver options:\n",
            "    https://scikit-learn.org/stable/modules/linear_model.html#logistic-regression\n",
            "  extra_warning_msg=_LOGISTIC_SOLVER_CONVERGENCE_MSG)\n",
            "/usr/local/lib/python3.6/dist-packages/sklearn/feature_extraction/text.py:507: UserWarning: The parameter 'token_pattern' will not be used since 'tokenizer' is not None'\n",
            "  warnings.warn(\"The parameter 'token_pattern' will not be used\"\n",
            "/usr/local/lib/python3.6/dist-packages/sklearn/feature_extraction/text.py:507: UserWarning: The parameter 'token_pattern' will not be used since 'tokenizer' is not None'\n",
            "  warnings.warn(\"The parameter 'token_pattern' will not be used\"\n",
            "/usr/local/lib/python3.6/dist-packages/sklearn/feature_extraction/text.py:507: UserWarning: The parameter 'token_pattern' will not be used since 'tokenizer' is not None'\n",
            "  warnings.warn(\"The parameter 'token_pattern' will not be used\"\n"
          ],
          "name": "stderr"
        }
      ]
    },
    {
      "cell_type": "code",
      "metadata": {
        "id": "aeguIrg5EQJT",
        "outputId": "14fc651a-820a-4c96-b5a7-32e84cfc93e4",
        "colab": {
          "base_uri": "https://localhost:8080/",
          "height": 175
        }
      },
      "source": [
        "import operator\n",
        "final = pd.DataFrame(ans)\n",
        "final"
      ],
      "execution_count": 68,
      "outputs": [
        {
          "output_type": "execute_result",
          "data": {
            "text/html": [
              "<div>\n",
              "<style scoped>\n",
              "    .dataframe tbody tr th:only-of-type {\n",
              "        vertical-align: middle;\n",
              "    }\n",
              "\n",
              "    .dataframe tbody tr th {\n",
              "        vertical-align: top;\n",
              "    }\n",
              "\n",
              "    .dataframe thead th {\n",
              "        text-align: right;\n",
              "    }\n",
              "</style>\n",
              "<table border=\"1\" class=\"dataframe\">\n",
              "  <thead>\n",
              "    <tr style=\"text-align: right;\">\n",
              "      <th></th>\n",
              "      <th>model</th>\n",
              "      <th>F1-score</th>\n",
              "      <th>Recall</th>\n",
              "      <th>Accuracy</th>\n",
              "      <th>Precision</th>\n",
              "    </tr>\n",
              "  </thead>\n",
              "  <tbody>\n",
              "    <tr>\n",
              "      <th>0</th>\n",
              "      <td>unigram using LR</td>\n",
              "      <td>0.835321</td>\n",
              "      <td>0.587252</td>\n",
              "      <td>0.862053</td>\n",
              "      <td>0.701507</td>\n",
              "    </tr>\n",
              "    <tr>\n",
              "      <th>1</th>\n",
              "      <td>bigram using LR</td>\n",
              "      <td>0.825578</td>\n",
              "      <td>0.555891</td>\n",
              "      <td>0.865304</td>\n",
              "      <td>0.733687</td>\n",
              "    </tr>\n",
              "    <tr>\n",
              "      <th>2</th>\n",
              "      <td>trigram using LR</td>\n",
              "      <td>0.818578</td>\n",
              "      <td>0.541225</td>\n",
              "      <td>0.863911</td>\n",
              "      <td>0.732820</td>\n",
              "    </tr>\n",
              "    <tr>\n",
              "      <th>3</th>\n",
              "      <td>four gram using LR</td>\n",
              "      <td>0.816322</td>\n",
              "      <td>0.536799</td>\n",
              "      <td>0.863446</td>\n",
              "      <td>0.732010</td>\n",
              "    </tr>\n",
              "  </tbody>\n",
              "</table>\n",
              "</div>"
            ],
            "text/plain": [
              "                model  F1-score    Recall  Accuracy  Precision\n",
              "0    unigram using LR  0.835321  0.587252  0.862053   0.701507\n",
              "1     bigram using LR  0.825578  0.555891  0.865304   0.733687\n",
              "2    trigram using LR  0.818578  0.541225  0.863911   0.732820\n",
              "3  four gram using LR  0.816322  0.536799  0.863446   0.732010"
            ]
          },
          "metadata": {
            "tags": []
          },
          "execution_count": 68
        }
      ]
    }
  ]
}