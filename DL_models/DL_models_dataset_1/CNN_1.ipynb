{
  "nbformat": 4,
  "nbformat_minor": 0,
  "metadata": {
    "kernelspec": {
      "display_name": "Python 3",
      "language": "python",
      "name": "python3"
    },
    "language_info": {
      "codemirror_mode": {
        "name": "ipython",
        "version": 3
      },
      "file_extension": ".py",
      "mimetype": "text/x-python",
      "name": "python",
      "nbconvert_exporter": "python",
      "pygments_lexer": "ipython3",
      "version": "3.8.5"
    },
    "colab": {
      "name": "CNN_1.ipynb",
      "provenance": [],
      "toc_visible": true
    }
  },
  "cells": [
    {
      "cell_type": "markdown",
      "metadata": {
        "id": "FUTLXwU7gSlo"
      },
      "source": [
        "# CNN with word embeddings"
      ]
    },
    {
      "cell_type": "markdown",
      "metadata": {
        "id": "8_eyQqlJgSlo"
      },
      "source": [
        "### Importing prerequisite libraries"
      ]
    },
    {
      "cell_type": "code",
      "metadata": {
        "id": "PbOI5_pKgSlo"
      },
      "source": [
        "from tensorflow.keras.preprocessing.text import Tokenizer, one_hot\n",
        "from tensorflow.keras.preprocessing.sequence import pad_sequences\n",
        "from tensorflow.keras.layers import Dense, Flatten, Embedding, LSTM, GRU, Dropout, Conv1D, MaxPooling1D\n",
        "from tensorflow.keras.models import Sequential\n",
        "import pandas  as pd\n",
        "from sklearn.feature_extraction.text import CountVectorizer\n",
        "from sklearn.model_selection import train_test_split\n",
        "from sklearn.naive_bayes import MultinomialNB\n",
        "from sklearn.metrics import confusion_matrix, accuracy_score, precision_score, recall_score, f1_score"
      ],
      "execution_count": 1,
      "outputs": []
    },
    {
      "cell_type": "markdown",
      "metadata": {
        "id": "6fbgGh4kgSlo"
      },
      "source": [
        "### Loading datasets and dropping nulls"
      ]
    },
    {
      "cell_type": "code",
      "metadata": {
        "colab": {
          "base_uri": "https://localhost:8080/",
          "height": 206
        },
        "id": "l8EMVgS1gSlo",
        "outputId": "cefccebe-935f-4cc4-e533-e47a38b1d25f"
      },
      "source": [
        "data = pd.read_csv('dataset.csv',sep=',',names=['Msg','Tag'])\n",
        "data1 = pd.read_csv('dataset_POS.csv',sep=',',names=['Msg','Tag'])\n",
        "data2 = pd.read_csv('dataset_stemmed.csv',sep=',',names=['Msg','Tag'])\n",
        "\n",
        "data.head()"
      ],
      "execution_count": 3,
      "outputs": [
        {
          "output_type": "execute_result",
          "data": {
            "text/html": [
              "<div>\n",
              "<style scoped>\n",
              "    .dataframe tbody tr th:only-of-type {\n",
              "        vertical-align: middle;\n",
              "    }\n",
              "\n",
              "    .dataframe tbody tr th {\n",
              "        vertical-align: top;\n",
              "    }\n",
              "\n",
              "    .dataframe thead th {\n",
              "        text-align: right;\n",
              "    }\n",
              "</style>\n",
              "<table border=\"1\" class=\"dataframe\">\n",
              "  <thead>\n",
              "    <tr style=\"text-align: right;\">\n",
              "      <th></th>\n",
              "      <th>Msg</th>\n",
              "      <th>Tag</th>\n",
              "    </tr>\n",
              "  </thead>\n",
              "  <tbody>\n",
              "    <tr>\n",
              "      <th>0</th>\n",
              "      <td>The thing disgusting White woman groid White w...</td>\n",
              "      <td>1</td>\n",
              "    </tr>\n",
              "    <tr>\n",
              "      <th>1</th>\n",
              "      <td>Americans acting like know talking</td>\n",
              "      <td>0</td>\n",
              "    </tr>\n",
              "    <tr>\n",
              "      <th>2</th>\n",
              "      <td>Also intrested check webpage info european ame...</td>\n",
              "      <td>0</td>\n",
              "    </tr>\n",
              "    <tr>\n",
              "      <th>3</th>\n",
              "      <td>I think need take stand homes across country a...</td>\n",
              "      <td>0</td>\n",
              "    </tr>\n",
              "    <tr>\n",
              "      <th>4</th>\n",
              "      <td>I think connection homosexuality Christianity ...</td>\n",
              "      <td>1</td>\n",
              "    </tr>\n",
              "  </tbody>\n",
              "</table>\n",
              "</div>"
            ],
            "text/plain": [
              "                                                 Msg  Tag\n",
              "0  The thing disgusting White woman groid White w...    1\n",
              "1                Americans acting like know talking     0\n",
              "2  Also intrested check webpage info european ame...    0\n",
              "3  I think need take stand homes across country a...    0\n",
              "4  I think connection homosexuality Christianity ...    1"
            ]
          },
          "metadata": {
            "tags": []
          },
          "execution_count": 3
        }
      ]
    },
    {
      "cell_type": "code",
      "metadata": {
        "scrolled": true,
        "colab": {
          "base_uri": "https://localhost:8080/"
        },
        "id": "Ofdq-9z6gSlq",
        "outputId": "604b66fc-e416-497b-bf8a-624e1d849d04"
      },
      "source": [
        "data.info()"
      ],
      "execution_count": 5,
      "outputs": [
        {
          "output_type": "stream",
          "text": [
            "<class 'pandas.core.frame.DataFrame'>\n",
            "RangeIndex: 10944 entries, 0 to 10943\n",
            "Data columns (total 2 columns):\n",
            " #   Column  Non-Null Count  Dtype \n",
            "---  ------  --------------  ----- \n",
            " 0   Msg     10938 non-null  object\n",
            " 1   Tag     10944 non-null  int64 \n",
            "dtypes: int64(1), object(1)\n",
            "memory usage: 171.1+ KB\n"
          ],
          "name": "stdout"
        }
      ]
    },
    {
      "cell_type": "code",
      "metadata": {
        "colab": {
          "base_uri": "https://localhost:8080/"
        },
        "id": "pqq_DlGKgSlq",
        "outputId": "1d86f2d6-5c3b-4c78-80b6-854073b5f194"
      },
      "source": [
        "data.dropna(inplace=True)\n",
        "data.info()"
      ],
      "execution_count": 6,
      "outputs": [
        {
          "output_type": "stream",
          "text": [
            "<class 'pandas.core.frame.DataFrame'>\n",
            "Int64Index: 10938 entries, 0 to 10943\n",
            "Data columns (total 2 columns):\n",
            " #   Column  Non-Null Count  Dtype \n",
            "---  ------  --------------  ----- \n",
            " 0   Msg     10938 non-null  object\n",
            " 1   Tag     10938 non-null  int64 \n",
            "dtypes: int64(1), object(1)\n",
            "memory usage: 256.4+ KB\n"
          ],
          "name": "stdout"
        }
      ]
    },
    {
      "cell_type": "code",
      "metadata": {
        "colab": {
          "base_uri": "https://localhost:8080/",
          "height": 206
        },
        "id": "f7TyFqM1gSlq",
        "outputId": "8ac9c0ae-ca26-471b-e923-64408b25c7c6"
      },
      "source": [
        "data.head()"
      ],
      "execution_count": 7,
      "outputs": [
        {
          "output_type": "execute_result",
          "data": {
            "text/html": [
              "<div>\n",
              "<style scoped>\n",
              "    .dataframe tbody tr th:only-of-type {\n",
              "        vertical-align: middle;\n",
              "    }\n",
              "\n",
              "    .dataframe tbody tr th {\n",
              "        vertical-align: top;\n",
              "    }\n",
              "\n",
              "    .dataframe thead th {\n",
              "        text-align: right;\n",
              "    }\n",
              "</style>\n",
              "<table border=\"1\" class=\"dataframe\">\n",
              "  <thead>\n",
              "    <tr style=\"text-align: right;\">\n",
              "      <th></th>\n",
              "      <th>Msg</th>\n",
              "      <th>Tag</th>\n",
              "    </tr>\n",
              "  </thead>\n",
              "  <tbody>\n",
              "    <tr>\n",
              "      <th>0</th>\n",
              "      <td>The thing disgusting White woman groid White w...</td>\n",
              "      <td>1</td>\n",
              "    </tr>\n",
              "    <tr>\n",
              "      <th>1</th>\n",
              "      <td>Americans acting like know talking</td>\n",
              "      <td>0</td>\n",
              "    </tr>\n",
              "    <tr>\n",
              "      <th>2</th>\n",
              "      <td>Also intrested check webpage info european ame...</td>\n",
              "      <td>0</td>\n",
              "    </tr>\n",
              "    <tr>\n",
              "      <th>3</th>\n",
              "      <td>I think need take stand homes across country a...</td>\n",
              "      <td>0</td>\n",
              "    </tr>\n",
              "    <tr>\n",
              "      <th>4</th>\n",
              "      <td>I think connection homosexuality Christianity ...</td>\n",
              "      <td>1</td>\n",
              "    </tr>\n",
              "  </tbody>\n",
              "</table>\n",
              "</div>"
            ],
            "text/plain": [
              "                                                 Msg  Tag\n",
              "0  The thing disgusting White woman groid White w...    1\n",
              "1                Americans acting like know talking     0\n",
              "2  Also intrested check webpage info european ame...    0\n",
              "3  I think need take stand homes across country a...    0\n",
              "4  I think connection homosexuality Christianity ...    1"
            ]
          },
          "metadata": {
            "tags": []
          },
          "execution_count": 7
        }
      ]
    },
    {
      "cell_type": "code",
      "metadata": {
        "colab": {
          "base_uri": "https://localhost:8080/"
        },
        "id": "489B8HORgSlq",
        "outputId": "53ee2c89-8be0-49f1-a8d1-cf5518499e3d"
      },
      "source": [
        "data1.info()"
      ],
      "execution_count": 8,
      "outputs": [
        {
          "output_type": "stream",
          "text": [
            "<class 'pandas.core.frame.DataFrame'>\n",
            "RangeIndex: 10944 entries, 0 to 10943\n",
            "Data columns (total 2 columns):\n",
            " #   Column  Non-Null Count  Dtype \n",
            "---  ------  --------------  ----- \n",
            " 0   Msg     10764 non-null  object\n",
            " 1   Tag     10944 non-null  int64 \n",
            "dtypes: int64(1), object(1)\n",
            "memory usage: 171.1+ KB\n"
          ],
          "name": "stdout"
        }
      ]
    },
    {
      "cell_type": "code",
      "metadata": {
        "colab": {
          "base_uri": "https://localhost:8080/"
        },
        "id": "78sD8rzHgSlr",
        "outputId": "f8a140ea-e9ae-4059-fe54-8b285b363fb6"
      },
      "source": [
        "data1.dropna(inplace=True)\n",
        "data1.info()"
      ],
      "execution_count": 9,
      "outputs": [
        {
          "output_type": "stream",
          "text": [
            "<class 'pandas.core.frame.DataFrame'>\n",
            "Int64Index: 10764 entries, 0 to 10943\n",
            "Data columns (total 2 columns):\n",
            " #   Column  Non-Null Count  Dtype \n",
            "---  ------  --------------  ----- \n",
            " 0   Msg     10764 non-null  object\n",
            " 1   Tag     10764 non-null  int64 \n",
            "dtypes: int64(1), object(1)\n",
            "memory usage: 252.3+ KB\n"
          ],
          "name": "stdout"
        }
      ]
    },
    {
      "cell_type": "code",
      "metadata": {
        "colab": {
          "base_uri": "https://localhost:8080/",
          "height": 206
        },
        "id": "RoC0hqHkgSlr",
        "outputId": "789e1289-a7b2-45ba-cf8e-8d1b903b2dde"
      },
      "source": [
        "data1.head()"
      ],
      "execution_count": 10,
      "outputs": [
        {
          "output_type": "execute_result",
          "data": {
            "text/html": [
              "<div>\n",
              "<style scoped>\n",
              "    .dataframe tbody tr th:only-of-type {\n",
              "        vertical-align: middle;\n",
              "    }\n",
              "\n",
              "    .dataframe tbody tr th {\n",
              "        vertical-align: top;\n",
              "    }\n",
              "\n",
              "    .dataframe thead th {\n",
              "        text-align: right;\n",
              "    }\n",
              "</style>\n",
              "<table border=\"1\" class=\"dataframe\">\n",
              "  <thead>\n",
              "    <tr style=\"text-align: right;\">\n",
              "      <th></th>\n",
              "      <th>Msg</th>\n",
              "      <th>Tag</th>\n",
              "    </tr>\n",
              "  </thead>\n",
              "  <tbody>\n",
              "    <tr>\n",
              "      <th>0</th>\n",
              "      <td>TheDT thingNN disgustingVBG womanNN groidNN wo...</td>\n",
              "      <td>1</td>\n",
              "    </tr>\n",
              "    <tr>\n",
              "      <th>1</th>\n",
              "      <td>AmericansNNPS actingVBG likeIN knowNNS talkingVBG</td>\n",
              "      <td>0</td>\n",
              "    </tr>\n",
              "    <tr>\n",
              "      <th>2</th>\n",
              "      <td>AlsoRB intrestedVBN checkNN webpageNN infoJJ e...</td>\n",
              "      <td>0</td>\n",
              "    </tr>\n",
              "    <tr>\n",
              "      <th>3</th>\n",
              "      <td>IPRP thinkVBP needJJ takeVBP standVBP homesNNS...</td>\n",
              "      <td>0</td>\n",
              "    </tr>\n",
              "    <tr>\n",
              "      <th>4</th>\n",
              "      <td>IPRP thinkVBP connectionNN homosexualityNN cou...</td>\n",
              "      <td>1</td>\n",
              "    </tr>\n",
              "  </tbody>\n",
              "</table>\n",
              "</div>"
            ],
            "text/plain": [
              "                                                 Msg  Tag\n",
              "0  TheDT thingNN disgustingVBG womanNN groidNN wo...    1\n",
              "1  AmericansNNPS actingVBG likeIN knowNNS talkingVBG    0\n",
              "2  AlsoRB intrestedVBN checkNN webpageNN infoJJ e...    0\n",
              "3  IPRP thinkVBP needJJ takeVBP standVBP homesNNS...    0\n",
              "4  IPRP thinkVBP connectionNN homosexualityNN cou...    1"
            ]
          },
          "metadata": {
            "tags": []
          },
          "execution_count": 10
        }
      ]
    },
    {
      "cell_type": "code",
      "metadata": {
        "colab": {
          "base_uri": "https://localhost:8080/"
        },
        "id": "PpMt_Q_OgSlr",
        "outputId": "8ea64b0c-2b57-45e2-e4aa-d07a992b16a8"
      },
      "source": [
        "data2.info()"
      ],
      "execution_count": 11,
      "outputs": [
        {
          "output_type": "stream",
          "text": [
            "<class 'pandas.core.frame.DataFrame'>\n",
            "RangeIndex: 10944 entries, 0 to 10943\n",
            "Data columns (total 2 columns):\n",
            " #   Column  Non-Null Count  Dtype \n",
            "---  ------  --------------  ----- \n",
            " 0   Msg     10931 non-null  object\n",
            " 1   Tag     10944 non-null  int64 \n",
            "dtypes: int64(1), object(1)\n",
            "memory usage: 171.1+ KB\n"
          ],
          "name": "stdout"
        }
      ]
    },
    {
      "cell_type": "code",
      "metadata": {
        "colab": {
          "base_uri": "https://localhost:8080/"
        },
        "id": "dwsLzjEegSls",
        "outputId": "e18a0106-8ce0-485c-bf84-527677a91f90"
      },
      "source": [
        "data2.dropna(inplace=True)\n",
        "data2.info()"
      ],
      "execution_count": 12,
      "outputs": [
        {
          "output_type": "stream",
          "text": [
            "<class 'pandas.core.frame.DataFrame'>\n",
            "Int64Index: 10931 entries, 0 to 10943\n",
            "Data columns (total 2 columns):\n",
            " #   Column  Non-Null Count  Dtype \n",
            "---  ------  --------------  ----- \n",
            " 0   Msg     10931 non-null  object\n",
            " 1   Tag     10931 non-null  int64 \n",
            "dtypes: int64(1), object(1)\n",
            "memory usage: 256.2+ KB\n"
          ],
          "name": "stdout"
        }
      ]
    },
    {
      "cell_type": "code",
      "metadata": {
        "colab": {
          "base_uri": "https://localhost:8080/",
          "height": 206
        },
        "id": "qSsEURYCgSls",
        "outputId": "c5c2d189-dbb7-4e0e-9099-24b93effb30b"
      },
      "source": [
        "data2.head()"
      ],
      "execution_count": 13,
      "outputs": [
        {
          "output_type": "execute_result",
          "data": {
            "text/html": [
              "<div>\n",
              "<style scoped>\n",
              "    .dataframe tbody tr th:only-of-type {\n",
              "        vertical-align: middle;\n",
              "    }\n",
              "\n",
              "    .dataframe tbody tr th {\n",
              "        vertical-align: top;\n",
              "    }\n",
              "\n",
              "    .dataframe thead th {\n",
              "        text-align: right;\n",
              "    }\n",
              "</style>\n",
              "<table border=\"1\" class=\"dataframe\">\n",
              "  <thead>\n",
              "    <tr style=\"text-align: right;\">\n",
              "      <th></th>\n",
              "      <th>Msg</th>\n",
              "      <th>Tag</th>\n",
              "    </tr>\n",
              "  </thead>\n",
              "  <tbody>\n",
              "    <tr>\n",
              "      <th>0</th>\n",
              "      <td>theDT thingNN disgustJJ whiteJJ womanNN groidJ...</td>\n",
              "      <td>1</td>\n",
              "    </tr>\n",
              "    <tr>\n",
              "      <th>1</th>\n",
              "      <td>americanJJ actNN likeIN knowJJ talkNN</td>\n",
              "      <td>0</td>\n",
              "    </tr>\n",
              "    <tr>\n",
              "      <th>2</th>\n",
              "      <td>alsoRB intrestRB checkVB webpagNN infoJJ europ...</td>\n",
              "      <td>0</td>\n",
              "    </tr>\n",
              "    <tr>\n",
              "      <th>3</th>\n",
              "      <td>IPRP thinkVBP needJJ takeVBP standVBP homeNN a...</td>\n",
              "      <td>0</td>\n",
              "    </tr>\n",
              "    <tr>\n",
              "      <th>4</th>\n",
              "      <td>IPRP thinkVBP connectJJ homosexuNN christianJJ...</td>\n",
              "      <td>1</td>\n",
              "    </tr>\n",
              "  </tbody>\n",
              "</table>\n",
              "</div>"
            ],
            "text/plain": [
              "                                                 Msg  Tag\n",
              "0  theDT thingNN disgustJJ whiteJJ womanNN groidJ...    1\n",
              "1              americanJJ actNN likeIN knowJJ talkNN    0\n",
              "2  alsoRB intrestRB checkVB webpagNN infoJJ europ...    0\n",
              "3  IPRP thinkVBP needJJ takeVBP standVBP homeNN a...    0\n",
              "4  IPRP thinkVBP connectJJ homosexuNN christianJJ...    1"
            ]
          },
          "metadata": {
            "tags": []
          },
          "execution_count": 13
        }
      ]
    },
    {
      "cell_type": "code",
      "metadata": {
        "id": "BOcotfl2gSls"
      },
      "source": [
        "data_x=data[\"Msg\"]\n",
        "data_y=data[\"Tag\"]\n",
        "\n",
        "data1_x=data1[\"Msg\"]\n",
        "data1_y=data1[\"Tag\"]\n",
        "\n",
        "data2_x=data2[\"Msg\"]\n",
        "data2_y=data2[\"Tag\"]"
      ],
      "execution_count": 14,
      "outputs": []
    },
    {
      "cell_type": "code",
      "metadata": {
        "id": "k5Jjgz7JgSls"
      },
      "source": [
        "vocab_size = 10000"
      ],
      "execution_count": 17,
      "outputs": []
    },
    {
      "cell_type": "code",
      "metadata": {
        "colab": {
          "base_uri": "https://localhost:8080/"
        },
        "id": "tA2GdIUtgSls",
        "outputId": "b505357c-5cd4-4788-8fa3-c724cebc77f7"
      },
      "source": [
        "data_x_n = data_x.to_numpy()\n",
        "data_x_n\n",
        "\n",
        "data1_x_n = data1_x.to_numpy()\n",
        "data1_x_n\n",
        "\n",
        "data2_x_n = data2_x.to_numpy()\n",
        "data2_x_n"
      ],
      "execution_count": 18,
      "outputs": [
        {
          "output_type": "execute_result",
          "data": {
            "text/plain": [
              "array(['theDT thingNN disgustJJ whiteJJ womanNN groidJJ whiteJJ womanNN dragVBZ whiteJJ childNN filthNN',\n",
              "       'americanJJ actNN likeIN knowJJ talkNN',\n",
              "       'alsoRB intrestRB checkVB webpagNN infoJJ europeanJJ americanJJ townNN buildNN',\n",
              "       ..., 'NoDT truthNN 88whiteCD powerwhitNN victorywhitNN pride88NN',\n",
              "       '4CD cyclindNN motorcyclNN historNN vehiclNN laurinJJ klementNN 18991903CD youtubNN historNN vehiclNN torpedoNN 1909CD youtubNN historNN vehiclNN torpedoNN 1909CD httpthekneeslidercomimages2012rightsidejpgNN handlebarNN cameraNN mountNN rideNN videoNN',\n",
              "       'IPRP thoughtVBD IPRP leavVBP noteJJ wishJJ southernJJ gentlemenNNS ladiVBP happiNN robertNN edwardJJ leeNN dayNN'],\n",
              "      dtype=object)"
            ]
          },
          "metadata": {
            "tags": []
          },
          "execution_count": 18
        }
      ]
    },
    {
      "cell_type": "markdown",
      "metadata": {
        "id": "tkBKvZY5gSlt"
      },
      "source": [
        "### Finding max sentence length"
      ]
    },
    {
      "cell_type": "code",
      "metadata": {
        "id": "xlZi4rmbgSlt"
      },
      "source": [
        "def max_sen_length(data):\n",
        "    mx_len = 0\n",
        "    for sen in data:\n",
        "        words = sen.split()\n",
        "        if len(words) > mx_len:\n",
        "            mx_len = len(words)\n",
        "    return mx_len"
      ],
      "execution_count": 15,
      "outputs": []
    },
    {
      "cell_type": "code",
      "metadata": {
        "id": "F0XHQBvhgSlt"
      },
      "source": [
        "sen_len = max_sen_length(data_x_n)\n",
        "\n",
        "sen_len1 = max_sen_length(data1_x_n)\n",
        "\n",
        "sen_len2 = max_sen_length(data2_x_n)"
      ],
      "execution_count": 19,
      "outputs": []
    },
    {
      "cell_type": "markdown",
      "metadata": {
        "id": "lxVWm2utgSlt"
      },
      "source": [
        "### One hot encoding"
      ]
    },
    {
      "cell_type": "code",
      "metadata": {
        "id": "doyqr0nHgSlu"
      },
      "source": [
        "onehot_enc = [one_hot(sen, vocab_size) for sen in data_x_n]\n",
        "\n",
        "onehot1_enc = [one_hot(sen, vocab_size) for sen in data1_x_n]\n",
        "\n",
        "onehot2_enc = [one_hot(sen, vocab_size) for sen in data2_x_n]"
      ],
      "execution_count": 20,
      "outputs": []
    },
    {
      "cell_type": "markdown",
      "metadata": {
        "id": "GM69PP6AgSlu"
      },
      "source": [
        "### Padding seuqnces to the same length"
      ]
    },
    {
      "cell_type": "code",
      "metadata": {
        "id": "mx_yGsNsgSlu"
      },
      "source": [
        "embed_repr = pad_sequences(onehot_enc, padding='pre', maxlen=sen_len)"
      ],
      "execution_count": 21,
      "outputs": []
    },
    {
      "cell_type": "code",
      "metadata": {
        "id": "FOSNeCcLgSlu"
      },
      "source": [
        "embed_repr1 = pad_sequences(onehot1_enc, padding='pre', maxlen=sen_len1)"
      ],
      "execution_count": 22,
      "outputs": []
    },
    {
      "cell_type": "code",
      "metadata": {
        "id": "QqRLv2t4gSlu"
      },
      "source": [
        "embed_repr2 = pad_sequences(onehot2_enc, padding='pre', maxlen=sen_len2)"
      ],
      "execution_count": 23,
      "outputs": []
    },
    {
      "cell_type": "markdown",
      "metadata": {
        "id": "18X8ppH1gSlv"
      },
      "source": [
        "### Cnn model"
      ]
    },
    {
      "cell_type": "code",
      "metadata": {
        "id": "MFtklmN5gSlv"
      },
      "source": [
        "embedding_vector_features = 100"
      ],
      "execution_count": 27,
      "outputs": []
    },
    {
      "cell_type": "code",
      "metadata": {
        "id": "VBmpV85PgSlv"
      },
      "source": [
        "# model = Sequential()\n",
        "# model.add(Embedding(vocab_size, 32, input_length=sen_len))\n",
        "# model.add(Conv1D(32, 3, padding='same', activation='relu'))\n",
        "# model.add(MaxPooling1D())\n",
        "# model.add(Flatten())\n",
        "# model.add(Dense(250, activation='relu'))\n",
        "# model.add(Dense(1, activation='sigmoid'))\n",
        "# model.compile(loss='binary_crossentropy',optimizer='adam', metrics=['accuracy'])\n",
        "\n",
        "model = Sequential()\n",
        "model.add(Embedding(vocab_size, 32, input_length=sen_len))\n",
        "model.add(Conv1D(32, 3, padding='same', activation='relu'))\n",
        "model.add(MaxPooling1D())\n",
        "model.add(Conv1D(64, 2, padding='same', activation='relu'))\n",
        "model.add(MaxPooling1D())\n",
        "model.add(Flatten())\n",
        "model.add(Dense(64, activation='relu'))\n",
        "model.add(Dropout(0.5))\n",
        "model.add(Dense(32, activation='relu'))\n",
        "model.add(Dropout(0.2))\n",
        "model.add(Dense(1, activation='sigmoid'))\n",
        "model.compile(loss='binary_crossentropy',optimizer='adam', metrics=['accuracy'])"
      ],
      "execution_count": 46,
      "outputs": []
    },
    {
      "cell_type": "code",
      "metadata": {
        "colab": {
          "base_uri": "https://localhost:8080/"
        },
        "id": "bV2O-lJpgSlv",
        "outputId": "3d7db197-4c2b-4753-8338-8c9dbc35c2c4"
      },
      "source": [
        "model.summary()"
      ],
      "execution_count": 47,
      "outputs": [
        {
          "output_type": "stream",
          "text": [
            "Model: \"sequential_8\"\n",
            "_________________________________________________________________\n",
            "Layer (type)                 Output Shape              Param #   \n",
            "=================================================================\n",
            "embedding_8 (Embedding)      (None, 151, 32)           320000    \n",
            "_________________________________________________________________\n",
            "conv1d_15 (Conv1D)           (None, 151, 32)           3104      \n",
            "_________________________________________________________________\n",
            "max_pooling1d_15 (MaxPooling (None, 75, 32)            0         \n",
            "_________________________________________________________________\n",
            "conv1d_16 (Conv1D)           (None, 75, 64)            4160      \n",
            "_________________________________________________________________\n",
            "max_pooling1d_16 (MaxPooling (None, 37, 64)            0         \n",
            "_________________________________________________________________\n",
            "flatten_8 (Flatten)          (None, 2368)              0         \n",
            "_________________________________________________________________\n",
            "dense_23 (Dense)             (None, 64)                151616    \n",
            "_________________________________________________________________\n",
            "dropout_14 (Dropout)         (None, 64)                0         \n",
            "_________________________________________________________________\n",
            "dense_24 (Dense)             (None, 32)                2080      \n",
            "_________________________________________________________________\n",
            "dropout_15 (Dropout)         (None, 32)                0         \n",
            "_________________________________________________________________\n",
            "dense_25 (Dense)             (None, 1)                 33        \n",
            "=================================================================\n",
            "Total params: 480,993\n",
            "Trainable params: 480,993\n",
            "Non-trainable params: 0\n",
            "_________________________________________________________________\n"
          ],
          "name": "stdout"
        }
      ]
    },
    {
      "cell_type": "code",
      "metadata": {
        "id": "VU_CRD00gSlw"
      },
      "source": [
        "# model1 = Sequential()\n",
        "# model1.add(Embedding(vocab_size, 32, input_length=sen_len1))\n",
        "# model1.add(Conv1D(32, 3, padding='same', activation='relu'))\n",
        "# model1.add(MaxPooling1D())\n",
        "# model1.add(Flatten())\n",
        "# model1.add(Dense(250, activation='relu'))\n",
        "# model1.add(Dense(1, activation='sigmoid'))\n",
        "# model1.compile(loss='binary_crossentropy',optimizer='adam', metrics=['accuracy'])\n",
        "\n",
        "model1 = Sequential()\n",
        "model1.add(Embedding(vocab_size, 32, input_length=sen_len1))\n",
        "model1.add(Conv1D(32, 3, padding='same', activation='relu'))\n",
        "model1.add(MaxPooling1D())\n",
        "model1.add(Conv1D(64, 2, padding='same', activation='relu'))\n",
        "model1.add(MaxPooling1D())\n",
        "model1.add(Flatten())\n",
        "model1.add(Dense(64, activation='relu'))\n",
        "model1.add(Dropout(0.5))\n",
        "model1.add(Dense(32, activation='relu'))\n",
        "model1.add(Dropout(0.2))\n",
        "model1.add(Dense(1, activation='sigmoid'))\n",
        "model1.compile(loss='binary_crossentropy',optimizer='adam', metrics=['accuracy'])"
      ],
      "execution_count": 37,
      "outputs": []
    },
    {
      "cell_type": "code",
      "metadata": {
        "colab": {
          "base_uri": "https://localhost:8080/"
        },
        "id": "DXVm1BkjgSlw",
        "outputId": "f8e25778-5116-416f-9290-ea442d9be228"
      },
      "source": [
        "model1.summary()"
      ],
      "execution_count": 38,
      "outputs": [
        {
          "output_type": "stream",
          "text": [
            "Model: \"sequential_6\"\n",
            "_________________________________________________________________\n",
            "Layer (type)                 Output Shape              Param #   \n",
            "=================================================================\n",
            "embedding_6 (Embedding)      (None, 144, 32)           320000    \n",
            "_________________________________________________________________\n",
            "conv1d_11 (Conv1D)           (None, 144, 32)           3104      \n",
            "_________________________________________________________________\n",
            "max_pooling1d_11 (MaxPooling (None, 72, 32)            0         \n",
            "_________________________________________________________________\n",
            "conv1d_12 (Conv1D)           (None, 72, 64)            4160      \n",
            "_________________________________________________________________\n",
            "max_pooling1d_12 (MaxPooling (None, 36, 64)            0         \n",
            "_________________________________________________________________\n",
            "flatten_6 (Flatten)          (None, 2304)              0         \n",
            "_________________________________________________________________\n",
            "dense_17 (Dense)             (None, 64)                147520    \n",
            "_________________________________________________________________\n",
            "dropout_10 (Dropout)         (None, 64)                0         \n",
            "_________________________________________________________________\n",
            "dense_18 (Dense)             (None, 32)                2080      \n",
            "_________________________________________________________________\n",
            "dropout_11 (Dropout)         (None, 32)                0         \n",
            "_________________________________________________________________\n",
            "dense_19 (Dense)             (None, 1)                 33        \n",
            "=================================================================\n",
            "Total params: 476,897\n",
            "Trainable params: 476,897\n",
            "Non-trainable params: 0\n",
            "_________________________________________________________________\n"
          ],
          "name": "stdout"
        }
      ]
    },
    {
      "cell_type": "code",
      "metadata": {
        "id": "USGWM3YEgSlw"
      },
      "source": [
        "# model2 = Sequential()\n",
        "# model2.add(Embedding(vocab_size, 32, input_length=sen_len2))\n",
        "# model2.add(Conv1D(32, 3, padding='same', activation='relu'))\n",
        "# model2.add(MaxPooling1D())\n",
        "# model2.add(Flatten())\n",
        "# model2.add(Dense(250, activation='relu'))\n",
        "# model2.add(Dense(1, activation='sigmoid'))\n",
        "# model2.compile(loss='binary_crossentropy',optimizer='adam', metrics=['accuracy'])\n",
        "\n",
        "model2 = Sequential()\n",
        "model2.add(Embedding(vocab_size, 32, input_length=sen_len2))\n",
        "model2.add(Conv1D(32, 3, padding='same', activation='relu'))\n",
        "model2.add(MaxPooling1D())\n",
        "model2.add(Conv1D(64, 2, padding='same', activation='relu'))\n",
        "model2.add(MaxPooling1D())\n",
        "model2.add(Flatten())\n",
        "model2.add(Dense(64, activation='relu'))\n",
        "model2.add(Dropout(0.5))\n",
        "model2.add(Dense(32, activation='relu'))\n",
        "model2.add(Dropout(0.2))\n",
        "model2.add(Dense(1, activation='sigmoid'))\n",
        "model2.compile(loss='binary_crossentropy',optimizer='adam', metrics=['accuracy'])"
      ],
      "execution_count": 39,
      "outputs": []
    },
    {
      "cell_type": "code",
      "metadata": {
        "colab": {
          "base_uri": "https://localhost:8080/"
        },
        "id": "S1D0RBKxgSlw",
        "outputId": "175fe0e9-bdef-4de0-8521-b7c2b32557f1"
      },
      "source": [
        "model2.summary()"
      ],
      "execution_count": 40,
      "outputs": [
        {
          "output_type": "stream",
          "text": [
            "Model: \"sequential_7\"\n",
            "_________________________________________________________________\n",
            "Layer (type)                 Output Shape              Param #   \n",
            "=================================================================\n",
            "embedding_7 (Embedding)      (None, 143, 32)           320000    \n",
            "_________________________________________________________________\n",
            "conv1d_13 (Conv1D)           (None, 143, 32)           3104      \n",
            "_________________________________________________________________\n",
            "max_pooling1d_13 (MaxPooling (None, 71, 32)            0         \n",
            "_________________________________________________________________\n",
            "conv1d_14 (Conv1D)           (None, 71, 64)            4160      \n",
            "_________________________________________________________________\n",
            "max_pooling1d_14 (MaxPooling (None, 35, 64)            0         \n",
            "_________________________________________________________________\n",
            "flatten_7 (Flatten)          (None, 2240)              0         \n",
            "_________________________________________________________________\n",
            "dense_20 (Dense)             (None, 64)                143424    \n",
            "_________________________________________________________________\n",
            "dropout_12 (Dropout)         (None, 64)                0         \n",
            "_________________________________________________________________\n",
            "dense_21 (Dense)             (None, 32)                2080      \n",
            "_________________________________________________________________\n",
            "dropout_13 (Dropout)         (None, 32)                0         \n",
            "_________________________________________________________________\n",
            "dense_22 (Dense)             (None, 1)                 33        \n",
            "=================================================================\n",
            "Total params: 472,801\n",
            "Trainable params: 472,801\n",
            "Non-trainable params: 0\n",
            "_________________________________________________________________\n"
          ],
          "name": "stdout"
        }
      ]
    },
    {
      "cell_type": "markdown",
      "metadata": {
        "id": "Z_Dfn1YCgSlw"
      },
      "source": [
        "### Train-test split"
      ]
    },
    {
      "cell_type": "code",
      "metadata": {
        "id": "VSNAOeHkgSlw"
      },
      "source": [
        "x_train, x_test, y_train, y_test = train_test_split(embed_repr, data_y, test_size=0.2, random_state=4)\n",
        "x1_train, x1_test, y1_train, y1_test = train_test_split(embed_repr1, data1_y, test_size=0.2, random_state=4)\n",
        "x2_train, x2_test, y2_train, y2_test = train_test_split(embed_repr2, data2_y, test_size=0.2, random_state=4)"
      ],
      "execution_count": 41,
      "outputs": []
    },
    {
      "cell_type": "markdown",
      "metadata": {
        "id": "McYr_BcKgSlw"
      },
      "source": [
        "### Model fitting"
      ]
    },
    {
      "cell_type": "code",
      "metadata": {
        "colab": {
          "base_uri": "https://localhost:8080/"
        },
        "id": "0W1vJ_5EgSlw",
        "outputId": "2a0ae786-3296-463f-f0f3-dea71c63c2ef"
      },
      "source": [
        "model.fit(x_train,y_train, validation_data=(x_test,y_test),epochs=10, verbose=2)"
      ],
      "execution_count": 48,
      "outputs": [
        {
          "output_type": "stream",
          "text": [
            "Epoch 1/10\n",
            "274/274 - 4s - loss: 0.4181 - accuracy: 0.8654 - val_loss: 0.3368 - val_accuracy: 0.8752\n",
            "Epoch 2/10\n",
            "274/274 - 4s - loss: 0.2914 - accuracy: 0.8721 - val_loss: 0.3667 - val_accuracy: 0.8780\n",
            "Epoch 3/10\n",
            "274/274 - 4s - loss: 0.1736 - accuracy: 0.9296 - val_loss: 0.4015 - val_accuracy: 0.8505\n",
            "Epoch 4/10\n",
            "274/274 - 4s - loss: 0.0933 - accuracy: 0.9683 - val_loss: 0.5747 - val_accuracy: 0.7733\n",
            "Epoch 5/10\n",
            "274/274 - 4s - loss: 0.0546 - accuracy: 0.9851 - val_loss: 0.8647 - val_accuracy: 0.8501\n",
            "Epoch 6/10\n",
            "274/274 - 4s - loss: 0.0310 - accuracy: 0.9926 - val_loss: 0.9580 - val_accuracy: 0.8245\n",
            "Epoch 7/10\n",
            "274/274 - 4s - loss: 0.0161 - accuracy: 0.9958 - val_loss: 1.3978 - val_accuracy: 0.8492\n",
            "Epoch 8/10\n",
            "274/274 - 4s - loss: 0.0143 - accuracy: 0.9961 - val_loss: 1.3621 - val_accuracy: 0.8423\n",
            "Epoch 9/10\n",
            "274/274 - 5s - loss: 0.0115 - accuracy: 0.9969 - val_loss: 1.5140 - val_accuracy: 0.8469\n",
            "Epoch 10/10\n",
            "274/274 - 4s - loss: 0.0072 - accuracy: 0.9978 - val_loss: 1.6132 - val_accuracy: 0.8231\n"
          ],
          "name": "stdout"
        },
        {
          "output_type": "execute_result",
          "data": {
            "text/plain": [
              "<tensorflow.python.keras.callbacks.History at 0x7f0e478c3518>"
            ]
          },
          "metadata": {
            "tags": []
          },
          "execution_count": 48
        }
      ]
    },
    {
      "cell_type": "code",
      "metadata": {
        "colab": {
          "base_uri": "https://localhost:8080/"
        },
        "id": "g99X_m-tgSlx",
        "outputId": "4900cf58-214a-4f38-8096-fde2a5ceb0a2"
      },
      "source": [
        "model1.fit(x1_train,y1_train, validation_data=(x1_test,y1_test),epochs=10, verbose=2)"
      ],
      "execution_count": 49,
      "outputs": [
        {
          "output_type": "stream",
          "text": [
            "Epoch 1/10\n",
            "270/270 - 4s - loss: 0.0044 - accuracy: 0.9988 - val_loss: 1.8289 - val_accuracy: 0.8254\n",
            "Epoch 2/10\n",
            "270/270 - 4s - loss: 0.0054 - accuracy: 0.9988 - val_loss: 1.7484 - val_accuracy: 0.8207\n",
            "Epoch 3/10\n",
            "270/270 - 4s - loss: 0.0068 - accuracy: 0.9983 - val_loss: 1.6076 - val_accuracy: 0.8268\n",
            "Epoch 4/10\n",
            "270/270 - 4s - loss: 0.0085 - accuracy: 0.9980 - val_loss: 1.6474 - val_accuracy: 0.8295\n",
            "Epoch 5/10\n",
            "270/270 - 4s - loss: 0.0049 - accuracy: 0.9984 - val_loss: 1.8969 - val_accuracy: 0.7854\n",
            "Epoch 6/10\n",
            "270/270 - 4s - loss: 0.0063 - accuracy: 0.9985 - val_loss: 2.1486 - val_accuracy: 0.7794\n",
            "Epoch 7/10\n",
            "270/270 - 4s - loss: 0.0034 - accuracy: 0.9994 - val_loss: 1.9153 - val_accuracy: 0.8281\n",
            "Epoch 8/10\n",
            "270/270 - 4s - loss: 0.0019 - accuracy: 0.9994 - val_loss: 2.1389 - val_accuracy: 0.8254\n",
            "Epoch 9/10\n",
            "270/270 - 4s - loss: 0.0015 - accuracy: 0.9995 - val_loss: 2.2268 - val_accuracy: 0.8147\n",
            "Epoch 10/10\n",
            "270/270 - 4s - loss: 0.0015 - accuracy: 0.9993 - val_loss: 2.4396 - val_accuracy: 0.8281\n"
          ],
          "name": "stdout"
        },
        {
          "output_type": "execute_result",
          "data": {
            "text/plain": [
              "<tensorflow.python.keras.callbacks.History at 0x7f0e476d2f28>"
            ]
          },
          "metadata": {
            "tags": []
          },
          "execution_count": 49
        }
      ]
    },
    {
      "cell_type": "code",
      "metadata": {
        "colab": {
          "base_uri": "https://localhost:8080/"
        },
        "id": "3qK4NumqgSly",
        "outputId": "3b147443-8c97-4014-8a8a-d4ea056d1c68"
      },
      "source": [
        "model2.fit(x2_train, y2_train, validation_data=(x2_test, y2_test), epochs=10, verbose=2)"
      ],
      "execution_count": 44,
      "outputs": [
        {
          "output_type": "stream",
          "text": [
            "Epoch 1/10\n",
            "274/274 - 5s - loss: 0.3964 - accuracy: 0.8696 - val_loss: 0.3634 - val_accuracy: 0.8624\n",
            "Epoch 2/10\n",
            "274/274 - 4s - loss: 0.2819 - accuracy: 0.8799 - val_loss: 0.3630 - val_accuracy: 0.8715\n",
            "Epoch 3/10\n",
            "274/274 - 4s - loss: 0.1538 - accuracy: 0.9432 - val_loss: 0.5139 - val_accuracy: 0.8509\n",
            "Epoch 4/10\n",
            "274/274 - 4s - loss: 0.0693 - accuracy: 0.9819 - val_loss: 0.6574 - val_accuracy: 0.8226\n",
            "Epoch 5/10\n",
            "274/274 - 4s - loss: 0.0335 - accuracy: 0.9922 - val_loss: 1.1349 - val_accuracy: 0.8514\n",
            "Epoch 6/10\n",
            "274/274 - 4s - loss: 0.0227 - accuracy: 0.9946 - val_loss: 1.1475 - val_accuracy: 0.8020\n",
            "Epoch 7/10\n",
            "274/274 - 4s - loss: 0.0161 - accuracy: 0.9960 - val_loss: 1.1796 - val_accuracy: 0.8089\n",
            "Epoch 8/10\n",
            "274/274 - 4s - loss: 0.0071 - accuracy: 0.9985 - val_loss: 1.5534 - val_accuracy: 0.8304\n",
            "Epoch 9/10\n",
            "274/274 - 4s - loss: 0.0134 - accuracy: 0.9965 - val_loss: 1.4758 - val_accuracy: 0.8464\n",
            "Epoch 10/10\n",
            "274/274 - 4s - loss: 0.0060 - accuracy: 0.9985 - val_loss: 1.5381 - val_accuracy: 0.8253\n"
          ],
          "name": "stdout"
        },
        {
          "output_type": "execute_result",
          "data": {
            "text/plain": [
              "<tensorflow.python.keras.callbacks.History at 0x7f0e48af8550>"
            ]
          },
          "metadata": {
            "tags": []
          },
          "execution_count": 44
        }
      ]
    },
    {
      "cell_type": "markdown",
      "metadata": {
        "id": "mF1WG2zUgSly"
      },
      "source": [
        "## Model accuracies"
      ]
    },
    {
      "cell_type": "markdown",
      "metadata": {
        "id": "zWMhbNjigSly"
      },
      "source": [
        "### Without POS and stemming"
      ]
    },
    {
      "cell_type": "code",
      "metadata": {
        "id": "ajlnOYLEgSly"
      },
      "source": [
        "y_pred = model.predict_classes(x_test)"
      ],
      "execution_count": 50,
      "outputs": []
    },
    {
      "cell_type": "code",
      "metadata": {
        "colab": {
          "base_uri": "https://localhost:8080/"
        },
        "id": "xbCqk3VugSly",
        "outputId": "18f637bd-cf69-4be7-d71e-d0d72f2bd020"
      },
      "source": [
        "confusion_matrix(y_test, y_pred)"
      ],
      "execution_count": 51,
      "outputs": [
        {
          "output_type": "execute_result",
          "data": {
            "text/plain": [
              "array([[1694,  221],\n",
              "       [ 166,  107]])"
            ]
          },
          "metadata": {
            "tags": []
          },
          "execution_count": 51
        }
      ]
    },
    {
      "cell_type": "code",
      "metadata": {
        "colab": {
          "base_uri": "https://localhost:8080/"
        },
        "id": "6XNXiTi-gSly",
        "outputId": "0412e5ef-b036-4848-d70a-0a2a60711340"
      },
      "source": [
        "accuracy_score(y_test, y_pred)"
      ],
      "execution_count": 52,
      "outputs": [
        {
          "output_type": "execute_result",
          "data": {
            "text/plain": [
              "0.823126142595978"
            ]
          },
          "metadata": {
            "tags": []
          },
          "execution_count": 52
        }
      ]
    },
    {
      "cell_type": "code",
      "metadata": {
        "colab": {
          "base_uri": "https://localhost:8080/"
        },
        "id": "MnPcWheggSlz",
        "outputId": "a68be797-0189-4a7d-f689-bed09d0e3d12"
      },
      "source": [
        "f1_score(y_test, y_pred)"
      ],
      "execution_count": 53,
      "outputs": [
        {
          "output_type": "execute_result",
          "data": {
            "text/plain": [
              "0.3560732113144759"
            ]
          },
          "metadata": {
            "tags": []
          },
          "execution_count": 53
        }
      ]
    },
    {
      "cell_type": "code",
      "metadata": {
        "colab": {
          "base_uri": "https://localhost:8080/"
        },
        "id": "gPcglyr3gSl0",
        "outputId": "4379abfd-fd75-4766-d28f-6c2af896f199"
      },
      "source": [
        "precision_score(y_test, y_pred)"
      ],
      "execution_count": 54,
      "outputs": [
        {
          "output_type": "execute_result",
          "data": {
            "text/plain": [
              "0.32621951219512196"
            ]
          },
          "metadata": {
            "tags": []
          },
          "execution_count": 54
        }
      ]
    },
    {
      "cell_type": "code",
      "metadata": {
        "colab": {
          "base_uri": "https://localhost:8080/"
        },
        "id": "9MmKWY6jgSl0",
        "outputId": "c627af89-c104-4c08-c48b-2c67ed08e230"
      },
      "source": [
        "recall_score(y_test, y_pred)"
      ],
      "execution_count": 55,
      "outputs": [
        {
          "output_type": "execute_result",
          "data": {
            "text/plain": [
              "0.39194139194139194"
            ]
          },
          "metadata": {
            "tags": []
          },
          "execution_count": 55
        }
      ]
    },
    {
      "cell_type": "markdown",
      "metadata": {
        "id": "KkQEw1KngSl0"
      },
      "source": [
        "### POS"
      ]
    },
    {
      "cell_type": "code",
      "metadata": {
        "id": "8H4uzLb4gSl0"
      },
      "source": [
        "y1_pred = model1.predict_classes(x1_test)"
      ],
      "execution_count": 56,
      "outputs": []
    },
    {
      "cell_type": "code",
      "metadata": {
        "colab": {
          "base_uri": "https://localhost:8080/"
        },
        "id": "87r7Y9L0gSl0",
        "outputId": "a2b98196-a359-43d5-d607-b801e27865ad"
      },
      "source": [
        "confusion_matrix(y1_test, y1_pred)"
      ],
      "execution_count": 57,
      "outputs": [
        {
          "output_type": "execute_result",
          "data": {
            "text/plain": [
              "array([[1706,  145],\n",
              "       [ 225,   77]])"
            ]
          },
          "metadata": {
            "tags": []
          },
          "execution_count": 57
        }
      ]
    },
    {
      "cell_type": "code",
      "metadata": {
        "colab": {
          "base_uri": "https://localhost:8080/"
        },
        "id": "odbR0caFgSl0",
        "outputId": "25cea295-d889-4251-dfe6-6ea81ef0dcd2"
      },
      "source": [
        "accuracy_score(y1_test, y1_pred)"
      ],
      "execution_count": 58,
      "outputs": [
        {
          "output_type": "execute_result",
          "data": {
            "text/plain": [
              "0.8281467719461217"
            ]
          },
          "metadata": {
            "tags": []
          },
          "execution_count": 58
        }
      ]
    },
    {
      "cell_type": "code",
      "metadata": {
        "colab": {
          "base_uri": "https://localhost:8080/"
        },
        "id": "Ehhci-cxgSl0",
        "outputId": "aa9d88a2-41d6-4082-c16d-5e7ec78b1b19"
      },
      "source": [
        "f1_score(y1_test, y1_pred)"
      ],
      "execution_count": 59,
      "outputs": [
        {
          "output_type": "execute_result",
          "data": {
            "text/plain": [
              "0.29389312977099236"
            ]
          },
          "metadata": {
            "tags": []
          },
          "execution_count": 59
        }
      ]
    },
    {
      "cell_type": "code",
      "metadata": {
        "colab": {
          "base_uri": "https://localhost:8080/"
        },
        "id": "aAOtoQYigSl0",
        "outputId": "ad21f888-5559-4b49-aa47-05bceb29395f"
      },
      "source": [
        "precision_score(y1_test, y1_pred)"
      ],
      "execution_count": 60,
      "outputs": [
        {
          "output_type": "execute_result",
          "data": {
            "text/plain": [
              "0.34684684684684686"
            ]
          },
          "metadata": {
            "tags": []
          },
          "execution_count": 60
        }
      ]
    },
    {
      "cell_type": "code",
      "metadata": {
        "colab": {
          "base_uri": "https://localhost:8080/"
        },
        "id": "-z4-UQeVgSl0",
        "outputId": "6466a3ba-a8e5-4c3a-98ec-ad7bc672acec"
      },
      "source": [
        "recall_score(y1_test, y1_pred)"
      ],
      "execution_count": 61,
      "outputs": [
        {
          "output_type": "execute_result",
          "data": {
            "text/plain": [
              "0.25496688741721857"
            ]
          },
          "metadata": {
            "tags": []
          },
          "execution_count": 61
        }
      ]
    },
    {
      "cell_type": "markdown",
      "metadata": {
        "id": "SX4fqijigSl1"
      },
      "source": [
        "###  Stemming and POS\n"
      ]
    },
    {
      "cell_type": "code",
      "metadata": {
        "id": "oYa3zp4qgSl1"
      },
      "source": [
        "y2_pred = model2.predict_classes(x2_test)"
      ],
      "execution_count": 62,
      "outputs": []
    },
    {
      "cell_type": "code",
      "metadata": {
        "colab": {
          "base_uri": "https://localhost:8080/"
        },
        "id": "-lVvyOalgSl1",
        "outputId": "62e9c91a-e295-41de-b1b2-b4c18670f447"
      },
      "source": [
        "confusion_matrix(y2_test, y2_pred)"
      ],
      "execution_count": 63,
      "outputs": [
        {
          "output_type": "execute_result",
          "data": {
            "text/plain": [
              "array([[1693,  193],\n",
              "       [ 189,  112]])"
            ]
          },
          "metadata": {
            "tags": []
          },
          "execution_count": 63
        }
      ]
    },
    {
      "cell_type": "code",
      "metadata": {
        "colab": {
          "base_uri": "https://localhost:8080/"
        },
        "id": "ss1Njq0lgSl1",
        "outputId": "edb3df9d-b8b4-41e0-c88c-c6a70bb950f9"
      },
      "source": [
        "accuracy_score(y2_test, y2_pred)"
      ],
      "execution_count": 64,
      "outputs": [
        {
          "output_type": "execute_result",
          "data": {
            "text/plain": [
              "0.82533150434385"
            ]
          },
          "metadata": {
            "tags": []
          },
          "execution_count": 64
        }
      ]
    },
    {
      "cell_type": "code",
      "metadata": {
        "colab": {
          "base_uri": "https://localhost:8080/"
        },
        "id": "skmYpxQEgSl1",
        "outputId": "b5e40d47-102e-498c-9ef2-c2deba098a93"
      },
      "source": [
        "f1_score(y2_test, y2_pred)"
      ],
      "execution_count": 65,
      "outputs": [
        {
          "output_type": "execute_result",
          "data": {
            "text/plain": [
              "0.36963696369636967"
            ]
          },
          "metadata": {
            "tags": []
          },
          "execution_count": 65
        }
      ]
    },
    {
      "cell_type": "code",
      "metadata": {
        "colab": {
          "base_uri": "https://localhost:8080/"
        },
        "id": "WGKA3BNXgSl1",
        "outputId": "cecf1928-5320-4f35-9b84-d6aa9b269a2e"
      },
      "source": [
        "precision_score(y2_test, y2_pred)"
      ],
      "execution_count": 66,
      "outputs": [
        {
          "output_type": "execute_result",
          "data": {
            "text/plain": [
              "0.36721311475409835"
            ]
          },
          "metadata": {
            "tags": []
          },
          "execution_count": 66
        }
      ]
    },
    {
      "cell_type": "code",
      "metadata": {
        "colab": {
          "base_uri": "https://localhost:8080/"
        },
        "id": "zBftZsxugSl1",
        "outputId": "03f97606-8b54-45ba-f6e9-ab7b3e2b24b8"
      },
      "source": [
        "recall_score(y2_test, y2_pred)"
      ],
      "execution_count": 69,
      "outputs": [
        {
          "output_type": "execute_result",
          "data": {
            "text/plain": [
              "0.37209302325581395"
            ]
          },
          "metadata": {
            "tags": []
          },
          "execution_count": 69
        }
      ]
    }
  ]
}