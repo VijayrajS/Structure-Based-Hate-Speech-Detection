{
 "cells": [
  {
   "cell_type": "code",
   "execution_count": 50,
   "metadata": {},
   "outputs": [],
   "source": [
    "import numpy as np\n",
    "import pandas as pd\n",
    "import tensorflow as tf\n",
    "from tensorflow.keras.layers import *\n",
    "from tensorflow.keras.models import *\n",
    "from tensorflow.keras import backend as K\n",
    "from sklearn.metrics import confusion_matrix, accuracy_score, precision_score, recall_score, f1_score\n",
    "from sklearn.model_selection import train_test_split\n",
    "from tensorflow.keras.preprocessing.text import Tokenizer, one_hot\n",
    "from tensorflow.keras.preprocessing.sequence import pad_sequences\n",
    "from tensorflow.keras.layers import Dense, Flatten, Embedding, LSTM, GRU, Dropout\n",
    "from tensorflow.keras.models import Sequential\n",
    "from collections import Counter\n",
    "from imblearn.over_sampling import SMOTE"
   ]
  },
  {
   "cell_type": "markdown",
   "metadata": {},
   "source": [
    "# Reading Data"
   ]
  },
  {
   "cell_type": "code",
   "execution_count": 51,
   "metadata": {},
   "outputs": [],
   "source": [
    "data_raw  = pd.read_csv('data_raw.csv',sep=',',names=['Msg','Tag'])"
   ]
  },
  {
   "cell_type": "code",
   "execution_count": 52,
   "metadata": {},
   "outputs": [],
   "source": [
    "data_raw.dropna(inplace=True)"
   ]
  },
  {
   "cell_type": "code",
   "execution_count": 53,
   "metadata": {},
   "outputs": [],
   "source": [
    "data_raw_X = data_raw[\"Msg\"].to_numpy()\n",
    "data_raw_Y = data_raw[\"Tag\"].to_numpy()"
   ]
  },
  {
   "cell_type": "code",
   "execution_count": 54,
   "metadata": {},
   "outputs": [],
   "source": [
    "data_raw_X  = np.reshape(data_raw_X,  (data_raw_X.shape[0],1 ))\n",
    "data_raw_Y  = np.reshape(data_raw_Y,  (data_raw_Y.shape[0],1 ))"
   ]
  },
  {
   "cell_type": "code",
   "execution_count": 55,
   "metadata": {},
   "outputs": [
    {
     "data": {
      "text/plain": [
       "array([[1],\n",
       "       [1],\n",
       "       [1],\n",
       "       ...,\n",
       "       [1],\n",
       "       [1],\n",
       "       [1]])"
      ]
     },
     "execution_count": 55,
     "metadata": {},
     "output_type": "execute_result"
    }
   ],
   "source": [
    "data_raw_Y"
   ]
  },
  {
   "cell_type": "markdown",
   "metadata": {},
   "source": [
    "## Attention Layer"
   ]
  },
  {
   "cell_type": "code",
   "execution_count": 56,
   "metadata": {},
   "outputs": [],
   "source": [
    "class attention(Layer):    \n",
    "    def __init__(self, return_sequences=True):\n",
    "        self.return_sequences = return_sequences\n",
    "        super(attention,self).__init__()\n",
    "        \n",
    "    def build(self, input_shape):\n",
    "        self.W=self.add_weight(name=\"att_weight\", shape=(input_shape[-1],1), initializer=\"normal\")\n",
    "        self.b=self.add_weight(name=\"att_bias\", shape=(input_shape[1],1), initializer=\"zeros\")\n",
    "        super(attention,self).build(input_shape)\n",
    "        \n",
    "    def call(self, x):        \n",
    "        e = K.tanh(K.dot(x,self.W)+self.b)\n",
    "        a = K.softmax(e, axis=1)\n",
    "        output = x*a\n",
    "        if self.return_sequences:\n",
    "            return output\n",
    "        return K.sum(output, axis=1)"
   ]
  },
  {
   "cell_type": "markdown",
   "metadata": {},
   "source": [
    "## Maximum Sentence Length"
   ]
  },
  {
   "cell_type": "code",
   "execution_count": 57,
   "metadata": {},
   "outputs": [],
   "source": [
    "def max_sen_length(data):\n",
    "    mx_len = 0\n",
    "    for sen in data:\n",
    "        try:\n",
    "            words = sen[0].split()\n",
    "        except:\n",
    "            continue\n",
    "        if len(words) > mx_len:\n",
    "            mx_len = len(words)\n",
    "    return mx_len"
   ]
  },
  {
   "cell_type": "markdown",
   "metadata": {},
   "source": [
    "# Raw data + sampling"
   ]
  },
  {
   "cell_type": "code",
   "execution_count": 58,
   "metadata": {},
   "outputs": [
    {
     "data": {
      "text/plain": [
       "array([[' jaydillz my babies pussy is too tight today t co if k v ro'],\n",
       "       [' seymourblanco they game is over fuck yall bitches amp yall attitudes t co rlrnybfedt '],\n",
       "       ['can you let me stretch that pussy out or nahhh'],\n",
       "       ...,\n",
       "       ['need some hispanic pussy'],\n",
       "       [' o mygotti you have a girlfriend stop asking these hoes to be your bestfriend '],\n",
       "       [' kingtunchi jd told me i m to player to be with one bitch']],\n",
       "      dtype=object)"
      ]
     },
     "execution_count": 58,
     "metadata": {},
     "output_type": "execute_result"
    }
   ],
   "source": [
    "data_raw_X"
   ]
  },
  {
   "cell_type": "code",
   "execution_count": 59,
   "metadata": {},
   "outputs": [],
   "source": [
    "max_len = max_sen_length(data_raw_X)\n",
    "vocab_size = 10000\n",
    "embedding_vector_features = 100"
   ]
  },
  {
   "cell_type": "code",
   "execution_count": 60,
   "metadata": {},
   "outputs": [],
   "source": [
    "onehot_enc = [one_hot(sen[0], vocab_size) for sen in data_raw_X]\n",
    "embed_repr = pad_sequences(onehot_enc, padding='pre', maxlen=max_len)"
   ]
  },
  {
   "cell_type": "markdown",
   "metadata": {},
   "source": [
    "## Sampling"
   ]
  },
  {
   "cell_type": "code",
   "execution_count": 86,
   "metadata": {},
   "outputs": [],
   "source": [
    "#print(Counter(data_raw_Y))\n",
    "oversample = SMOTE()\n",
    "X, Y = oversample.fit_sample(embed_repr, data_raw_Y)\n",
    "#print(Counter(Y))"
   ]
  },
  {
   "cell_type": "code",
   "execution_count": 94,
   "metadata": {},
   "outputs": [],
   "source": [
    "X, Y = embed_repr, data_raw_Y.reshape(len(data_raw_Y))"
   ]
  },
  {
   "cell_type": "code",
   "execution_count": 95,
   "metadata": {},
   "outputs": [],
   "source": [
    "x_train, x_test, y_train, y_test = train_test_split(X, Y, test_size=0.2, random_state=4)"
   ]
  },
  {
   "cell_type": "code",
   "execution_count": 96,
   "metadata": {},
   "outputs": [
    {
     "name": "stdout",
     "output_type": "stream",
     "text": [
      "[1 1 1 ... 2 2 2]\n"
     ]
    }
   ],
   "source": [
    "print(y_train)"
   ]
  },
  {
   "cell_type": "code",
   "execution_count": 97,
   "metadata": {},
   "outputs": [
    {
     "name": "stdout",
     "output_type": "stream",
     "text": [
      "Model: \"sequential_7\"\n",
      "_________________________________________________________________\n",
      "Layer (type)                 Output Shape              Param #   \n",
      "=================================================================\n",
      "embedding_7 (Embedding)      (None, 34, 100)           1000000   \n",
      "_________________________________________________________________\n",
      "bidirectional_7 (Bidirection (None, 34, 200)           160800    \n",
      "_________________________________________________________________\n",
      "attention_7 (attention)      (None, 34, 200)           234       \n",
      "_________________________________________________________________\n",
      "unified_lstm_15 (UnifiedLSTM (None, 100)               120400    \n",
      "_________________________________________________________________\n",
      "dense_6 (Dense)              (None, 3)                 303       \n",
      "=================================================================\n",
      "Total params: 1,281,737\n",
      "Trainable params: 1,281,737\n",
      "Non-trainable params: 0\n",
      "_________________________________________________________________\n"
     ]
    }
   ],
   "source": [
    "model = Sequential()\n",
    "model.add(Embedding(vocab_size, embedding_vector_features, input_length=max_len))\n",
    "model.add(Bidirectional(LSTM(100, return_sequences=True)))\n",
    "model.add(attention(return_sequences=True))\n",
    "model.add(LSTM(100))\n",
    "model.add(Dense(3,activation='softmax'))\n",
    "model.summary()\n",
    "model.compile('adam', 'categorical_crossentropy')"
   ]
  },
  {
   "cell_type": "code",
   "execution_count": 98,
   "metadata": {},
   "outputs": [
    {
     "name": "stdout",
     "output_type": "stream",
     "text": [
      "Train on 19826 samples, validate on 4957 samples\n",
      "Epoch 1/10\n",
      "19826/19826 [==============================] - 38s 2ms/sample - loss: 0.4832 - val_loss: 0.3561\n",
      "Epoch 2/10\n",
      "19826/19826 [==============================] - 36s 2ms/sample - loss: 0.2925 - val_loss: 0.3518\n",
      "Epoch 3/10\n",
      "19826/19826 [==============================] - 35s 2ms/sample - loss: 0.2245 - val_loss: 0.3423\n",
      "Epoch 4/10\n",
      "19826/19826 [==============================] - 36s 2ms/sample - loss: 0.1782 - val_loss: 0.3627\n",
      "Epoch 5/10\n",
      "19826/19826 [==============================] - 35s 2ms/sample - loss: 0.1383 - val_loss: 0.3902\n",
      "Epoch 6/10\n",
      "19826/19826 [==============================] - 34s 2ms/sample - loss: 0.1102 - val_loss: 0.4288\n",
      "Epoch 7/10\n",
      "19826/19826 [==============================] - 34s 2ms/sample - loss: 0.0883 - val_loss: 0.5077\n",
      "Epoch 8/10\n",
      "19826/19826 [==============================] - 34s 2ms/sample - loss: 0.0683 - val_loss: 0.6106\n",
      "Epoch 9/10\n",
      "19826/19826 [==============================] - 38s 2ms/sample - loss: 0.0556 - val_loss: 0.5732\n",
      "Epoch 10/10\n",
      "19826/19826 [==============================] - 40s 2ms/sample - loss: 0.0443 - val_loss: 0.6236\n"
     ]
    },
    {
     "data": {
      "text/plain": [
       "<tensorflow.python.keras.callbacks.History at 0x7f8c44baab70>"
      ]
     },
     "execution_count": 98,
     "metadata": {},
     "output_type": "execute_result"
    }
   ],
   "source": [
    "model.fit(x_train,pd.get_dummies(y_train), validation_data=(x_test,pd.get_dummies(y_test)),epochs=10,batch_size=64)"
   ]
  },
  {
   "cell_type": "code",
   "execution_count": 99,
   "metadata": {},
   "outputs": [],
   "source": [
    "pred = model.predict(x_test)\n",
    "y_pred = list()\n",
    "for i in range(len(pred)):\n",
    "    y_pred.append(np.argmax(pred[i]))"
   ]
  },
  {
   "cell_type": "markdown",
   "metadata": {},
   "source": [
    "## Without Sampling"
   ]
  },
  {
   "cell_type": "code",
   "execution_count": 100,
   "metadata": {},
   "outputs": [
    {
     "name": "stdout",
     "output_type": "stream",
     "text": [
      "Confusion matrix : \n",
      " [[  54  179   34]\n",
      " [  93 3587  164]\n",
      " [   9  146  691]]\n",
      "Accuracy score   :  0.8739156748033085\n",
      "F1 score         :  0.8669751622880479\n",
      "Recall           :  0.650724873607034\n",
      "Precision        :  0.6801179922707868\n"
     ]
    }
   ],
   "source": [
    "print(\"Confusion matrix : \\n\",confusion_matrix(y_test, y_pred))\n",
    "print(\"Accuracy score   : \",accuracy_score(y_test, y_pred))\n",
    "print(\"F1 score         : \",f1_score(y_test, y_pred, average='weighted'))\n",
    "print(\"Recall           : \",recall_score(y_test, y_pred, average = 'macro'))\n",
    "print(\"Precision        : \",precision_score(y_test, y_pred, average='macro'))"
   ]
  },
  {
   "cell_type": "markdown",
   "metadata": {},
   "source": [
    "## After sampling"
   ]
  },
  {
   "cell_type": "code",
   "execution_count": 49,
   "metadata": {},
   "outputs": [
    {
     "name": "stdout",
     "output_type": "stream",
     "text": [
      "Confusion matrix : \n",
      " [[1955  216 1662]\n",
      " [ 143 3560  159]\n",
      " [1352  117 2350]]\n",
      "Accuracy score   :  0.683081466041341\n",
      "F1 score         :  0.6817830239559092\n",
      "Recall           :  0.6823969525660969\n",
      "Precision        :  0.6815141902220474\n"
     ]
    }
   ],
   "source": [
    "print(\"Confusion matrix : \\n\",confusion_matrix(y_test, y_pred))\n",
    "print(\"Accuracy score   : \",accuracy_score(y_test, y_pred))\n",
    "print(\"F1 score         : \",f1_score(y_test, y_pred, average='weighted'))\n",
    "print(\"Recall           : \",recall_score(y_test, y_pred, average = 'macro'))\n",
    "print(\"Precision        : \",precision_score(y_test, y_pred, average='macro'))"
   ]
  }
 ],
 "metadata": {
  "kernelspec": {
   "display_name": "Python 3",
   "language": "python",
   "name": "python3"
  },
  "language_info": {
   "codemirror_mode": {
    "name": "ipython",
    "version": 3
   },
   "file_extension": ".py",
   "mimetype": "text/x-python",
   "name": "python",
   "nbconvert_exporter": "python",
   "pygments_lexer": "ipython3",
   "version": "3.6.9"
  }
 },
 "nbformat": 4,
 "nbformat_minor": 2
}
