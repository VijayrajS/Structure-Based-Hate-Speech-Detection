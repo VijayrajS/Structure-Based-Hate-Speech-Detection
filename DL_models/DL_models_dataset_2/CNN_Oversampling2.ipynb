{
  "nbformat": 4,
  "nbformat_minor": 0,
  "metadata": {
    "kernelspec": {
      "display_name": "Python 3",
      "language": "python",
      "name": "python3"
    },
    "language_info": {
      "codemirror_mode": {
        "name": "ipython",
        "version": 3
      },
      "file_extension": ".py",
      "mimetype": "text/x-python",
      "name": "python",
      "nbconvert_exporter": "python",
      "pygments_lexer": "ipython3",
      "version": "3.8.5"
    },
    "colab": {
      "name": "CNN_Oversampling2.ipynb",
      "provenance": [],
      "toc_visible": true
    }
  },
  "cells": [
    {
      "cell_type": "markdown",
      "metadata": {
        "id": "cKDXr_lK7fKn"
      },
      "source": [
        "# CNN with word embeddings"
      ]
    },
    {
      "cell_type": "markdown",
      "metadata": {
        "id": "_ESB-1VC7fKn"
      },
      "source": [
        "### Importing prerequisite libraries"
      ]
    },
    {
      "cell_type": "code",
      "metadata": {
        "colab": {
          "base_uri": "https://localhost:8080/"
        },
        "id": "dGIUlTuM7fKn",
        "outputId": "3e22f90f-76ce-4d42-9163-ea53e16c985a"
      },
      "source": [
        "from tensorflow.keras.preprocessing.text import Tokenizer, one_hot\n",
        "from tensorflow.keras.preprocessing.sequence import pad_sequences\n",
        "from tensorflow.keras.layers import Dense, Flatten, Embedding, LSTM, GRU, Dropout, Conv1D, MaxPooling1D\n",
        "from tensorflow.keras.models import Sequential\n",
        "import pandas  as pd\n",
        "from sklearn.feature_extraction.text import CountVectorizer\n",
        "from sklearn.model_selection import train_test_split\n",
        "from sklearn.naive_bayes import MultinomialNB\n",
        "from sklearn.metrics import confusion_matrix, accuracy_score, precision_score, recall_score, f1_score\n",
        "from collections import Counter\n",
        "from imblearn.over_sampling import SMOTE\n",
        "import numpy as np"
      ],
      "execution_count": 1,
      "outputs": [
        {
          "output_type": "stream",
          "text": [
            "/usr/local/lib/python3.6/dist-packages/sklearn/externals/six.py:31: FutureWarning: The module is deprecated in version 0.21 and will be removed in version 0.23 since we've dropped support for Python 2.7. Please rely on the official version of six (https://pypi.org/project/six/).\n",
            "  \"(https://pypi.org/project/six/).\", FutureWarning)\n",
            "/usr/local/lib/python3.6/dist-packages/sklearn/utils/deprecation.py:144: FutureWarning: The sklearn.neighbors.base module is  deprecated in version 0.22 and will be removed in version 0.24. The corresponding classes / functions should instead be imported from sklearn.neighbors. Anything that cannot be imported from sklearn.neighbors is now part of the private API.\n",
            "  warnings.warn(message, FutureWarning)\n"
          ],
          "name": "stderr"
        }
      ]
    },
    {
      "cell_type": "markdown",
      "metadata": {
        "id": "E0nl7kum7fKn"
      },
      "source": [
        "### Loading datasets and dropping nulls"
      ]
    },
    {
      "cell_type": "code",
      "metadata": {
        "id": "UKLed4si7fKn"
      },
      "source": [
        "data  = pd.read_csv('data_raw.csv',sep=',',names=['Msg','Tag'])"
      ],
      "execution_count": 3,
      "outputs": []
    },
    {
      "cell_type": "code",
      "metadata": {
        "id": "frIIjIjz7fKo"
      },
      "source": [
        "data_x=data[\"Msg\"]\n",
        "data_y=data[\"Tag\"]"
      ],
      "execution_count": 4,
      "outputs": []
    },
    {
      "cell_type": "code",
      "metadata": {
        "id": "jlcCk2F37fKo"
      },
      "source": [
        "vocab_size = 10000"
      ],
      "execution_count": 5,
      "outputs": []
    },
    {
      "cell_type": "code",
      "metadata": {
        "id": "Kp78jcm17fKo"
      },
      "source": [
        "data_x_n = data_x.to_numpy()"
      ],
      "execution_count": 6,
      "outputs": []
    },
    {
      "cell_type": "markdown",
      "metadata": {
        "id": "aeLB_Xl47fKo"
      },
      "source": [
        "### Finding max sentence length"
      ]
    },
    {
      "cell_type": "code",
      "metadata": {
        "id": "RLUwaDXw7fKp"
      },
      "source": [
        "def max_sen_length(data):\n",
        "    mx_len = 0\n",
        "    for sen in data:\n",
        "        words = sen.split()\n",
        "        if len(words) > mx_len:\n",
        "            mx_len = len(words)\n",
        "    return mx_len"
      ],
      "execution_count": 7,
      "outputs": []
    },
    {
      "cell_type": "code",
      "metadata": {
        "id": "xIXYBOOm7fKp"
      },
      "source": [
        "sen_len = max_sen_length(data_x_n)"
      ],
      "execution_count": 8,
      "outputs": []
    },
    {
      "cell_type": "markdown",
      "metadata": {
        "id": "eVNOSYjg7fKp"
      },
      "source": [
        "### One hot encoding"
      ]
    },
    {
      "cell_type": "code",
      "metadata": {
        "id": "toGxDQEb7fKp"
      },
      "source": [
        "onehot_enc = [one_hot(sen, vocab_size) for sen in data_x_n]"
      ],
      "execution_count": 9,
      "outputs": []
    },
    {
      "cell_type": "markdown",
      "metadata": {
        "id": "unH8Fc0p7fKp"
      },
      "source": [
        "### Padding seuqnces to the same length"
      ]
    },
    {
      "cell_type": "code",
      "metadata": {
        "id": "sq6wjKKK7fKp"
      },
      "source": [
        "embed_repr = pad_sequences(onehot_enc, padding='pre', maxlen=sen_len)"
      ],
      "execution_count": 10,
      "outputs": []
    },
    {
      "cell_type": "code",
      "metadata": {
        "colab": {
          "base_uri": "https://localhost:8080/"
        },
        "id": "T_o15zEM7fKp",
        "outputId": "6c600545-6fc0-480b-db32-1f18aeff09c9"
      },
      "source": [
        "print(embed_repr[0])"
      ],
      "execution_count": 11,
      "outputs": [
        {
          "output_type": "stream",
          "text": [
            "[   0    0    0    0    0    0    0    0    0    0    0    0    0    0\n",
            "    0    0    0    0    0    0 6626 4466 2142 1395 6340 4574 2991 8765\n",
            " 6367   44  432 8155 2742 8654]\n"
          ],
          "name": "stdout"
        }
      ]
    },
    {
      "cell_type": "markdown",
      "metadata": {
        "id": "o1hBmP_x7fKr"
      },
      "source": [
        "### Cnn model"
      ]
    },
    {
      "cell_type": "code",
      "metadata": {
        "id": "f1wteg-t7fKr"
      },
      "source": [
        "embedding_vector_features = 100"
      ],
      "execution_count": 12,
      "outputs": []
    },
    {
      "cell_type": "code",
      "metadata": {
        "id": "KIfr8-xZ7fKr"
      },
      "source": [
        "# model = Sequential()\n",
        "# model.add(Embedding(vocab_size, 32, input_length=sen_len))\n",
        "# model.add(Conv1D(32, 3, padding='same', activation='relu'))\n",
        "# model.add(MaxPooling1D())\n",
        "# model.add(Flatten())\n",
        "# model.add(Dense(250, activation='relu'))\n",
        "# model.add(Dense(3, activation='softmax'))\n",
        "# model.compile(loss='categorical_crossentropy',optimizer='adam', metrics=['accuracy'])\n",
        "\n",
        "model = Sequential()\n",
        "model.add(Embedding(vocab_size, 32, input_length=sen_len))\n",
        "model.add(Conv1D(32, 3, padding='same', activation='relu'))\n",
        "model.add(MaxPooling1D())\n",
        "model.add(Conv1D(64, 2, padding='same', activation='relu'))\n",
        "model.add(MaxPooling1D())\n",
        "model.add(Flatten())\n",
        "model.add(Dense(64, activation='relu'))\n",
        "model.add(Dropout(0.5))\n",
        "model.add(Dense(32, activation='relu'))\n",
        "model.add(Dropout(0.2))\n",
        "model.add(Dense(3, activation='softmax'))\n",
        "model.compile(loss='categorical_crossentropy',optimizer='adam', metrics=['accuracy'])"
      ],
      "execution_count": 33,
      "outputs": []
    },
    {
      "cell_type": "code",
      "metadata": {
        "colab": {
          "base_uri": "https://localhost:8080/"
        },
        "id": "j_mIoycJ7fKr",
        "outputId": "bf17f675-f6c3-43ea-d0a3-7ad900841867"
      },
      "source": [
        "model.summary()"
      ],
      "execution_count": 34,
      "outputs": [
        {
          "output_type": "stream",
          "text": [
            "Model: \"sequential_4\"\n",
            "_________________________________________________________________\n",
            "Layer (type)                 Output Shape              Param #   \n",
            "=================================================================\n",
            "embedding_4 (Embedding)      (None, 34, 32)            320000    \n",
            "_________________________________________________________________\n",
            "conv1d_7 (Conv1D)            (None, 34, 32)            3104      \n",
            "_________________________________________________________________\n",
            "max_pooling1d_7 (MaxPooling1 (None, 17, 32)            0         \n",
            "_________________________________________________________________\n",
            "conv1d_8 (Conv1D)            (None, 17, 64)            4160      \n",
            "_________________________________________________________________\n",
            "max_pooling1d_8 (MaxPooling1 (None, 8, 64)             0         \n",
            "_________________________________________________________________\n",
            "flatten_4 (Flatten)          (None, 512)               0         \n",
            "_________________________________________________________________\n",
            "dense_11 (Dense)             (None, 64)                32832     \n",
            "_________________________________________________________________\n",
            "dropout_6 (Dropout)          (None, 64)                0         \n",
            "_________________________________________________________________\n",
            "dense_12 (Dense)             (None, 32)                2080      \n",
            "_________________________________________________________________\n",
            "dropout_7 (Dropout)          (None, 32)                0         \n",
            "_________________________________________________________________\n",
            "dense_13 (Dense)             (None, 3)                 99        \n",
            "=================================================================\n",
            "Total params: 362,275\n",
            "Trainable params: 362,275\n",
            "Non-trainable params: 0\n",
            "_________________________________________________________________\n"
          ],
          "name": "stdout"
        }
      ]
    },
    {
      "cell_type": "markdown",
      "metadata": {
        "id": "FXbMJpCt7fKs"
      },
      "source": [
        "### Sampling"
      ]
    },
    {
      "cell_type": "code",
      "metadata": {
        "colab": {
          "base_uri": "https://localhost:8080/"
        },
        "id": "-qnxWRcK7fKs",
        "outputId": "d1b9cfce-4a61-487b-ea95-d3fbefd5f7a0"
      },
      "source": [
        "print(Counter(data_y))\n",
        "oversample = SMOTE()\n",
        "x, y = oversample.fit_sample(embed_repr, data_y)\n",
        "print(Counter(y))"
      ],
      "execution_count": 35,
      "outputs": [
        {
          "output_type": "stream",
          "text": [
            "Counter({1: 19190, 2: 4163, 0: 1430})\n"
          ],
          "name": "stdout"
        },
        {
          "output_type": "stream",
          "text": [
            "/usr/local/lib/python3.6/dist-packages/sklearn/utils/deprecation.py:87: FutureWarning: Function safe_indexing is deprecated; safe_indexing is deprecated in version 0.22 and will be removed in version 0.24.\n",
            "  warnings.warn(msg, category=FutureWarning)\n",
            "/usr/local/lib/python3.6/dist-packages/sklearn/utils/deprecation.py:87: FutureWarning: Function safe_indexing is deprecated; safe_indexing is deprecated in version 0.22 and will be removed in version 0.24.\n",
            "  warnings.warn(msg, category=FutureWarning)\n"
          ],
          "name": "stderr"
        },
        {
          "output_type": "stream",
          "text": [
            "Counter({1: 19190, 2: 19190, 0: 19190})\n"
          ],
          "name": "stdout"
        }
      ]
    },
    {
      "cell_type": "markdown",
      "metadata": {
        "id": "CH6zmhHH7fKs"
      },
      "source": [
        "### Train-test split"
      ]
    },
    {
      "cell_type": "code",
      "metadata": {
        "id": "5JjjxCB77fKs"
      },
      "source": [
        "x_train, x_test, y_train, y_test = train_test_split(x, y, test_size=0.2, random_state=4)"
      ],
      "execution_count": 36,
      "outputs": []
    },
    {
      "cell_type": "markdown",
      "metadata": {
        "id": "ukybWybL7fKs"
      },
      "source": [
        "### Model fitting"
      ]
    },
    {
      "cell_type": "code",
      "metadata": {
        "colab": {
          "base_uri": "https://localhost:8080/"
        },
        "id": "4wU0HCzK7fKs",
        "outputId": "8b2b607f-a7d9-4d8f-9abf-84039e0df8ee"
      },
      "source": [
        "model.fit(x_train,pd.get_dummies(y_train), validation_data=(x_test,pd.get_dummies(y_test)),epochs=10,batch_size=64)"
      ],
      "execution_count": 37,
      "outputs": [
        {
          "output_type": "stream",
          "text": [
            "Epoch 1/10\n",
            "720/720 [==============================] - 9s 13ms/step - loss: 0.6828 - accuracy: 0.6193 - val_loss: 0.5818 - val_accuracy: 0.6751\n",
            "Epoch 2/10\n",
            "720/720 [==============================] - 9s 13ms/step - loss: 0.5461 - accuracy: 0.7097 - val_loss: 0.5556 - val_accuracy: 0.6904\n",
            "Epoch 3/10\n",
            "720/720 [==============================] - 9s 13ms/step - loss: 0.4528 - accuracy: 0.7901 - val_loss: 0.5861 - val_accuracy: 0.6923\n",
            "Epoch 4/10\n",
            "720/720 [==============================] - 9s 13ms/step - loss: 0.2795 - accuracy: 0.8961 - val_loss: 0.7467 - val_accuracy: 0.6883\n",
            "Epoch 5/10\n",
            "720/720 [==============================] - 9s 13ms/step - loss: 0.1209 - accuracy: 0.9630 - val_loss: 1.2039 - val_accuracy: 0.6855\n",
            "Epoch 6/10\n",
            "720/720 [==============================] - 9s 13ms/step - loss: 0.0688 - accuracy: 0.9802 - val_loss: 1.6099 - val_accuracy: 0.6721\n",
            "Epoch 7/10\n",
            "720/720 [==============================] - 10s 13ms/step - loss: 0.0497 - accuracy: 0.9857 - val_loss: 2.0209 - val_accuracy: 0.6759\n",
            "Epoch 8/10\n",
            "720/720 [==============================] - 10s 14ms/step - loss: 0.0388 - accuracy: 0.9885 - val_loss: 2.0976 - val_accuracy: 0.6760\n",
            "Epoch 9/10\n",
            "720/720 [==============================] - 10s 14ms/step - loss: 0.0355 - accuracy: 0.9890 - val_loss: 2.1738 - val_accuracy: 0.6760\n",
            "Epoch 10/10\n",
            "720/720 [==============================] - 9s 13ms/step - loss: 0.0299 - accuracy: 0.9911 - val_loss: 2.2873 - val_accuracy: 0.6740\n"
          ],
          "name": "stdout"
        },
        {
          "output_type": "execute_result",
          "data": {
            "text/plain": [
              "<tensorflow.python.keras.callbacks.History at 0x7f0e78f55be0>"
            ]
          },
          "metadata": {
            "tags": []
          },
          "execution_count": 37
        }
      ]
    },
    {
      "cell_type": "markdown",
      "metadata": {
        "id": "_q4VknGS7fKt"
      },
      "source": [
        "## Prediction"
      ]
    },
    {
      "cell_type": "code",
      "metadata": {
        "id": "w0_2gCCT7fKt"
      },
      "source": [
        "pred = model.predict(x_test)\n",
        "y_pred = list()\n",
        "for i in range(len(pred)):\n",
        "    y_pred.append(np.argmax(pred[i]))"
      ],
      "execution_count": 38,
      "outputs": []
    },
    {
      "cell_type": "markdown",
      "metadata": {
        "id": "e6ogtKnK7fKt"
      },
      "source": [
        "## Model accuracies"
      ]
    },
    {
      "cell_type": "code",
      "metadata": {
        "colab": {
          "base_uri": "https://localhost:8080/"
        },
        "id": "BVLOtrOa7fK1",
        "outputId": "ab12d41f-818b-4672-a5c3-f7d229f99bd4"
      },
      "source": [
        "print(\"Confusion matrix :\\n\",confusion_matrix(y_test, y_pred))\n",
        "print(\"Accuracy score   : \",accuracy_score(y_test, y_pred))\n",
        "print(\"F1 score         : \",f1_score(y_test, y_pred, average='weighted'))\n",
        "print(\"Recall           : \",recall_score(y_test, y_pred, average = 'macro'))\n",
        "print(\"Precision        : \",precision_score(y_test, y_pred, average='macro'))"
      ],
      "execution_count": 39,
      "outputs": [
        {
          "output_type": "stream",
          "text": [
            "Confusion matrix :\n",
            " [[1942  235 1656]\n",
            " [ 101 3588  173]\n",
            " [1428  160 2231]]\n",
            "Accuracy score   :  0.674048983845753\n",
            "F1 score         :  0.6716751286712531\n",
            "Recall           :  0.6732964661231109\n",
            "Precision        :  0.6699429506310465\n"
          ],
          "name": "stdout"
        }
      ]
    }
  ]
}