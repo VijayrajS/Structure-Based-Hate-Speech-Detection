{
 "cells": [
  {
   "cell_type": "markdown",
   "metadata": {},
   "source": [
    "# CNN with word embeddings"
   ]
  },
  {
   "cell_type": "markdown",
   "metadata": {},
   "source": [
    "### Importing prerequisite libraries"
   ]
  },
  {
   "cell_type": "code",
   "execution_count": 30,
   "metadata": {},
   "outputs": [],
   "source": [
    "from tensorflow.keras.preprocessing.text import Tokenizer, one_hot\n",
    "from tensorflow.keras.preprocessing.sequence import pad_sequences\n",
    "from tensorflow.keras.layers import Dense, Flatten, Embedding, LSTM, GRU, Dropout, Conv1D, MaxPooling1D\n",
    "from tensorflow.keras.models import Sequential\n",
    "import pandas  as pd\n",
    "from sklearn.feature_extraction.text import CountVectorizer\n",
    "from sklearn.model_selection import train_test_split\n",
    "from sklearn.naive_bayes import MultinomialNB\n",
    "from sklearn.metrics import confusion_matrix, accuracy_score, precision_score, recall_score, f1_score\n",
    "from collections import Counter\n",
    "from imblearn.over_sampling import SMOTE\n",
    "import numpy as np"
   ]
  },
  {
   "cell_type": "markdown",
   "metadata": {},
   "source": [
    "### Loading datasets and dropping nulls"
   ]
  },
  {
   "cell_type": "code",
   "execution_count": 7,
   "metadata": {},
   "outputs": [],
   "source": [
    "data  = pd.read_csv('data_raw.csv',sep=',',names=['Msg','Tag'])"
   ]
  },
  {
   "cell_type": "code",
   "execution_count": 8,
   "metadata": {},
   "outputs": [],
   "source": [
    "data_x=data[\"Msg\"]\n",
    "data_y=data[\"Tag\"]"
   ]
  },
  {
   "cell_type": "code",
   "execution_count": 9,
   "metadata": {},
   "outputs": [],
   "source": [
    "vocab_size = 10000"
   ]
  },
  {
   "cell_type": "code",
   "execution_count": 10,
   "metadata": {},
   "outputs": [],
   "source": [
    "data_x_n = data_x.to_numpy()"
   ]
  },
  {
   "cell_type": "markdown",
   "metadata": {},
   "source": [
    "### Finding max sentence length"
   ]
  },
  {
   "cell_type": "code",
   "execution_count": 11,
   "metadata": {},
   "outputs": [],
   "source": [
    "def max_sen_length(data):\n",
    "    mx_len = 0\n",
    "    for sen in data:\n",
    "        words = sen.split()\n",
    "        if len(words) > mx_len:\n",
    "            mx_len = len(words)\n",
    "    return mx_len"
   ]
  },
  {
   "cell_type": "code",
   "execution_count": 12,
   "metadata": {},
   "outputs": [],
   "source": [
    "sen_len = max_sen_length(data_x_n)"
   ]
  },
  {
   "cell_type": "markdown",
   "metadata": {},
   "source": [
    "### One hot encoding"
   ]
  },
  {
   "cell_type": "code",
   "execution_count": 13,
   "metadata": {},
   "outputs": [],
   "source": [
    "onehot_enc = [one_hot(sen, vocab_size) for sen in data_x_n]"
   ]
  },
  {
   "cell_type": "markdown",
   "metadata": {},
   "source": [
    "### Padding seuqnces to the same length"
   ]
  },
  {
   "cell_type": "code",
   "execution_count": 14,
   "metadata": {},
   "outputs": [],
   "source": [
    "embed_repr = pad_sequences(onehot_enc, padding='pre', maxlen=sen_len)"
   ]
  },
  {
   "cell_type": "code",
   "execution_count": 53,
   "metadata": {},
   "outputs": [
    {
     "name": "stdout",
     "output_type": "stream",
     "text": [
      "[   0    0    0    0    0    0    0    0    0    0    0    0    0    0\n",
      "    0    0    0    0    0    0    0    0    0    0    0    0    0    0\n",
      "    0    0    0    0    0    0    0    0    0    0    0    0    0    0\n",
      "    0    0    0    0    0    0    0    0    0    0    0    0    0    0\n",
      "    0    0    0    0    0    0    0    0    0    0    0    0    0    0\n",
      "    0    0    0    0    0    0    0    0    0    0    0    0    0    0\n",
      "    0    0    0    0    0    0    0    0    0    0    0    0    0    0\n",
      "    0    0    0    0    0    0    0    0    0    0    0    0    0    0\n",
      "    0    0    0    0    0    0    0    0    0    0    0    0    0    0\n",
      "    0    0    0    0    0    0    0    0    0    0    0    0    0 9354\n",
      " 6098 3888  619 8431 1096  619 8431 4473  619 7475 7341]\n"
     ]
    }
   ],
   "source": [
    "print(embed_repr[0])"
   ]
  },
  {
   "cell_type": "markdown",
   "metadata": {},
   "source": [
    "### Cnn model"
   ]
  },
  {
   "cell_type": "code",
   "execution_count": 15,
   "metadata": {},
   "outputs": [],
   "source": [
    "embedding_vector_features = 100"
   ]
  },
  {
   "cell_type": "code",
   "execution_count": 16,
   "metadata": {},
   "outputs": [],
   "source": [
    "model = Sequential()\n",
    "model.add(Embedding(vocab_size, 32, input_length=sen_len))\n",
    "model.add(Conv1D(32, 3, padding='same', activation='relu'))\n",
    "model.add(MaxPooling1D())\n",
    "model.add(Flatten())\n",
    "model.add(Dense(250, activation='relu'))\n",
    "model.add(Dense(3, activation='softmax'))\n",
    "model.compile(loss='categorical_crossentropy',optimizer='adam', metrics=['accuracy'])"
   ]
  },
  {
   "cell_type": "code",
   "execution_count": 17,
   "metadata": {},
   "outputs": [
    {
     "name": "stdout",
     "output_type": "stream",
     "text": [
      "Model: \"sequential\"\n",
      "_________________________________________________________________\n",
      "Layer (type)                 Output Shape              Param #   \n",
      "=================================================================\n",
      "embedding (Embedding)        (None, 34, 32)            320000    \n",
      "_________________________________________________________________\n",
      "conv1d (Conv1D)              (None, 34, 32)            3104      \n",
      "_________________________________________________________________\n",
      "max_pooling1d (MaxPooling1D) (None, 17, 32)            0         \n",
      "_________________________________________________________________\n",
      "flatten (Flatten)            (None, 544)               0         \n",
      "_________________________________________________________________\n",
      "dense (Dense)                (None, 250)               136250    \n",
      "_________________________________________________________________\n",
      "dense_1 (Dense)              (None, 3)                 753       \n",
      "=================================================================\n",
      "Total params: 460,107\n",
      "Trainable params: 460,107\n",
      "Non-trainable params: 0\n",
      "_________________________________________________________________\n"
     ]
    }
   ],
   "source": [
    "model.summary()"
   ]
  },
  {
   "cell_type": "markdown",
   "metadata": {},
   "source": [
    "### Sampling"
   ]
  },
  {
   "cell_type": "code",
   "execution_count": 31,
   "metadata": {},
   "outputs": [
    {
     "name": "stdout",
     "output_type": "stream",
     "text": [
      "Counter({1: 19190, 2: 4163, 0: 1430})\n",
      "Counter({1: 19190, 2: 19190, 0: 19190})\n"
     ]
    }
   ],
   "source": [
    "print(Counter(data_y))\n",
    "oversample = SMOTE()\n",
    "x, y = oversample.fit_sample(embed_repr, data_y)\n",
    "print(Counter(y))"
   ]
  },
  {
   "cell_type": "code",
   "execution_count": 18,
   "metadata": {},
   "outputs": [],
   "source": [
    "#x, y = embed_repr, data_y"
   ]
  },
  {
   "cell_type": "markdown",
   "metadata": {},
   "source": [
    "### Train-test split"
   ]
  },
  {
   "cell_type": "code",
   "execution_count": 32,
   "metadata": {},
   "outputs": [],
   "source": [
    "x_train, x_test, y_train, y_test = train_test_split(x, y, test_size=0.2, random_state=4)"
   ]
  },
  {
   "cell_type": "markdown",
   "metadata": {},
   "source": [
    "### Model fitting"
   ]
  },
  {
   "cell_type": "code",
   "execution_count": 33,
   "metadata": {},
   "outputs": [
    {
     "name": "stdout",
     "output_type": "stream",
     "text": [
      "Train on 46056 samples, validate on 11514 samples\n",
      "Epoch 1/10\n",
      "46056/46056 [==============================] - 10s 213us/sample - loss: 0.5818 - accuracy: 0.7003 - val_loss: 0.4828 - val_accuracy: 0.7150\n",
      "Epoch 2/10\n",
      "46056/46056 [==============================] - 9s 204us/sample - loss: 0.3004 - accuracy: 0.8623 - val_loss: 0.6073 - val_accuracy: 0.7070\n",
      "Epoch 3/10\n",
      "46056/46056 [==============================] - 10s 207us/sample - loss: 0.0578 - accuracy: 0.9835 - val_loss: 1.0656 - val_accuracy: 0.6976\n",
      "Epoch 4/10\n",
      "46056/46056 [==============================] - 10s 216us/sample - loss: 0.0091 - accuracy: 0.9982 - val_loss: 1.4160 - val_accuracy: 0.7011\n",
      "Epoch 5/10\n",
      "46056/46056 [==============================] - 9s 203us/sample - loss: 0.0037 - accuracy: 0.9993 - val_loss: 1.5599 - val_accuracy: 0.6978\n",
      "Epoch 6/10\n",
      "46056/46056 [==============================] - 9s 203us/sample - loss: 0.0026 - accuracy: 0.9996 - val_loss: 1.6885 - val_accuracy: 0.6974\n",
      "Epoch 7/10\n",
      "46056/46056 [==============================] - 9s 200us/sample - loss: 0.0020 - accuracy: 0.9996 - val_loss: 1.8166 - val_accuracy: 0.6954\n",
      "Epoch 8/10\n",
      "46056/46056 [==============================] - 9s 185us/sample - loss: 0.0042 - accuracy: 0.9989 - val_loss: 1.9997 - val_accuracy: 0.6916\n",
      "Epoch 9/10\n",
      "46056/46056 [==============================] - 9s 199us/sample - loss: 0.0067 - accuracy: 0.9979 - val_loss: 2.1299 - val_accuracy: 0.6925\n",
      "Epoch 10/10\n",
      "46056/46056 [==============================] - 9s 201us/sample - loss: 0.0096 - accuracy: 0.9970 - val_loss: 2.3428 - val_accuracy: 0.6899\n"
     ]
    },
    {
     "data": {
      "text/plain": [
       "<tensorflow.python.keras.callbacks.History at 0x7f51e8181160>"
      ]
     },
     "execution_count": 33,
     "metadata": {},
     "output_type": "execute_result"
    }
   ],
   "source": [
    "model.fit(x_train,pd.get_dummies(y_train), validation_data=(x_test,pd.get_dummies(y_test)),epochs=10,batch_size=64)"
   ]
  },
  {
   "cell_type": "markdown",
   "metadata": {},
   "source": [
    "## Prediction"
   ]
  },
  {
   "cell_type": "code",
   "execution_count": 34,
   "metadata": {},
   "outputs": [],
   "source": [
    "pred = model.predict(x_test)\n",
    "y_pred = list()\n",
    "for i in range(len(pred)):\n",
    "    y_pred.append(np.argmax(pred[i]))"
   ]
  },
  {
   "cell_type": "markdown",
   "metadata": {},
   "source": [
    "## Model accuracies"
   ]
  },
  {
   "cell_type": "markdown",
   "metadata": {},
   "source": [
    "### Without Sampling"
   ]
  },
  {
   "cell_type": "code",
   "execution_count": 25,
   "metadata": {},
   "outputs": [
    {
     "name": "stdout",
     "output_type": "stream",
     "text": [
      "Confusion matrix :\n",
      " [[  67  172   28]\n",
      " [ 146 3589  109]\n",
      " [   8  231  607]]\n",
      "Accuracy score   :  0.8599959653015937\n",
      "F1 score         :  0.8554506921619972\n",
      "Recall           :  0.6340310902064002\n",
      "Precision        :  0.672691910686876\n"
     ]
    }
   ],
   "source": [
    "print(\"Confusion matrix :\\n\",confusion_matrix(y_test, y_pred))\n",
    "print(\"Accuracy score   : \",accuracy_score(y_test, y_pred))\n",
    "print(\"F1 score         : \",f1_score(y_test, y_pred, average='weighted'))\n",
    "print(\"Recall           : \",recall_score(y_test, y_pred, average = 'macro'))\n",
    "print(\"Precision        : \",precision_score(y_test, y_pred, average='macro'))"
   ]
  },
  {
   "cell_type": "markdown",
   "metadata": {},
   "source": [
    "### With Sampling"
   ]
  },
  {
   "cell_type": "code",
   "execution_count": 35,
   "metadata": {},
   "outputs": [
    {
     "name": "stdout",
     "output_type": "stream",
     "text": [
      "Confusion matrix :\n",
      " [[1970  209 1654]\n",
      " [  79 3697   86]\n",
      " [1377  166 2276]]\n",
      "Accuracy score   :  0.689855827688032\n",
      "F1 score         :  0.6859800472073684\n",
      "Recall           :  0.6890670963361982\n",
      "Precision        :  0.683218441363547\n"
     ]
    }
   ],
   "source": [
    "print(\"Confusion matrix :\\n\",confusion_matrix(y_test, y_pred))\n",
    "print(\"Accuracy score   : \",accuracy_score(y_test, y_pred))\n",
    "print(\"F1 score         : \",f1_score(y_test, y_pred, average='weighted'))\n",
    "print(\"Recall           : \",recall_score(y_test, y_pred, average = 'macro'))\n",
    "print(\"Precision        : \",precision_score(y_test, y_pred, average='macro'))"
   ]
  }
 ],
 "metadata": {
  "kernelspec": {
   "display_name": "Python 3",
   "language": "python",
   "name": "python3"
  },
  "language_info": {
   "codemirror_mode": {
    "name": "ipython",
    "version": 3
   },
   "file_extension": ".py",
   "mimetype": "text/x-python",
   "name": "python",
   "nbconvert_exporter": "python",
   "pygments_lexer": "ipython3",
   "version": "3.8.5"
  }
 },
 "nbformat": 4,
 "nbformat_minor": 4
}
