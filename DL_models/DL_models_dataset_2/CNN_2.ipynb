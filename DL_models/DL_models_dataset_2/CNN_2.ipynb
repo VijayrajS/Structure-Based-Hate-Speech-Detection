{
  "nbformat": 4,
  "nbformat_minor": 0,
  "metadata": {
    "kernelspec": {
      "display_name": "Python 3",
      "language": "python",
      "name": "python3"
    },
    "language_info": {
      "codemirror_mode": {
        "name": "ipython",
        "version": 3
      },
      "file_extension": ".py",
      "mimetype": "text/x-python",
      "name": "python",
      "nbconvert_exporter": "python",
      "pygments_lexer": "ipython3",
      "version": "3.8.5"
    },
    "colab": {
      "name": "CNN_2.ipynb",
      "provenance": [],
      "toc_visible": true
    }
  },
  "cells": [
    {
      "cell_type": "markdown",
      "metadata": {
        "id": "FUTLXwU7gSlo"
      },
      "source": [
        "# CNN with word embeddings"
      ]
    },
    {
      "cell_type": "markdown",
      "metadata": {
        "id": "8_eyQqlJgSlo"
      },
      "source": [
        "### Importing prerequisite libraries"
      ]
    },
    {
      "cell_type": "code",
      "metadata": {
        "id": "PbOI5_pKgSlo"
      },
      "source": [
        "from tensorflow.keras.preprocessing.text import Tokenizer, one_hot\n",
        "from tensorflow.keras.preprocessing.sequence import pad_sequences\n",
        "from tensorflow.keras.layers import Dense, Flatten, Embedding, LSTM, GRU, Dropout, Conv1D, MaxPooling1D\n",
        "from tensorflow.keras.models import Sequential\n",
        "import pandas  as pd\n",
        "from sklearn.feature_extraction.text import CountVectorizer\n",
        "from sklearn.model_selection import train_test_split\n",
        "from sklearn.naive_bayes import MultinomialNB\n",
        "from sklearn.metrics import confusion_matrix, accuracy_score, precision_score, recall_score, f1_score"
      ],
      "execution_count": 74,
      "outputs": []
    },
    {
      "cell_type": "markdown",
      "metadata": {
        "id": "6fbgGh4kgSlo"
      },
      "source": [
        "### Loading datasets and dropping nulls"
      ]
    },
    {
      "cell_type": "code",
      "metadata": {
        "colab": {
          "base_uri": "https://localhost:8080/",
          "height": 206
        },
        "id": "l8EMVgS1gSlo",
        "outputId": "462f78de-fc27-400d-8ae8-2636ab10d67a"
      },
      "source": [
        "data = pd.read_csv('data_raw.csv',sep=',',names=['Msg','Tag'])\n",
        "\n",
        "data.head()"
      ],
      "execution_count": 73,
      "outputs": [
        {
          "output_type": "execute_result",
          "data": {
            "text/html": [
              "<div>\n",
              "<style scoped>\n",
              "    .dataframe tbody tr th:only-of-type {\n",
              "        vertical-align: middle;\n",
              "    }\n",
              "\n",
              "    .dataframe tbody tr th {\n",
              "        vertical-align: top;\n",
              "    }\n",
              "\n",
              "    .dataframe thead th {\n",
              "        text-align: right;\n",
              "    }\n",
              "</style>\n",
              "<table border=\"1\" class=\"dataframe\">\n",
              "  <thead>\n",
              "    <tr style=\"text-align: right;\">\n",
              "      <th></th>\n",
              "      <th>Msg</th>\n",
              "      <th>Tag</th>\n",
              "    </tr>\n",
              "  </thead>\n",
              "  <tbody>\n",
              "    <tr>\n",
              "      <th>0</th>\n",
              "      <td>jaydillz my babies pussy is too tight today t...</td>\n",
              "      <td>1</td>\n",
              "    </tr>\n",
              "    <tr>\n",
              "      <th>1</th>\n",
              "      <td>seymourblanco they game is over fuck yall bit...</td>\n",
              "      <td>1</td>\n",
              "    </tr>\n",
              "    <tr>\n",
              "      <th>2</th>\n",
              "      <td>can you let me stretch that pussy out or nahhh</td>\n",
              "      <td>1</td>\n",
              "    </tr>\n",
              "    <tr>\n",
              "      <th>3</th>\n",
              "      <td>don t mind that twinkies are gonna be gone ver...</td>\n",
              "      <td>2</td>\n",
              "    </tr>\n",
              "    <tr>\n",
              "      <th>4</th>\n",
              "      <td>cnt nobody be mad at who he choose to be with ...</td>\n",
              "      <td>1</td>\n",
              "    </tr>\n",
              "  </tbody>\n",
              "</table>\n",
              "</div>"
            ],
            "text/plain": [
              "                                                 Msg  Tag\n",
              "0   jaydillz my babies pussy is too tight today t...    1\n",
              "1   seymourblanco they game is over fuck yall bit...    1\n",
              "2     can you let me stretch that pussy out or nahhh    1\n",
              "3  don t mind that twinkies are gonna be gone ver...    2\n",
              "4  cnt nobody be mad at who he choose to be with ...    1"
            ]
          },
          "metadata": {
            "tags": []
          },
          "execution_count": 73
        }
      ]
    },
    {
      "cell_type": "code",
      "metadata": {
        "scrolled": true,
        "colab": {
          "base_uri": "https://localhost:8080/"
        },
        "id": "Ofdq-9z6gSlq",
        "outputId": "8d7edf5c-f4a7-4d7c-b2c3-007d400da4f6"
      },
      "source": [
        "data.info()"
      ],
      "execution_count": 75,
      "outputs": [
        {
          "output_type": "stream",
          "text": [
            "<class 'pandas.core.frame.DataFrame'>\n",
            "RangeIndex: 24783 entries, 0 to 24782\n",
            "Data columns (total 2 columns):\n",
            " #   Column  Non-Null Count  Dtype \n",
            "---  ------  --------------  ----- \n",
            " 0   Msg     24783 non-null  object\n",
            " 1   Tag     24783 non-null  int64 \n",
            "dtypes: int64(1), object(1)\n",
            "memory usage: 387.4+ KB\n"
          ],
          "name": "stdout"
        }
      ]
    },
    {
      "cell_type": "code",
      "metadata": {
        "colab": {
          "base_uri": "https://localhost:8080/"
        },
        "id": "pqq_DlGKgSlq",
        "outputId": "fdbc5a3e-daa8-4a01-d3e5-51dd9fbc46a8"
      },
      "source": [
        "data.dropna(inplace=True)\n",
        "data.info()"
      ],
      "execution_count": 76,
      "outputs": [
        {
          "output_type": "stream",
          "text": [
            "<class 'pandas.core.frame.DataFrame'>\n",
            "Int64Index: 24783 entries, 0 to 24782\n",
            "Data columns (total 2 columns):\n",
            " #   Column  Non-Null Count  Dtype \n",
            "---  ------  --------------  ----- \n",
            " 0   Msg     24783 non-null  object\n",
            " 1   Tag     24783 non-null  int64 \n",
            "dtypes: int64(1), object(1)\n",
            "memory usage: 580.9+ KB\n"
          ],
          "name": "stdout"
        }
      ]
    },
    {
      "cell_type": "code",
      "metadata": {
        "colab": {
          "base_uri": "https://localhost:8080/",
          "height": 206
        },
        "id": "f7TyFqM1gSlq",
        "outputId": "3ec08ad9-789d-454e-a0de-23c7d1839a24"
      },
      "source": [
        "data.head()"
      ],
      "execution_count": 77,
      "outputs": [
        {
          "output_type": "execute_result",
          "data": {
            "text/html": [
              "<div>\n",
              "<style scoped>\n",
              "    .dataframe tbody tr th:only-of-type {\n",
              "        vertical-align: middle;\n",
              "    }\n",
              "\n",
              "    .dataframe tbody tr th {\n",
              "        vertical-align: top;\n",
              "    }\n",
              "\n",
              "    .dataframe thead th {\n",
              "        text-align: right;\n",
              "    }\n",
              "</style>\n",
              "<table border=\"1\" class=\"dataframe\">\n",
              "  <thead>\n",
              "    <tr style=\"text-align: right;\">\n",
              "      <th></th>\n",
              "      <th>Msg</th>\n",
              "      <th>Tag</th>\n",
              "    </tr>\n",
              "  </thead>\n",
              "  <tbody>\n",
              "    <tr>\n",
              "      <th>0</th>\n",
              "      <td>jaydillz my babies pussy is too tight today t...</td>\n",
              "      <td>1</td>\n",
              "    </tr>\n",
              "    <tr>\n",
              "      <th>1</th>\n",
              "      <td>seymourblanco they game is over fuck yall bit...</td>\n",
              "      <td>1</td>\n",
              "    </tr>\n",
              "    <tr>\n",
              "      <th>2</th>\n",
              "      <td>can you let me stretch that pussy out or nahhh</td>\n",
              "      <td>1</td>\n",
              "    </tr>\n",
              "    <tr>\n",
              "      <th>3</th>\n",
              "      <td>don t mind that twinkies are gonna be gone ver...</td>\n",
              "      <td>2</td>\n",
              "    </tr>\n",
              "    <tr>\n",
              "      <th>4</th>\n",
              "      <td>cnt nobody be mad at who he choose to be with ...</td>\n",
              "      <td>1</td>\n",
              "    </tr>\n",
              "  </tbody>\n",
              "</table>\n",
              "</div>"
            ],
            "text/plain": [
              "                                                 Msg  Tag\n",
              "0   jaydillz my babies pussy is too tight today t...    1\n",
              "1   seymourblanco they game is over fuck yall bit...    1\n",
              "2     can you let me stretch that pussy out or nahhh    1\n",
              "3  don t mind that twinkies are gonna be gone ver...    2\n",
              "4  cnt nobody be mad at who he choose to be with ...    1"
            ]
          },
          "metadata": {
            "tags": []
          },
          "execution_count": 77
        }
      ]
    },
    {
      "cell_type": "code",
      "metadata": {
        "id": "BOcotfl2gSls"
      },
      "source": [
        "data_x=data[\"Msg\"]\n",
        "data_y=data[\"Tag\"]\n"
      ],
      "execution_count": 78,
      "outputs": []
    },
    {
      "cell_type": "code",
      "metadata": {
        "id": "k5Jjgz7JgSls"
      },
      "source": [
        "vocab_size = 10000"
      ],
      "execution_count": 79,
      "outputs": []
    },
    {
      "cell_type": "code",
      "metadata": {
        "colab": {
          "base_uri": "https://localhost:8080/"
        },
        "id": "tA2GdIUtgSls",
        "outputId": "9a2f3014-a62a-42e3-ca12-181af053989c"
      },
      "source": [
        "data_x_n = data_x.to_numpy()\n",
        "data_x_n\n",
        "\n"
      ],
      "execution_count": 80,
      "outputs": [
        {
          "output_type": "execute_result",
          "data": {
            "text/plain": [
              "array([' jaydillz my babies pussy is too tight today t co if k v ro',\n",
              "       ' seymourblanco they game is over fuck yall bitches amp yall attitudes t co rlrnybfedt ',\n",
              "       'can you let me stretch that pussy out or nahhh', ...,\n",
              "       'need some hispanic pussy',\n",
              "       ' o mygotti you have a girlfriend stop asking these hoes to be your bestfriend ',\n",
              "       ' kingtunchi jd told me i m to player to be with one bitch'],\n",
              "      dtype=object)"
            ]
          },
          "metadata": {
            "tags": []
          },
          "execution_count": 80
        }
      ]
    },
    {
      "cell_type": "markdown",
      "metadata": {
        "id": "tkBKvZY5gSlt"
      },
      "source": [
        "### Finding max sentence length"
      ]
    },
    {
      "cell_type": "code",
      "metadata": {
        "id": "xlZi4rmbgSlt"
      },
      "source": [
        "def max_sen_length(data):\n",
        "    mx_len = 0\n",
        "    for sen in data:\n",
        "        words = sen.split()\n",
        "        if len(words) > mx_len:\n",
        "            mx_len = len(words)\n",
        "    return mx_len"
      ],
      "execution_count": 81,
      "outputs": []
    },
    {
      "cell_type": "code",
      "metadata": {
        "id": "F0XHQBvhgSlt"
      },
      "source": [
        "sen_len = max_sen_length(data_x_n)\n",
        "\n"
      ],
      "execution_count": 82,
      "outputs": []
    },
    {
      "cell_type": "markdown",
      "metadata": {
        "id": "lxVWm2utgSlt"
      },
      "source": [
        "### One hot encoding"
      ]
    },
    {
      "cell_type": "code",
      "metadata": {
        "id": "doyqr0nHgSlu"
      },
      "source": [
        "onehot_enc = [one_hot(sen, vocab_size) for sen in data_x_n]\n",
        "\n"
      ],
      "execution_count": 83,
      "outputs": []
    },
    {
      "cell_type": "markdown",
      "metadata": {
        "id": "GM69PP6AgSlu"
      },
      "source": [
        "### Padding seuqnces to the same length"
      ]
    },
    {
      "cell_type": "code",
      "metadata": {
        "id": "mx_yGsNsgSlu"
      },
      "source": [
        "embed_repr = pad_sequences(onehot_enc, padding='pre', maxlen=sen_len)"
      ],
      "execution_count": 84,
      "outputs": []
    },
    {
      "cell_type": "markdown",
      "metadata": {
        "id": "18X8ppH1gSlv"
      },
      "source": [
        "### Cnn model"
      ]
    },
    {
      "cell_type": "code",
      "metadata": {
        "id": "MFtklmN5gSlv"
      },
      "source": [
        "embedding_vector_features = 100"
      ],
      "execution_count": 85,
      "outputs": []
    },
    {
      "cell_type": "code",
      "metadata": {
        "id": "VBmpV85PgSlv"
      },
      "source": [
        "# model = Sequential()\n",
        "# model.add(Embedding(vocab_size, 32, input_length=sen_len))\n",
        "# model.add(Conv1D(32, 3, padding='same', activation='relu'))\n",
        "# model.add(MaxPooling1D())\n",
        "# model.add(Flatten())\n",
        "# model.add(Dense(250, activation='relu'))\n",
        "# model.add(Dense(1, activation='sigmoid'))\n",
        "# model.compile(loss='binary_crossentropy',optimizer='adam', metrics=['accuracy'])\n",
        "\n",
        "model = Sequential()\n",
        "model.add(Embedding(vocab_size, 32, input_length=sen_len))\n",
        "model.add(Conv1D(32, 3, padding='same', activation='relu'))\n",
        "model.add(MaxPooling1D())\n",
        "model.add(Conv1D(64, 2, padding='same', activation='relu'))\n",
        "model.add(MaxPooling1D())\n",
        "model.add(Flatten())\n",
        "model.add(Dense(64, activation='relu'))\n",
        "model.add(Dropout(0.5))\n",
        "model.add(Dense(32, activation='relu'))\n",
        "model.add(Dropout(0.2))\n",
        "model.add(Dense(1, activation='sigmoid'))\n",
        "model.compile(loss='binary_crossentropy',optimizer='adam', metrics=['accuracy'])"
      ],
      "execution_count": 86,
      "outputs": []
    },
    {
      "cell_type": "code",
      "metadata": {
        "colab": {
          "base_uri": "https://localhost:8080/"
        },
        "id": "bV2O-lJpgSlv",
        "outputId": "ac7838a7-7d24-4890-f95f-4f8536eaef57"
      },
      "source": [
        "model.summary()"
      ],
      "execution_count": 87,
      "outputs": [
        {
          "output_type": "stream",
          "text": [
            "Model: \"sequential_9\"\n",
            "_________________________________________________________________\n",
            "Layer (type)                 Output Shape              Param #   \n",
            "=================================================================\n",
            "embedding_9 (Embedding)      (None, 34, 32)            320000    \n",
            "_________________________________________________________________\n",
            "conv1d_17 (Conv1D)           (None, 34, 32)            3104      \n",
            "_________________________________________________________________\n",
            "max_pooling1d_17 (MaxPooling (None, 17, 32)            0         \n",
            "_________________________________________________________________\n",
            "conv1d_18 (Conv1D)           (None, 17, 64)            4160      \n",
            "_________________________________________________________________\n",
            "max_pooling1d_18 (MaxPooling (None, 8, 64)             0         \n",
            "_________________________________________________________________\n",
            "flatten_9 (Flatten)          (None, 512)               0         \n",
            "_________________________________________________________________\n",
            "dense_26 (Dense)             (None, 64)                32832     \n",
            "_________________________________________________________________\n",
            "dropout_16 (Dropout)         (None, 64)                0         \n",
            "_________________________________________________________________\n",
            "dense_27 (Dense)             (None, 32)                2080      \n",
            "_________________________________________________________________\n",
            "dropout_17 (Dropout)         (None, 32)                0         \n",
            "_________________________________________________________________\n",
            "dense_28 (Dense)             (None, 1)                 33        \n",
            "=================================================================\n",
            "Total params: 362,209\n",
            "Trainable params: 362,209\n",
            "Non-trainable params: 0\n",
            "_________________________________________________________________\n"
          ],
          "name": "stdout"
        }
      ]
    },
    {
      "cell_type": "markdown",
      "metadata": {
        "id": "Z_Dfn1YCgSlw"
      },
      "source": [
        "### Train-test split"
      ]
    },
    {
      "cell_type": "code",
      "metadata": {
        "id": "VSNAOeHkgSlw"
      },
      "source": [
        "x_train, x_test, y_train, y_test = train_test_split(embed_repr, data_y, test_size=0.2, random_state=4)\n"
      ],
      "execution_count": 88,
      "outputs": []
    },
    {
      "cell_type": "markdown",
      "metadata": {
        "id": "McYr_BcKgSlw"
      },
      "source": [
        "### Model fitting"
      ]
    },
    {
      "cell_type": "code",
      "metadata": {
        "colab": {
          "base_uri": "https://localhost:8080/"
        },
        "id": "0W1vJ_5EgSlw",
        "outputId": "3dbadaef-3709-4857-da4c-8f0abd696626"
      },
      "source": [
        "model.fit(x_train,y_train, validation_data=(x_test,y_test),epochs=10, verbose=2)"
      ],
      "execution_count": 89,
      "outputs": [
        {
          "output_type": "stream",
          "text": [
            "Epoch 1/10\n",
            "620/620 - 5s - loss: -3.2943e+07 - accuracy: 0.7731 - val_loss: -2.6382e+08 - val_accuracy: 0.7755\n",
            "Epoch 2/10\n",
            "620/620 - 5s - loss: -4.9260e+09 - accuracy: 0.7740 - val_loss: -1.8062e+10 - val_accuracy: 0.7755\n",
            "Epoch 3/10\n",
            "620/620 - 5s - loss: -7.1606e+10 - accuracy: 0.7740 - val_loss: -1.7834e+11 - val_accuracy: 0.7755\n",
            "Epoch 4/10\n",
            "620/620 - 5s - loss: -4.1312e+11 - accuracy: 0.7740 - val_loss: -8.1465e+11 - val_accuracy: 0.7755\n",
            "Epoch 5/10\n",
            "620/620 - 5s - loss: -1.4628e+12 - accuracy: 0.7740 - val_loss: -2.4851e+12 - val_accuracy: 0.7755\n",
            "Epoch 6/10\n",
            "620/620 - 5s - loss: -3.8796e+12 - accuracy: 0.7740 - val_loss: -6.0817e+12 - val_accuracy: 0.7755\n",
            "Epoch 7/10\n",
            "620/620 - 5s - loss: -8.4095e+12 - accuracy: 0.7740 - val_loss: -1.2507e+13 - val_accuracy: 0.7755\n",
            "Epoch 8/10\n",
            "620/620 - 5s - loss: -1.6550e+13 - accuracy: 0.7740 - val_loss: -2.3120e+13 - val_accuracy: 0.7755\n",
            "Epoch 9/10\n",
            "620/620 - 5s - loss: -2.9074e+13 - accuracy: 0.7740 - val_loss: -3.9434e+13 - val_accuracy: 0.7755\n",
            "Epoch 10/10\n",
            "620/620 - 5s - loss: -4.7549e+13 - accuracy: 0.7740 - val_loss: -6.3344e+13 - val_accuracy: 0.7755\n"
          ],
          "name": "stdout"
        },
        {
          "output_type": "execute_result",
          "data": {
            "text/plain": [
              "<tensorflow.python.keras.callbacks.History at 0x7f0e53880780>"
            ]
          },
          "metadata": {
            "tags": []
          },
          "execution_count": 89
        }
      ]
    },
    {
      "cell_type": "markdown",
      "metadata": {
        "id": "mF1WG2zUgSly"
      },
      "source": [
        "## Model accuracies"
      ]
    },
    {
      "cell_type": "code",
      "metadata": {
        "id": "ajlnOYLEgSly"
      },
      "source": [
        "y_pred = model.predict_classes(x_test)"
      ],
      "execution_count": 90,
      "outputs": []
    },
    {
      "cell_type": "code",
      "metadata": {
        "colab": {
          "base_uri": "https://localhost:8080/"
        },
        "id": "xbCqk3VugSly",
        "outputId": "ee94e255-3775-4a32-9b8b-b1f1e8cf432e"
      },
      "source": [
        "confusion_matrix(y_test, y_pred)"
      ],
      "execution_count": 91,
      "outputs": [
        {
          "output_type": "execute_result",
          "data": {
            "text/plain": [
              "array([[   0,  267,    0],\n",
              "       [   0, 3844,    0],\n",
              "       [   0,  846,    0]])"
            ]
          },
          "metadata": {
            "tags": []
          },
          "execution_count": 91
        }
      ]
    },
    {
      "cell_type": "code",
      "metadata": {
        "colab": {
          "base_uri": "https://localhost:8080/"
        },
        "id": "6XNXiTi-gSly",
        "outputId": "6dadeb70-4146-4346-dcd0-db91eacd4d28"
      },
      "source": [
        "accuracy_score(y_test, y_pred)"
      ],
      "execution_count": 98,
      "outputs": [
        {
          "output_type": "execute_result",
          "data": {
            "text/plain": [
              "0.7754690336897317"
            ]
          },
          "metadata": {
            "tags": []
          },
          "execution_count": 98
        }
      ]
    },
    {
      "cell_type": "code",
      "metadata": {
        "colab": {
          "base_uri": "https://localhost:8080/"
        },
        "id": "MnPcWheggSlz",
        "outputId": "bf72360b-834c-4143-94fd-436fb12fb1d8"
      },
      "source": [
        "f1_score(y_test, y_pred, average=\"macro\")"
      ],
      "execution_count": 99,
      "outputs": [
        {
          "output_type": "execute_result",
          "data": {
            "text/plain": [
              "0.2911790326856797"
            ]
          },
          "metadata": {
            "tags": []
          },
          "execution_count": 99
        }
      ]
    },
    {
      "cell_type": "code",
      "metadata": {
        "colab": {
          "base_uri": "https://localhost:8080/"
        },
        "id": "gPcglyr3gSl0",
        "outputId": "eed2b9eb-6866-4f20-e602-854b0c16baa9"
      },
      "source": [
        "precision_score(y_test, y_pred, average=\"macro\")"
      ],
      "execution_count": 100,
      "outputs": [
        {
          "output_type": "stream",
          "text": [
            "/usr/local/lib/python3.6/dist-packages/sklearn/metrics/_classification.py:1272: UndefinedMetricWarning: Precision is ill-defined and being set to 0.0 in labels with no predicted samples. Use `zero_division` parameter to control this behavior.\n",
            "  _warn_prf(average, modifier, msg_start, len(result))\n"
          ],
          "name": "stderr"
        },
        {
          "output_type": "execute_result",
          "data": {
            "text/plain": [
              "0.25848967789657723"
            ]
          },
          "metadata": {
            "tags": []
          },
          "execution_count": 100
        }
      ]
    },
    {
      "cell_type": "code",
      "metadata": {
        "colab": {
          "base_uri": "https://localhost:8080/"
        },
        "id": "9MmKWY6jgSl0",
        "outputId": "a79beda9-7df4-4f67-afbe-04130b164609"
      },
      "source": [
        "recall_score(y_test, y_pred, average=\"macro\")"
      ],
      "execution_count": 101,
      "outputs": [
        {
          "output_type": "execute_result",
          "data": {
            "text/plain": [
              "0.3333333333333333"
            ]
          },
          "metadata": {
            "tags": []
          },
          "execution_count": 101
        }
      ]
    }
  ]
}