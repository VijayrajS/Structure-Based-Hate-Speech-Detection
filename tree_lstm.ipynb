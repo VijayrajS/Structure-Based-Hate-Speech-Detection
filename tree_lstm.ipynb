{
  "nbformat": 4,
  "nbformat_minor": 0,
  "metadata": {
    "kernelspec": {
      "display_name": "Python 3",
      "language": "python",
      "name": "python3"
    },
    "language_info": {
      "codemirror_mode": {
        "name": "ipython",
        "version": 3
      },
      "file_extension": ".py",
      "mimetype": "text/x-python",
      "name": "python",
      "nbconvert_exporter": "python",
      "pygments_lexer": "ipython3",
      "version": "3.5.2"
    },
    "colab": {
      "name": "tree_lstm.ipynb",
      "provenance": [],
      "toc_visible": true
    },
    "accelerator": "GPU"
  },
  "cells": [
    {
      "cell_type": "code",
      "metadata": {
        "id": "oZzhBbG9HBqO",
        "outputId": "79bf621b-3fcc-429c-8623-f0341e485566",
        "colab": {
          "base_uri": "https://localhost:8080/"
        }
      },
      "source": [
        "!pip install PyDrive\n",
        "\n",
        "import os\n",
        "from pydrive.auth import GoogleAuth\n",
        "from pydrive.drive import GoogleDrive\n",
        "from google.colab import auth\n",
        "from oauth2client.client import GoogleCredentials\n",
        "\n",
        "auth.authenticate_user()\n",
        "gauth = GoogleAuth()\n",
        "gauth.credentials = GoogleCredentials.get_application_default()\n",
        "drive = GoogleDrive(gauth)"
      ],
      "execution_count": 22,
      "outputs": [
        {
          "output_type": "stream",
          "text": [
            "Requirement already satisfied: PyDrive in /usr/local/lib/python3.6/dist-packages (1.3.1)\n",
            "Requirement already satisfied: google-api-python-client>=1.2 in /usr/local/lib/python3.6/dist-packages (from PyDrive) (1.7.12)\n",
            "Requirement already satisfied: oauth2client>=4.0.0 in /usr/local/lib/python3.6/dist-packages (from PyDrive) (4.1.3)\n",
            "Requirement already satisfied: PyYAML>=3.0 in /usr/local/lib/python3.6/dist-packages (from PyDrive) (3.13)\n",
            "Requirement already satisfied: google-auth-httplib2>=0.0.3 in /usr/local/lib/python3.6/dist-packages (from google-api-python-client>=1.2->PyDrive) (0.0.4)\n",
            "Requirement already satisfied: six<2dev,>=1.6.1 in /usr/local/lib/python3.6/dist-packages (from google-api-python-client>=1.2->PyDrive) (1.15.0)\n",
            "Requirement already satisfied: httplib2<1dev,>=0.17.0 in /usr/local/lib/python3.6/dist-packages (from google-api-python-client>=1.2->PyDrive) (0.17.4)\n",
            "Requirement already satisfied: uritemplate<4dev,>=3.0.0 in /usr/local/lib/python3.6/dist-packages (from google-api-python-client>=1.2->PyDrive) (3.0.1)\n",
            "Requirement already satisfied: google-auth>=1.4.1 in /usr/local/lib/python3.6/dist-packages (from google-api-python-client>=1.2->PyDrive) (1.17.2)\n",
            "Requirement already satisfied: rsa>=3.1.4 in /usr/local/lib/python3.6/dist-packages (from oauth2client>=4.0.0->PyDrive) (4.6)\n",
            "Requirement already satisfied: pyasn1>=0.1.7 in /usr/local/lib/python3.6/dist-packages (from oauth2client>=4.0.0->PyDrive) (0.4.8)\n",
            "Requirement already satisfied: pyasn1-modules>=0.0.5 in /usr/local/lib/python3.6/dist-packages (from oauth2client>=4.0.0->PyDrive) (0.2.8)\n",
            "Requirement already satisfied: setuptools>=40.3.0 in /usr/local/lib/python3.6/dist-packages (from google-auth>=1.4.1->google-api-python-client>=1.2->PyDrive) (50.3.2)\n",
            "Requirement already satisfied: cachetools<5.0,>=2.0.0 in /usr/local/lib/python3.6/dist-packages (from google-auth>=1.4.1->google-api-python-client>=1.2->PyDrive) (4.1.1)\n"
          ],
          "name": "stdout"
        }
      ]
    },
    {
      "cell_type": "code",
      "metadata": {
        "id": "AhEVB-o4Ha5U",
        "outputId": "62540c46-7ef3-4646-9f31-54f48e768536",
        "colab": {
          "base_uri": "https://localhost:8080/"
        }
      },
      "source": [
        "from google.colab import drive\n",
        "drive.mount('/content/drive')"
      ],
      "execution_count": 35,
      "outputs": [
        {
          "output_type": "stream",
          "text": [
            "Drive already mounted at /content/drive; to attempt to forcibly remount, call drive.mount(\"/content/drive\", force_remount=True).\n"
          ],
          "name": "stdout"
        }
      ]
    },
    {
      "cell_type": "code",
      "metadata": {
        "id": "BFLmXNK7lCdW"
      },
      "source": [
        "from __future__ import division\n",
        "from __future__ import print_function\n",
        "\n",
        "import os\n",
        "import random\n",
        "\n",
        "import torch\n",
        "import torch.nn as nn\n",
        "import torch.optim as optim\n",
        "# IMPORT CONSTANTS\n",
        "from treelstm import Constants\n",
        "# NEURAL NETWORK MODULES/LAYERS\n",
        "# from treelstm import SimilarityTreeLSTM\n",
        "# DATA HANDLING CLASSES\n",
        "from treelstm import Vocab\n",
        "# DATASET CLASS FOR HATE DATASET\n",
        "from treelstm import HATEDataset\n",
        "# METRICS CLASS FOR EVALUATION\n",
        "from treelstm import Metrics\n",
        "# UTILITY FUNCTIONS\n",
        "from treelstm import utils\n",
        "# TRAIN AND TEST HELPER FUNCTIONS\n",
        "# CONFIG PARSER\n",
        "from config import parse_args\n",
        "\n",
        "from tqdm import tqdm\n",
        "\n",
        "import torch\n",
        "import torch.nn.functional as F\n",
        "\n"
      ],
      "execution_count": 51,
      "outputs": []
    },
    {
      "cell_type": "code",
      "metadata": {
        "id": "i28kINADlCd1"
      },
      "source": [
        "class ChildSumTreeLSTM(nn.Module):\n",
        "    def __init__(self, in_dim, mem_dim):\n",
        "        super(ChildSumTreeLSTM, self).__init__()\n",
        "        self.in_dim = in_dim\n",
        "        self.mem_dim = mem_dim\n",
        "        self.ioux = nn.Linear(self.in_dim, 3 * self.mem_dim)\n",
        "        self.iouh = nn.Linear(self.mem_dim, 3 * self.mem_dim)\n",
        "        self.fx = nn.Linear(self.in_dim, self.mem_dim)\n",
        "        self.fh = nn.Linear(self.mem_dim, self.mem_dim)\n",
        "\n",
        "    def node_forward(self, inputs, child_c, child_h):\n",
        "        child_h_sum = torch.sum(child_h, dim=0, keepdim=True)\n",
        "\n",
        "        iou = self.ioux(inputs) + self.iouh(child_h_sum)\n",
        "        i, o, u = torch.split(iou, iou.size(1) // 3, dim=1)\n",
        "        i, o, u = torch.sigmoid(i), torch.sigmoid(o), torch.tanh(u)\n",
        "\n",
        "        f = torch.sigmoid(\n",
        "            self.fh(child_h) +\n",
        "            self.fx(inputs).repeat(len(child_h), 1)\n",
        "        )\n",
        "        fc = torch.mul(f, child_c)\n",
        "\n",
        "        c = torch.mul(i, u) + torch.sum(fc, dim=0, keepdim=True)\n",
        "        h = torch.mul(o, torch.tanh(c))\n",
        "        return c, h\n",
        "\n",
        "    def forward(self, tree, inputs):\n",
        "        for idx in range(tree.num_children):\n",
        "            self.forward(tree.children[idx], inputs)\n",
        "\n",
        "        if tree.num_children == 0:\n",
        "            child_c = inputs[0].detach().new(1, self.mem_dim).fill_(0.).requires_grad_()\n",
        "            child_h = inputs[0].detach().new(1, self.mem_dim).fill_(0.).requires_grad_()\n",
        "        else:\n",
        "            child_c, child_h = zip(* map(lambda x: x.state, tree.children))\n",
        "            child_c, child_h = torch.cat(child_c, dim=0), torch.cat(child_h, dim=0)\n",
        "        tree.state = self.node_forward(inputs[tree.idx], child_c, child_h)\n",
        "        return tree.state\n",
        "\n",
        "\n",
        "class Predict(nn.Module):\n",
        "    \"\"\"docstring for Predict\"\"\"\n",
        "    def __init__(self, mem_dim,hidden_dim,num_classes):\n",
        "        super(Predict, self).__init__()\n",
        "        self.mem_dim = mem_dim\n",
        "        self.hidden_dim = hidden_dim \n",
        "        self.num_classes = num_classes\n",
        "        self.wh = nn.Linear(self.mem_dim, self.hidden_dim)\n",
        "        self.wp = nn.Linear(self.hidden_dim, self.num_classes)\n",
        "    def forward(self,vec):\n",
        "        out = F.relu(self.wh(vec))\n",
        "        out = self.wp(out)\n",
        "        return out\n",
        "\n",
        "\n",
        "\n",
        "# putting the whole model together\n",
        "class SimilarityTreeLSTM(nn.Module):\n",
        "    def __init__(self, vocab_size, in_dim, mem_dim, hidden_dim, num_classes, sparsity, freeze):\n",
        "        super(SimilarityTreeLSTM, self).__init__()\n",
        "        self.emb = nn.Embedding(vocab_size, in_dim, padding_idx=Constants.PAD, sparse=sparsity)\n",
        "        if freeze:\n",
        "            self.emb.weight.requires_grad = False\n",
        "        self.childsumtreelstm = ChildSumTreeLSTM(in_dim, mem_dim)\n",
        "        self.predict = Predict(mem_dim, hidden_dim, num_classes)\n",
        "\n",
        "    def forward(self, ltree, linputs):\n",
        "        linputs = self.emb(linputs)\n",
        "        lstate, lhidden = self.childsumtreelstm(ltree, linputs)\n",
        "        output = self.predict(lstate)\n",
        "        return output"
      ],
      "execution_count": 52,
      "outputs": []
    },
    {
      "cell_type": "code",
      "metadata": {
        "id": "zVYNCg17lCeC"
      },
      "source": [
        "class args_init():\n",
        "    def __init__(self):\n",
        "        self.seed=123\n",
        "        self.data='hate_data/'\n",
        "        self.glove='/content/drive/MyDrive/'\n",
        "        self.save='checkpoints/attention/'\n",
        "        self.expname='test'\n",
        "        self.input_dim=300\n",
        "        self.mem_dim=150\n",
        "        self.hidden_dim=50\n",
        "        self.num_classes=3\n",
        "        self.epochs=15\n",
        "        self.batch_size=15\n",
        "        self.lr=0.01\n",
        "        self.sparse=False\n",
        "        self.wd=1e-4\n",
        "        self.freeze_embed=False\n",
        "        self.optim='adagrad'\n",
        "        self.cuda=True"
      ],
      "execution_count": 53,
      "outputs": []
    },
    {
      "cell_type": "code",
      "metadata": {
        "id": "exXRhDFDlCeL"
      },
      "source": [
        "class Trainer(object):\n",
        "    def __init__(self, args, model, criterion, optimizer, device):\n",
        "        super(Trainer, self).__init__()\n",
        "        self.args = args\n",
        "        self.model = model\n",
        "        self.criterion = criterion\n",
        "        self.optimizer = optimizer\n",
        "        self.device = device\n",
        "        self.epoch = 0\n",
        "\n",
        "    # helper function for training\n",
        "    def train(self, dataset):\n",
        "        error_count=0\n",
        "        self.model.train()\n",
        "        self.optimizer.zero_grad()\n",
        "        total_loss = 0.0\n",
        "        indices = torch.randperm(len(dataset), dtype=torch.long, device='cpu')\n",
        "        for idx in range(len(dataset)):\n",
        "            tree, sentence, label, tweet = dataset[indices[idx]]\n",
        "            target = utils.map_label_to_target(label, 3)\n",
        "            sentence = sentence.to(self.device)\n",
        "            target = target.to(self.device)\n",
        "            output = self.model(tree, sentence)\n",
        "            loss = self.criterion(output, target)\n",
        "            total_loss += loss.item()\n",
        "            loss.backward()\n",
        "            if idx % self.args.batch_size == 0 and idx > 0:\n",
        "                self.optimizer.step()\n",
        "                self.optimizer.zero_grad()\n",
        "\n",
        "        self.epoch += 1\n",
        "        return total_loss / len(dataset)\n",
        "        \n",
        "    # helper function for testing\n",
        "    def test(self, dataset):\n",
        "        self.model.eval()\n",
        "        with torch.no_grad():\n",
        "            error_count=0\n",
        "            total_loss = 0.0\n",
        "            predictions = torch.zeros(len(dataset), dtype=torch.float, device='cpu')\n",
        "            accuracy=0\n",
        "            for idx in tqdm(range(len(dataset)), desc='Testing epoch  ' + str(self.epoch) + ''):\n",
        "                ltree, linput, label,tweet = dataset[idx]\n",
        "                target = utils.map_label_to_target(label, 3)\n",
        "                linput= linput.to(self.device)\n",
        "                target = target.to(self.device)\n",
        "                output = self.model(ltree, linput)\n",
        "                loss = self.criterion(output, target)\n",
        "                total_loss += loss.item()\n",
        "                output = output.squeeze().to('cpu')\n",
        "                predictions[idx] = torch.argmax(F.softmax(output))\n",
        "        return total_loss / len(dataset), predictions\n"
      ],
      "execution_count": 54,
      "outputs": []
    },
    {
      "cell_type": "code",
      "metadata": {
        "id": "XuZICD3blCeU"
      },
      "source": [
        "args=args_init()"
      ],
      "execution_count": 55,
      "outputs": []
    },
    {
      "cell_type": "code",
      "metadata": {
        "id": "H9M-O4SblCec",
        "outputId": "5ec528da-a1a9-4605-9727-bb99ac55a5ec",
        "colab": {
          "base_uri": "https://localhost:8080/"
        }
      },
      "source": [
        "\n",
        "# argument validation\n",
        "device = torch.device('cuda' if torch.cuda.is_available() else 'cpu')\n",
        "\n",
        "torch.manual_seed(args.seed)\n",
        "random.seed(args.seed)\n",
        "if args.cuda:\n",
        "    torch.cuda.manual_seed(args.seed)\n",
        "    torch.backends.cudnn.benchmark = True\n",
        "if not os.path.exists(args.save):\n",
        "    os.makedirs(args.save)\n",
        "\n",
        "train_dir = os.path.join(args.data, 'train/')\n",
        "dev_dir = os.path.join(args.data, 'dev/')\n",
        "test_dir = os.path.join(args.data, 'test/')\n",
        "\n",
        "# write unique words from all token files\n",
        "hate_vocab_file = os.path.join(args.data, 'hate.vocab')\n",
        "if not os.path.isfile(hate_vocab_file):\n",
        "    token_files = [os.path.join(split, 'data.toks') for split in [train_dir, dev_dir, test_dir]]\n",
        "\n",
        "    hate_vocab_file = os.path.join(args.data, 'hate.vocab')\n",
        "    utils.build_vocab(token_files, hate_vocab_file)\n",
        "\n",
        "# get vocab object from vocab file previously written\n",
        "vocab = Vocab(filename=hate_vocab_file,\n",
        "              data=[Constants.PAD_WORD, Constants.UNK_WORD,\n",
        "                    Constants.BOS_WORD, Constants.EOS_WORD])\n",
        "print('==> HATE vocabulary size : %d ' % vocab.size())\n",
        "\n",
        "# load HATE dataset splits\n",
        "train_file = os.path.join(args.data, 'hate_train.pth')\n",
        "if os.path.isfile(train_file):\n",
        "    train_dataset = torch.load(train_file)\n",
        "else:\n",
        "    train_dataset = HATEDataset(train_dir, vocab, args.num_classes)\n",
        "    torch.save(train_dataset, train_file)\n",
        "print('==> Size of train data   : %d ' % len(train_dataset))\n",
        "dev_file = os.path.join(args.data, 'hate_dev.pth')\n",
        "if os.path.isfile(dev_file):\n",
        "    dev_dataset = torch.load(dev_file)\n",
        "else:\n",
        "    dev_dataset = HATEDataset(dev_dir, vocab, args.num_classes)\n",
        "    torch.save(dev_dataset, dev_file)\n",
        "print('==> Size of dev data     : %d ' % len(dev_dataset))\n",
        "test_file = os.path.join(args.data, 'hate_test.pth')\n",
        "if os.path.isfile(test_file):\n",
        "    test_dataset = torch.load(test_file)\n",
        "else:\n",
        "    test_dataset = HATEDataset(test_dir, vocab, args.num_classes)\n",
        "    torch.save(test_dataset, test_file)\n",
        "print('==> Size of test data    : %d ' % len(test_dataset))"
      ],
      "execution_count": 56,
      "outputs": [
        {
          "output_type": "stream",
          "text": [
            "==> HATE vocabulary size : 35288 \n",
            "==> Size of train data   : 19826 \n",
            "==> Size of dev data     : 2478 \n",
            "==> Size of test data    : 2479 \n"
          ],
          "name": "stdout"
        }
      ]
    },
    {
      "cell_type": "markdown",
      "metadata": {
        "id": "ySnTFHnBlCek"
      },
      "source": [
        "## MODEL"
      ]
    },
    {
      "cell_type": "code",
      "metadata": {
        "id": "4_0wZphHlCel",
        "outputId": "83a31ccf-7fcb-4b94-b408-a6bc73c368c4",
        "colab": {
          "base_uri": "https://localhost:8080/"
        }
      },
      "source": [
        "model = SimilarityTreeLSTM(\n",
        "        vocab.size(),\n",
        "        args.input_dim,\n",
        "        args.mem_dim,\n",
        "        args.hidden_dim,\n",
        "        args.num_classes,\n",
        "        args.sparse,\n",
        "        args.freeze_embed)\n",
        "criterion =nn.BCEWithLogitsLoss()\n",
        "model.cuda()"
      ],
      "execution_count": 57,
      "outputs": [
        {
          "output_type": "execute_result",
          "data": {
            "text/plain": [
              "SimilarityTreeLSTM(\n",
              "  (emb): Embedding(35288, 300, padding_idx=0)\n",
              "  (childsumtreelstm): ChildSumTreeLSTM(\n",
              "    (ioux): Linear(in_features=300, out_features=450, bias=True)\n",
              "    (iouh): Linear(in_features=150, out_features=450, bias=True)\n",
              "    (fx): Linear(in_features=300, out_features=150, bias=True)\n",
              "    (fh): Linear(in_features=150, out_features=150, bias=True)\n",
              "  )\n",
              "  (predict): Predict(\n",
              "    (wh): Linear(in_features=150, out_features=50, bias=True)\n",
              "    (wp): Linear(in_features=50, out_features=3, bias=True)\n",
              "  )\n",
              ")"
            ]
          },
          "metadata": {
            "tags": []
          },
          "execution_count": 57
        }
      ]
    },
    {
      "cell_type": "code",
      "metadata": {
        "id": "62ggO651lCer"
      },
      "source": [
        "emb_file = os.path.join(args.data, 'hate_embed.pth')\n",
        "if os.path.isfile(emb_file):\n",
        "    emb = torch.load(emb_file)\n",
        "else:\n",
        "    print(\"ananya\")\n",
        "    # load glove embeddings and vocab\n",
        "    glove_vocab, glove_emb = utils.load_word_vectors(\n",
        "        os.path.join(args.glove, 'glove.840B.300d'))\n",
        "    print('==> GLOVE vocabulary size: %d ' % glove_vocab.size())\n",
        "    emb = torch.zeros(vocab.size(), glove_emb.size(1), dtype=torch.float, device=device)\n",
        "    emb.normal_(0, 0.05)\n",
        "    # zero out the embeddings for padding and other special words if they are absent in vocab\n",
        "    for idx, item in enumerate([Constants.PAD_WORD, Constants.UNK_WORD,\n",
        "                                Constants.BOS_WORD, Constants.EOS_WORD]):\n",
        "        emb[idx].zero_()\n",
        "    for word in vocab.labelToIdx.keys():\n",
        "        if glove_vocab.getIndex(word):\n",
        "            emb[vocab.getIndex(word)] = glove_emb[glove_vocab.getIndex(word)]\n",
        "    torch.save(emb, emb_file)\n",
        "# plug these into embedding matrix inside model\n",
        "model.emb.weight.data.copy_(emb)\n",
        "\n",
        "model.to(device), criterion.to(device)\n",
        "if args.optim == 'adam':\n",
        "    optimizer = optim.Adam(filter(lambda p: p.requires_grad,\n",
        "                                  model.parameters()), lr=args.lr, weight_decay=args.wd)\n",
        "elif args.optim == 'adagrad':\n",
        "    optimizer = optim.Adagrad(filter(lambda p: p.requires_grad,\n",
        "                                     model.parameters()), lr=args.lr, weight_decay=args.wd)\n",
        "elif args.optim == 'sgd':\n",
        "    optimizer = optim.SGD(filter(lambda p: p.requires_grad,\n",
        "                                 model.parameters()), lr=args.lr, weight_decay=args.wd)\n",
        "metrics = Metrics(args.num_classes)"
      ],
      "execution_count": 58,
      "outputs": []
    },
    {
      "cell_type": "markdown",
      "metadata": {
        "id": "pQZF47gPpOie"
      },
      "source": [
        "## Training the model"
      ]
    },
    {
      "cell_type": "code",
      "metadata": {
        "id": "FXEebpM3h3NI",
        "outputId": "38664afe-e9fb-4e33-b1d1-8f7a7acd4f09",
        "colab": {
          "base_uri": "https://localhost:8080/",
          "height": 361
        }
      },
      "source": [
        "# create trainer object for training and testing\n",
        "trainer = Trainer(args, model, criterion, optimizer, device)\n",
        "\n",
        "best = -float('inf')\n",
        "for epoch in range(args.epochs):\n",
        "    train_loss = trainer.train(train_dataset)\n",
        "    train_loss, train_pred = trainer.test(train_dataset)\n",
        "    dev_loss, dev_pred = trainer.test(dev_dataset)\n",
        "    test_loss, test_pred = trainer.test(test_dataset)\n",
        "\n",
        "    train_acc = metrics.accuracy(train_pred, train_dataset.labels)\n",
        "    train_pearson = metrics.pearson(train_pred, train_dataset.labels)\n",
        "    train_mse = metrics.mse(train_pred, train_dataset.labels)\n",
        "    train_f1 = metrics.mse(train_pred, train_dataset.labels)\n",
        "    print('==> Epoch {}, Train \\tLoss: {}\\tAccuracy: {}\\tPearson: {}\\tMSE: {}\\tF1: {}'.format(\n",
        "        epoch, train_loss, train_acc, train_pearson, train_mse,train_f1))\n",
        "    dev_acc = metrics.accuracy(dev_pred, dev_dataset.labels)\n",
        "    dev_pearson = metrics.pearson(dev_pred, dev_dataset.labels)\n",
        "    dev_mse = metrics.mse(dev_pred, dev_dataset.labels)\n",
        "    print('==> Epoch {}, Dev \\tLoss: {}\\tAccuracy: {}\\tPearson: {}\\tMSE: {}'.format(\n",
        "        epoch, dev_loss, dev_acc, dev_pearson, dev_mse))\n",
        "    test_acc = metrics.accuracy(test_pred, test_dataset.labels)\n",
        "    test_pearson = metrics.pearson(test_pred, test_dataset.labels)\n",
        "    test_mse = metrics.mse(test_pred, test_dataset.labels)\n",
        "    test_rec = metrics.recall(test_pred, test_dataset.labels)\n",
        "    test_f1 = metrics.f1(test_pred, test_dataset.labels)\n",
        "    print('==> Epoch {}, Test \\tLoss: {}\\tAccuracy: {}\\tPearson: {}\\tMSE: {}\\t Recall: {}\\t F1: {}'.format(\n",
        "        epoch, test_loss, test_acc, test_pearson, test_mse, test_rec, test_f1))"
      ],
      "execution_count": 67,
      "outputs": [
        {
          "output_type": "stream",
          "text": [
            "Testing epoch  1:   0%|          | 0/19826 [00:00<?, ?it/s]/usr/local/lib/python3.6/dist-packages/ipykernel_launcher.py:51: UserWarning: Implicit dimension choice for softmax has been deprecated. Change the call to include dim=X as an argument.\n",
            "Testing epoch  1: 100%|██████████| 19826/19826 [03:04<00:00, 107.72it/s]\n",
            "Testing epoch  1: 100%|██████████| 2478/2478 [00:22<00:00, 110.46it/s]\n",
            "Testing epoch  1: 100%|██████████| 2479/2479 [00:22<00:00, 108.32it/s]\n"
          ],
          "name": "stderr"
        },
        {
          "output_type": "stream",
          "text": [
            "==> Epoch 0, Train \tLoss: 0.0944246005025635\tAccuracy: 0.9505699586401695\tPearson: 0.8578209280967712\tMSE: 0.058660343289375305\tF1: 0.058660343289375305\n",
            "==> Epoch 0, Dev \tLoss: 0.15667790403545814\tAccuracy: 0.910411622276029\tPearson: 0.7313480377197266\tMSE: 0.11138014495372772\n"
          ],
          "name": "stdout"
        },
        {
          "output_type": "error",
          "ename": "AttributeError",
          "evalue": "ignored",
          "traceback": [
            "\u001b[0;31m---------------------------------------------------------------------------\u001b[0m",
            "\u001b[0;31mAttributeError\u001b[0m                            Traceback (most recent call last)",
            "\u001b[0;32m<ipython-input-67-17442c28d7c7>\u001b[0m in \u001b[0;36m<module>\u001b[0;34m()\u001b[0m\n\u001b[1;32m     23\u001b[0m     \u001b[0mtest_pearson\u001b[0m \u001b[0;34m=\u001b[0m \u001b[0mmetrics\u001b[0m\u001b[0;34m.\u001b[0m\u001b[0mpearson\u001b[0m\u001b[0;34m(\u001b[0m\u001b[0mtest_pred\u001b[0m\u001b[0;34m,\u001b[0m \u001b[0mtest_dataset\u001b[0m\u001b[0;34m.\u001b[0m\u001b[0mlabels\u001b[0m\u001b[0;34m)\u001b[0m\u001b[0;34m\u001b[0m\u001b[0;34m\u001b[0m\u001b[0m\n\u001b[1;32m     24\u001b[0m     \u001b[0mtest_mse\u001b[0m \u001b[0;34m=\u001b[0m \u001b[0mmetrics\u001b[0m\u001b[0;34m.\u001b[0m\u001b[0mmse\u001b[0m\u001b[0;34m(\u001b[0m\u001b[0mtest_pred\u001b[0m\u001b[0;34m,\u001b[0m \u001b[0mtest_dataset\u001b[0m\u001b[0;34m.\u001b[0m\u001b[0mlabels\u001b[0m\u001b[0;34m)\u001b[0m\u001b[0;34m\u001b[0m\u001b[0;34m\u001b[0m\u001b[0m\n\u001b[0;32m---> 25\u001b[0;31m     \u001b[0mtest_rec\u001b[0m \u001b[0;34m=\u001b[0m \u001b[0mmetrics\u001b[0m\u001b[0;34m.\u001b[0m\u001b[0mrecall\u001b[0m\u001b[0;34m(\u001b[0m\u001b[0mtest_pred\u001b[0m\u001b[0;34m,\u001b[0m \u001b[0mtest_dataset\u001b[0m\u001b[0;34m.\u001b[0m\u001b[0mlabels\u001b[0m\u001b[0;34m)\u001b[0m\u001b[0;34m\u001b[0m\u001b[0;34m\u001b[0m\u001b[0m\n\u001b[0m\u001b[1;32m     26\u001b[0m     \u001b[0mtest_f1\u001b[0m \u001b[0;34m=\u001b[0m \u001b[0mmetrics\u001b[0m\u001b[0;34m.\u001b[0m\u001b[0mf1\u001b[0m\u001b[0;34m(\u001b[0m\u001b[0mtest_pred\u001b[0m\u001b[0;34m,\u001b[0m \u001b[0mtest_dataset\u001b[0m\u001b[0;34m.\u001b[0m\u001b[0mlabels\u001b[0m\u001b[0;34m)\u001b[0m\u001b[0;34m\u001b[0m\u001b[0;34m\u001b[0m\u001b[0m\n\u001b[1;32m     27\u001b[0m     print('==> Epoch {}, Test \\tLoss: {}\\tAccuracy: {}\\tPearson: {}\\tMSE: {}\\t Recall: {}\\t F1: {}'.format(\n",
            "\u001b[0;31mAttributeError\u001b[0m: 'Metrics' object has no attribute 'recall'"
          ]
        }
      ]
    },
    {
      "cell_type": "code",
      "metadata": {
        "id": "Ae3zQMhpn6D6",
        "outputId": "83b9ff51-fabe-4809-81e7-a6f4202111cf",
        "colab": {
          "base_uri": "https://localhost:8080/"
        }
      },
      "source": [
        "#test_f1 = metrics.f1(test_pred, test_dataset.labels)\n",
        "print('==> Epoch {}, Test \\tLoss: {}\\tAccuracy: {}\\tPearson: {}\\tMSE: {}'.format(\n",
        "        epoch, test_loss, test_acc, test_pearson, test_mse))"
      ],
      "execution_count": 70,
      "outputs": [
        {
          "output_type": "stream",
          "text": [
            "==> Epoch 0, Test \tLoss: 0.16516757347616087\tAccuracy: 0.9160951996772893\tPearson: 0.7036624550819397\tMSE: 0.11173860728740692\n"
          ],
          "name": "stdout"
        }
      ]
    },
    {
      "cell_type": "markdown",
      "metadata": {
        "id": "pVJE5Y3GlCe2"
      },
      "source": [
        "## Running the model on test set"
      ]
    },
    {
      "cell_type": "code",
      "metadata": {
        "scrolled": true,
        "id": "aE17YaYylCe3",
        "outputId": "aa99c9b4-f284-4a0c-e9ee-7c42e601a0b2",
        "colab": {
          "base_uri": "https://localhost:8080/"
        }
      },
      "source": [
        "test_loss,predictions = trainer.test(test_dataset)\n"
      ],
      "execution_count": 72,
      "outputs": [
        {
          "output_type": "stream",
          "text": [
            "Testing epoch  0:   0%|          | 0/2479 [00:00<?, ?it/s]/usr/local/lib/python3.6/dist-packages/ipykernel_launcher.py:51: UserWarning: Implicit dimension choice for softmax has been deprecated. Change the call to include dim=X as an argument.\n",
            "Testing epoch  0: 100%|██████████| 2479/2479 [00:23<00:00, 106.74it/s]\n"
          ],
          "name": "stderr"
        }
      ]
    },
    {
      "cell_type": "markdown",
      "metadata": {
        "id": "HuGOo7gxlCe-"
      },
      "source": [
        "## Accuracy of the model"
      ]
    },
    {
      "cell_type": "code",
      "metadata": {
        "id": "C8_JTejClCe_"
      },
      "source": [
        "from sklearn.metrics import f1_score\n",
        "from sklearn.metrics import recall_score\n",
        "from sklearn.metrics import precision_score\n",
        "from sklearn.metrics import accuracy_score"
      ],
      "execution_count": 62,
      "outputs": []
    },
    {
      "cell_type": "code",
      "metadata": {
        "id": "VYnsptMwlCfF",
        "outputId": "da7af7eb-e153-4d2d-bffe-cb645b862498",
        "colab": {
          "base_uri": "https://localhost:8080/"
        }
      },
      "source": [
        "f = f1_score( test_dataset.labels,predictions, average='micro')\n",
        "print(\"F1 Score: \", f)\n",
        "p = precision_score(test_dataset.labels, predictions, average='micro')\n",
        "print(\"Precision Score: \", p)\n",
        "r = recall_score(test_dataset.labels, predictions, average='micro')\n",
        "print(\"Recall Score: \", r)\n",
        "a = accuracy_score(test_dataset.labels, predictions)\n",
        "print(\"Accuracy Score: \", a)"
      ],
      "execution_count": 73,
      "outputs": [
        {
          "output_type": "stream",
          "text": [
            "F1 Score:  0.9160951996772891\n",
            "Precision Score:  0.9160951996772893\n",
            "Recall Score:  0.9160951996772893\n",
            "Accuracy Score:  0.9160951996772893\n"
          ],
          "name": "stdout"
        }
      ]
    }
  ]
}